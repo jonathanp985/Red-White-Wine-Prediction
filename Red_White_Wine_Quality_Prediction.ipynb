{
  "cells": [
    {
      "cell_type": "markdown",
      "metadata": {
        "id": "foirQoft_jTM"
      },
      "source": [
        "### Export data to google colab"
      ]
    },
    {
      "cell_type": "code",
      "execution_count": 72,
      "metadata": {
        "colab": {
          "base_uri": "https://localhost:8080/"
        },
        "id": "FQcynOGFKADW",
        "outputId": "d810a75b-78fe-4452-a184-6d1b75931ff6"
      },
      "outputs": [
        {
          "name": "stdout",
          "output_type": "stream",
          "text": [
            "2.15.0\n"
          ]
        }
      ],
      "source": [
        "import tensorflow as tf\n",
        "import numpy as np\n",
        "import pandas as pd\n",
        "import matplotlib.pyplot as plt\n",
        "from tensorflow.keras.utils import plot_model\n",
        "print(tf.__version__)\n",
        "\n",
        "tf.random.set_seed(0)"
      ]
    },
    {
      "cell_type": "code",
      "execution_count": 73,
      "metadata": {
        "colab": {
          "base_uri": "https://localhost:8080/",
          "height": 223
        },
        "id": "XNW40XgPOEm6",
        "outputId": "6b7a56b6-41c4-4aa3-958d-12295fbbc79c"
      },
      "outputs": [
        {
          "data": {
            "application/vnd.google.colaboratory.intrinsic+json": {
              "summary": "{\n  \"name\": \"red_wine_raw\",\n  \"rows\": 1599,\n  \"fields\": [\n    {\n      \"column\": \"fixed acidity\",\n      \"properties\": {\n        \"dtype\": \"number\",\n        \"std\": 1.7410963181276953,\n        \"min\": 4.6,\n        \"max\": 15.9,\n        \"num_unique_values\": 96,\n        \"samples\": [\n          5.3,\n          12.7,\n          12.6\n        ],\n        \"semantic_type\": \"\",\n        \"description\": \"\"\n      }\n    },\n    {\n      \"column\": \"volatile acidity\",\n      \"properties\": {\n        \"dtype\": \"number\",\n        \"std\": 0.17905970415353537,\n        \"min\": 0.12,\n        \"max\": 1.58,\n        \"num_unique_values\": 143,\n        \"samples\": [\n          1.025,\n          0.4,\n          0.87\n        ],\n        \"semantic_type\": \"\",\n        \"description\": \"\"\n      }\n    },\n    {\n      \"column\": \"citric acid\",\n      \"properties\": {\n        \"dtype\": \"number\",\n        \"std\": 0.19480113740531857,\n        \"min\": 0.0,\n        \"max\": 1.0,\n        \"num_unique_values\": 80,\n        \"samples\": [\n          0.37,\n          0.0,\n          0.09\n        ],\n        \"semantic_type\": \"\",\n        \"description\": \"\"\n      }\n    },\n    {\n      \"column\": \"residual sugar\",\n      \"properties\": {\n        \"dtype\": \"number\",\n        \"std\": 1.4099280595072798,\n        \"min\": 0.9,\n        \"max\": 15.5,\n        \"num_unique_values\": 91,\n        \"samples\": [\n          11.0,\n          3.0,\n          15.5\n        ],\n        \"semantic_type\": \"\",\n        \"description\": \"\"\n      }\n    },\n    {\n      \"column\": \"chlorides\",\n      \"properties\": {\n        \"dtype\": \"number\",\n        \"std\": 0.0470653020100901,\n        \"min\": 0.012,\n        \"max\": 0.611,\n        \"num_unique_values\": 153,\n        \"samples\": [\n          0.096,\n          0.3429999999999999,\n          0.159\n        ],\n        \"semantic_type\": \"\",\n        \"description\": \"\"\n      }\n    },\n    {\n      \"column\": \"free sulfur dioxide\",\n      \"properties\": {\n        \"dtype\": \"number\",\n        \"std\": 10.460156969809725,\n        \"min\": 1.0,\n        \"max\": 72.0,\n        \"num_unique_values\": 60,\n        \"samples\": [\n          11.0,\n          9.0,\n          32.0\n        ],\n        \"semantic_type\": \"\",\n        \"description\": \"\"\n      }\n    },\n    {\n      \"column\": \"total sulfur dioxide\",\n      \"properties\": {\n        \"dtype\": \"number\",\n        \"std\": 32.895324478299074,\n        \"min\": 6.0,\n        \"max\": 289.0,\n        \"num_unique_values\": 144,\n        \"samples\": [\n          68.0,\n          35.0,\n          101.0\n        ],\n        \"semantic_type\": \"\",\n        \"description\": \"\"\n      }\n    },\n    {\n      \"column\": \"density\",\n      \"properties\": {\n        \"dtype\": \"number\",\n        \"std\": 0.0018873339538425554,\n        \"min\": 0.99007,\n        \"max\": 1.00369,\n        \"num_unique_values\": 436,\n        \"samples\": [\n          0.99974,\n          1.0001,\n          0.99471\n        ],\n        \"semantic_type\": \"\",\n        \"description\": \"\"\n      }\n    },\n    {\n      \"column\": \"pH\",\n      \"properties\": {\n        \"dtype\": \"number\",\n        \"std\": 0.15438646490354277,\n        \"min\": 2.74,\n        \"max\": 4.01,\n        \"num_unique_values\": 89,\n        \"samples\": [\n          3.07,\n          3.0,\n          3.15\n        ],\n        \"semantic_type\": \"\",\n        \"description\": \"\"\n      }\n    },\n    {\n      \"column\": \"sulphates\",\n      \"properties\": {\n        \"dtype\": \"number\",\n        \"std\": 0.16950697959010996,\n        \"min\": 0.33,\n        \"max\": 2.0,\n        \"num_unique_values\": 96,\n        \"samples\": [\n          1.07,\n          1.04,\n          1.18\n        ],\n        \"semantic_type\": \"\",\n        \"description\": \"\"\n      }\n    },\n    {\n      \"column\": \"alcohol\",\n      \"properties\": {\n        \"dtype\": \"number\",\n        \"std\": 1.0656675818473946,\n        \"min\": 8.4,\n        \"max\": 14.9,\n        \"num_unique_values\": 65,\n        \"samples\": [\n          8.5,\n          9.95,\n          9.4\n        ],\n        \"semantic_type\": \"\",\n        \"description\": \"\"\n      }\n    },\n    {\n      \"column\": \"quality\",\n      \"properties\": {\n        \"dtype\": \"number\",\n        \"std\": 0,\n        \"min\": 3,\n        \"max\": 8,\n        \"num_unique_values\": 6,\n        \"samples\": [\n          5,\n          6,\n          3\n        ],\n        \"semantic_type\": \"\",\n        \"description\": \"\"\n      }\n    }\n  ]\n}",
              "type": "dataframe",
              "variable_name": "red_wine_raw"
            },
            "text/html": [
              "\n",
              "  <div id=\"df-c669b568-5e6a-4651-9062-45550516bc0d\" class=\"colab-df-container\">\n",
              "    <div>\n",
              "<style scoped>\n",
              "    .dataframe tbody tr th:only-of-type {\n",
              "        vertical-align: middle;\n",
              "    }\n",
              "\n",
              "    .dataframe tbody tr th {\n",
              "        vertical-align: top;\n",
              "    }\n",
              "\n",
              "    .dataframe thead th {\n",
              "        text-align: right;\n",
              "    }\n",
              "</style>\n",
              "<table border=\"1\" class=\"dataframe\">\n",
              "  <thead>\n",
              "    <tr style=\"text-align: right;\">\n",
              "      <th></th>\n",
              "      <th>fixed acidity</th>\n",
              "      <th>volatile acidity</th>\n",
              "      <th>citric acid</th>\n",
              "      <th>residual sugar</th>\n",
              "      <th>chlorides</th>\n",
              "      <th>free sulfur dioxide</th>\n",
              "      <th>total sulfur dioxide</th>\n",
              "      <th>density</th>\n",
              "      <th>pH</th>\n",
              "      <th>sulphates</th>\n",
              "      <th>alcohol</th>\n",
              "      <th>quality</th>\n",
              "    </tr>\n",
              "  </thead>\n",
              "  <tbody>\n",
              "    <tr>\n",
              "      <th>0</th>\n",
              "      <td>7.4</td>\n",
              "      <td>0.70</td>\n",
              "      <td>0.00</td>\n",
              "      <td>1.9</td>\n",
              "      <td>0.076</td>\n",
              "      <td>11.0</td>\n",
              "      <td>34.0</td>\n",
              "      <td>0.9978</td>\n",
              "      <td>3.51</td>\n",
              "      <td>0.56</td>\n",
              "      <td>9.4</td>\n",
              "      <td>5</td>\n",
              "    </tr>\n",
              "    <tr>\n",
              "      <th>1</th>\n",
              "      <td>7.8</td>\n",
              "      <td>0.88</td>\n",
              "      <td>0.00</td>\n",
              "      <td>2.6</td>\n",
              "      <td>0.098</td>\n",
              "      <td>25.0</td>\n",
              "      <td>67.0</td>\n",
              "      <td>0.9968</td>\n",
              "      <td>3.20</td>\n",
              "      <td>0.68</td>\n",
              "      <td>9.8</td>\n",
              "      <td>5</td>\n",
              "    </tr>\n",
              "    <tr>\n",
              "      <th>2</th>\n",
              "      <td>7.8</td>\n",
              "      <td>0.76</td>\n",
              "      <td>0.04</td>\n",
              "      <td>2.3</td>\n",
              "      <td>0.092</td>\n",
              "      <td>15.0</td>\n",
              "      <td>54.0</td>\n",
              "      <td>0.9970</td>\n",
              "      <td>3.26</td>\n",
              "      <td>0.65</td>\n",
              "      <td>9.8</td>\n",
              "      <td>5</td>\n",
              "    </tr>\n",
              "    <tr>\n",
              "      <th>3</th>\n",
              "      <td>11.2</td>\n",
              "      <td>0.28</td>\n",
              "      <td>0.56</td>\n",
              "      <td>1.9</td>\n",
              "      <td>0.075</td>\n",
              "      <td>17.0</td>\n",
              "      <td>60.0</td>\n",
              "      <td>0.9980</td>\n",
              "      <td>3.16</td>\n",
              "      <td>0.58</td>\n",
              "      <td>9.8</td>\n",
              "      <td>6</td>\n",
              "    </tr>\n",
              "    <tr>\n",
              "      <th>4</th>\n",
              "      <td>7.4</td>\n",
              "      <td>0.70</td>\n",
              "      <td>0.00</td>\n",
              "      <td>1.9</td>\n",
              "      <td>0.076</td>\n",
              "      <td>11.0</td>\n",
              "      <td>34.0</td>\n",
              "      <td>0.9978</td>\n",
              "      <td>3.51</td>\n",
              "      <td>0.56</td>\n",
              "      <td>9.4</td>\n",
              "      <td>5</td>\n",
              "    </tr>\n",
              "  </tbody>\n",
              "</table>\n",
              "</div>\n",
              "    <div class=\"colab-df-buttons\">\n",
              "\n",
              "  <div class=\"colab-df-container\">\n",
              "    <button class=\"colab-df-convert\" onclick=\"convertToInteractive('df-c669b568-5e6a-4651-9062-45550516bc0d')\"\n",
              "            title=\"Convert this dataframe to an interactive table.\"\n",
              "            style=\"display:none;\">\n",
              "\n",
              "  <svg xmlns=\"http://www.w3.org/2000/svg\" height=\"24px\" viewBox=\"0 -960 960 960\">\n",
              "    <path d=\"M120-120v-720h720v720H120Zm60-500h600v-160H180v160Zm220 220h160v-160H400v160Zm0 220h160v-160H400v160ZM180-400h160v-160H180v160Zm440 0h160v-160H620v160ZM180-180h160v-160H180v160Zm440 0h160v-160H620v160Z\"/>\n",
              "  </svg>\n",
              "    </button>\n",
              "\n",
              "  <style>\n",
              "    .colab-df-container {\n",
              "      display:flex;\n",
              "      gap: 12px;\n",
              "    }\n",
              "\n",
              "    .colab-df-convert {\n",
              "      background-color: #E8F0FE;\n",
              "      border: none;\n",
              "      border-radius: 50%;\n",
              "      cursor: pointer;\n",
              "      display: none;\n",
              "      fill: #1967D2;\n",
              "      height: 32px;\n",
              "      padding: 0 0 0 0;\n",
              "      width: 32px;\n",
              "    }\n",
              "\n",
              "    .colab-df-convert:hover {\n",
              "      background-color: #E2EBFA;\n",
              "      box-shadow: 0px 1px 2px rgba(60, 64, 67, 0.3), 0px 1px 3px 1px rgba(60, 64, 67, 0.15);\n",
              "      fill: #174EA6;\n",
              "    }\n",
              "\n",
              "    .colab-df-buttons div {\n",
              "      margin-bottom: 4px;\n",
              "    }\n",
              "\n",
              "    [theme=dark] .colab-df-convert {\n",
              "      background-color: #3B4455;\n",
              "      fill: #D2E3FC;\n",
              "    }\n",
              "\n",
              "    [theme=dark] .colab-df-convert:hover {\n",
              "      background-color: #434B5C;\n",
              "      box-shadow: 0px 1px 3px 1px rgba(0, 0, 0, 0.15);\n",
              "      filter: drop-shadow(0px 1px 2px rgba(0, 0, 0, 0.3));\n",
              "      fill: #FFFFFF;\n",
              "    }\n",
              "  </style>\n",
              "\n",
              "    <script>\n",
              "      const buttonEl =\n",
              "        document.querySelector('#df-c669b568-5e6a-4651-9062-45550516bc0d button.colab-df-convert');\n",
              "      buttonEl.style.display =\n",
              "        google.colab.kernel.accessAllowed ? 'block' : 'none';\n",
              "\n",
              "      async function convertToInteractive(key) {\n",
              "        const element = document.querySelector('#df-c669b568-5e6a-4651-9062-45550516bc0d');\n",
              "        const dataTable =\n",
              "          await google.colab.kernel.invokeFunction('convertToInteractive',\n",
              "                                                    [key], {});\n",
              "        if (!dataTable) return;\n",
              "\n",
              "        const docLinkHtml = 'Like what you see? Visit the ' +\n",
              "          '<a target=\"_blank\" href=https://colab.research.google.com/notebooks/data_table.ipynb>data table notebook</a>'\n",
              "          + ' to learn more about interactive tables.';\n",
              "        element.innerHTML = '';\n",
              "        dataTable['output_type'] = 'display_data';\n",
              "        await google.colab.output.renderOutput(dataTable, element);\n",
              "        const docLink = document.createElement('div');\n",
              "        docLink.innerHTML = docLinkHtml;\n",
              "        element.appendChild(docLink);\n",
              "      }\n",
              "    </script>\n",
              "  </div>\n",
              "\n",
              "\n",
              "<div id=\"df-a95af421-7c64-48b5-a0a5-545a0d8c413d\">\n",
              "  <button class=\"colab-df-quickchart\" onclick=\"quickchart('df-a95af421-7c64-48b5-a0a5-545a0d8c413d')\"\n",
              "            title=\"Suggest charts\"\n",
              "            style=\"display:none;\">\n",
              "\n",
              "<svg xmlns=\"http://www.w3.org/2000/svg\" height=\"24px\"viewBox=\"0 0 24 24\"\n",
              "     width=\"24px\">\n",
              "    <g>\n",
              "        <path d=\"M19 3H5c-1.1 0-2 .9-2 2v14c0 1.1.9 2 2 2h14c1.1 0 2-.9 2-2V5c0-1.1-.9-2-2-2zM9 17H7v-7h2v7zm4 0h-2V7h2v10zm4 0h-2v-4h2v4z\"/>\n",
              "    </g>\n",
              "</svg>\n",
              "  </button>\n",
              "\n",
              "<style>\n",
              "  .colab-df-quickchart {\n",
              "      --bg-color: #E8F0FE;\n",
              "      --fill-color: #1967D2;\n",
              "      --hover-bg-color: #E2EBFA;\n",
              "      --hover-fill-color: #174EA6;\n",
              "      --disabled-fill-color: #AAA;\n",
              "      --disabled-bg-color: #DDD;\n",
              "  }\n",
              "\n",
              "  [theme=dark] .colab-df-quickchart {\n",
              "      --bg-color: #3B4455;\n",
              "      --fill-color: #D2E3FC;\n",
              "      --hover-bg-color: #434B5C;\n",
              "      --hover-fill-color: #FFFFFF;\n",
              "      --disabled-bg-color: #3B4455;\n",
              "      --disabled-fill-color: #666;\n",
              "  }\n",
              "\n",
              "  .colab-df-quickchart {\n",
              "    background-color: var(--bg-color);\n",
              "    border: none;\n",
              "    border-radius: 50%;\n",
              "    cursor: pointer;\n",
              "    display: none;\n",
              "    fill: var(--fill-color);\n",
              "    height: 32px;\n",
              "    padding: 0;\n",
              "    width: 32px;\n",
              "  }\n",
              "\n",
              "  .colab-df-quickchart:hover {\n",
              "    background-color: var(--hover-bg-color);\n",
              "    box-shadow: 0 1px 2px rgba(60, 64, 67, 0.3), 0 1px 3px 1px rgba(60, 64, 67, 0.15);\n",
              "    fill: var(--button-hover-fill-color);\n",
              "  }\n",
              "\n",
              "  .colab-df-quickchart-complete:disabled,\n",
              "  .colab-df-quickchart-complete:disabled:hover {\n",
              "    background-color: var(--disabled-bg-color);\n",
              "    fill: var(--disabled-fill-color);\n",
              "    box-shadow: none;\n",
              "  }\n",
              "\n",
              "  .colab-df-spinner {\n",
              "    border: 2px solid var(--fill-color);\n",
              "    border-color: transparent;\n",
              "    border-bottom-color: var(--fill-color);\n",
              "    animation:\n",
              "      spin 1s steps(1) infinite;\n",
              "  }\n",
              "\n",
              "  @keyframes spin {\n",
              "    0% {\n",
              "      border-color: transparent;\n",
              "      border-bottom-color: var(--fill-color);\n",
              "      border-left-color: var(--fill-color);\n",
              "    }\n",
              "    20% {\n",
              "      border-color: transparent;\n",
              "      border-left-color: var(--fill-color);\n",
              "      border-top-color: var(--fill-color);\n",
              "    }\n",
              "    30% {\n",
              "      border-color: transparent;\n",
              "      border-left-color: var(--fill-color);\n",
              "      border-top-color: var(--fill-color);\n",
              "      border-right-color: var(--fill-color);\n",
              "    }\n",
              "    40% {\n",
              "      border-color: transparent;\n",
              "      border-right-color: var(--fill-color);\n",
              "      border-top-color: var(--fill-color);\n",
              "    }\n",
              "    60% {\n",
              "      border-color: transparent;\n",
              "      border-right-color: var(--fill-color);\n",
              "    }\n",
              "    80% {\n",
              "      border-color: transparent;\n",
              "      border-right-color: var(--fill-color);\n",
              "      border-bottom-color: var(--fill-color);\n",
              "    }\n",
              "    90% {\n",
              "      border-color: transparent;\n",
              "      border-bottom-color: var(--fill-color);\n",
              "    }\n",
              "  }\n",
              "</style>\n",
              "\n",
              "  <script>\n",
              "    async function quickchart(key) {\n",
              "      const quickchartButtonEl =\n",
              "        document.querySelector('#' + key + ' button');\n",
              "      quickchartButtonEl.disabled = true;  // To prevent multiple clicks.\n",
              "      quickchartButtonEl.classList.add('colab-df-spinner');\n",
              "      try {\n",
              "        const charts = await google.colab.kernel.invokeFunction(\n",
              "            'suggestCharts', [key], {});\n",
              "      } catch (error) {\n",
              "        console.error('Error during call to suggestCharts:', error);\n",
              "      }\n",
              "      quickchartButtonEl.classList.remove('colab-df-spinner');\n",
              "      quickchartButtonEl.classList.add('colab-df-quickchart-complete');\n",
              "    }\n",
              "    (() => {\n",
              "      let quickchartButtonEl =\n",
              "        document.querySelector('#df-a95af421-7c64-48b5-a0a5-545a0d8c413d button');\n",
              "      quickchartButtonEl.style.display =\n",
              "        google.colab.kernel.accessAllowed ? 'block' : 'none';\n",
              "    })();\n",
              "  </script>\n",
              "</div>\n",
              "\n",
              "    </div>\n",
              "  </div>\n"
            ],
            "text/plain": [
              "   fixed acidity  volatile acidity  citric acid  residual sugar  chlorides  \\\n",
              "0            7.4              0.70         0.00             1.9      0.076   \n",
              "1            7.8              0.88         0.00             2.6      0.098   \n",
              "2            7.8              0.76         0.04             2.3      0.092   \n",
              "3           11.2              0.28         0.56             1.9      0.075   \n",
              "4            7.4              0.70         0.00             1.9      0.076   \n",
              "\n",
              "   free sulfur dioxide  total sulfur dioxide  density    pH  sulphates  \\\n",
              "0                 11.0                  34.0   0.9978  3.51       0.56   \n",
              "1                 25.0                  67.0   0.9968  3.20       0.68   \n",
              "2                 15.0                  54.0   0.9970  3.26       0.65   \n",
              "3                 17.0                  60.0   0.9980  3.16       0.58   \n",
              "4                 11.0                  34.0   0.9978  3.51       0.56   \n",
              "\n",
              "   alcohol  quality  \n",
              "0      9.4        5  \n",
              "1      9.8        5  \n",
              "2      9.8        5  \n",
              "3      9.8        6  \n",
              "4      9.4        5  "
            ]
          },
          "execution_count": 73,
          "metadata": {},
          "output_type": "execute_result"
        }
      ],
      "source": [
        "file = ('/content/drive/MyDrive/Data_Samples/Wine_Data/winequality-red.csv')\n",
        "\n",
        "red_wine_raw = pd.read_csv(file)\n",
        "red_wine_raw.head()"
      ]
    },
    {
      "cell_type": "code",
      "execution_count": 74,
      "metadata": {
        "colab": {
          "base_uri": "https://localhost:8080/",
          "height": 223
        },
        "id": "91Pd_erMLuQO",
        "outputId": "7d041ca4-fad2-4331-de7c-b9692b7a631f"
      },
      "outputs": [
        {
          "data": {
            "application/vnd.google.colaboratory.intrinsic+json": {
              "summary": "{\n  \"name\": \"white_wine_raw\",\n  \"rows\": 4898,\n  \"fields\": [\n    {\n      \"column\": \"fixed acidity\",\n      \"properties\": {\n        \"dtype\": \"number\",\n        \"std\": 0.843868227687513,\n        \"min\": 3.8,\n        \"max\": 14.2,\n        \"num_unique_values\": 68,\n        \"samples\": [\n          10.3,\n          5.8,\n          6.2\n        ],\n        \"semantic_type\": \"\",\n        \"description\": \"\"\n      }\n    },\n    {\n      \"column\": \"volatile acidity\",\n      \"properties\": {\n        \"dtype\": \"number\",\n        \"std\": 0.10079454842486534,\n        \"min\": 0.08,\n        \"max\": 1.1,\n        \"num_unique_values\": 125,\n        \"samples\": [\n          0.14,\n          0.595,\n          0.13\n        ],\n        \"semantic_type\": \"\",\n        \"description\": \"\"\n      }\n    },\n    {\n      \"column\": \"citric acid\",\n      \"properties\": {\n        \"dtype\": \"number\",\n        \"std\": 0.12101980420298249,\n        \"min\": 0.0,\n        \"max\": 1.66,\n        \"num_unique_values\": 87,\n        \"samples\": [\n          0.64,\n          0.36,\n          0.24\n        ],\n        \"semantic_type\": \"\",\n        \"description\": \"\"\n      }\n    },\n    {\n      \"column\": \"residual sugar\",\n      \"properties\": {\n        \"dtype\": \"number\",\n        \"std\": 5.072057784014881,\n        \"min\": 0.6,\n        \"max\": 65.8,\n        \"num_unique_values\": 310,\n        \"samples\": [\n          15.5,\n          19.25,\n          3.3\n        ],\n        \"semantic_type\": \"\",\n        \"description\": \"\"\n      }\n    },\n    {\n      \"column\": \"chlorides\",\n      \"properties\": {\n        \"dtype\": \"number\",\n        \"std\": 0.021847968093728798,\n        \"min\": 0.009,\n        \"max\": 0.346,\n        \"num_unique_values\": 160,\n        \"samples\": [\n          0.167,\n          0.133,\n          0.015\n        ],\n        \"semantic_type\": \"\",\n        \"description\": \"\"\n      }\n    },\n    {\n      \"column\": \"free sulfur dioxide\",\n      \"properties\": {\n        \"dtype\": \"number\",\n        \"std\": 17.00713732523259,\n        \"min\": 2.0,\n        \"max\": 289.0,\n        \"num_unique_values\": 132,\n        \"samples\": [\n          24.0,\n          122.5,\n          7.0\n        ],\n        \"semantic_type\": \"\",\n        \"description\": \"\"\n      }\n    },\n    {\n      \"column\": \"total sulfur dioxide\",\n      \"properties\": {\n        \"dtype\": \"number\",\n        \"std\": 42.49806455414291,\n        \"min\": 9.0,\n        \"max\": 440.0,\n        \"num_unique_values\": 251,\n        \"samples\": [\n          260.0,\n          63.0,\n          70.0\n        ],\n        \"semantic_type\": \"\",\n        \"description\": \"\"\n      }\n    },\n    {\n      \"column\": \"density\",\n      \"properties\": {\n        \"dtype\": \"number\",\n        \"std\": 0.0029909069169369337,\n        \"min\": 0.98711,\n        \"max\": 1.03898,\n        \"num_unique_values\": 890,\n        \"samples\": [\n          0.99362,\n          0.99388,\n          0.9929\n        ],\n        \"semantic_type\": \"\",\n        \"description\": \"\"\n      }\n    },\n    {\n      \"column\": \"pH\",\n      \"properties\": {\n        \"dtype\": \"number\",\n        \"std\": 0.1510005996150668,\n        \"min\": 2.72,\n        \"max\": 3.82,\n        \"num_unique_values\": 103,\n        \"samples\": [\n          3.34,\n          3.41,\n          3.49\n        ],\n        \"semantic_type\": \"\",\n        \"description\": \"\"\n      }\n    },\n    {\n      \"column\": \"sulphates\",\n      \"properties\": {\n        \"dtype\": \"number\",\n        \"std\": 0.1141258339488323,\n        \"min\": 0.22,\n        \"max\": 1.08,\n        \"num_unique_values\": 79,\n        \"samples\": [\n          0.41,\n          0.45,\n          0.46\n        ],\n        \"semantic_type\": \"\",\n        \"description\": \"\"\n      }\n    },\n    {\n      \"column\": \"alcohol\",\n      \"properties\": {\n        \"dtype\": \"number\",\n        \"std\": 1.230620567757318,\n        \"min\": 8.0,\n        \"max\": 14.2,\n        \"num_unique_values\": 103,\n        \"samples\": [\n          12.6,\n          11.3666666666667,\n          10.0333333333333\n        ],\n        \"semantic_type\": \"\",\n        \"description\": \"\"\n      }\n    },\n    {\n      \"column\": \"quality\",\n      \"properties\": {\n        \"dtype\": \"number\",\n        \"std\": 0,\n        \"min\": 3,\n        \"max\": 9,\n        \"num_unique_values\": 7,\n        \"samples\": [\n          6,\n          5,\n          3\n        ],\n        \"semantic_type\": \"\",\n        \"description\": \"\"\n      }\n    }\n  ]\n}",
              "type": "dataframe",
              "variable_name": "white_wine_raw"
            },
            "text/html": [
              "\n",
              "  <div id=\"df-3a9109f4-12e8-40b8-a9fe-985e5ab2ef67\" class=\"colab-df-container\">\n",
              "    <div>\n",
              "<style scoped>\n",
              "    .dataframe tbody tr th:only-of-type {\n",
              "        vertical-align: middle;\n",
              "    }\n",
              "\n",
              "    .dataframe tbody tr th {\n",
              "        vertical-align: top;\n",
              "    }\n",
              "\n",
              "    .dataframe thead th {\n",
              "        text-align: right;\n",
              "    }\n",
              "</style>\n",
              "<table border=\"1\" class=\"dataframe\">\n",
              "  <thead>\n",
              "    <tr style=\"text-align: right;\">\n",
              "      <th></th>\n",
              "      <th>fixed acidity</th>\n",
              "      <th>volatile acidity</th>\n",
              "      <th>citric acid</th>\n",
              "      <th>residual sugar</th>\n",
              "      <th>chlorides</th>\n",
              "      <th>free sulfur dioxide</th>\n",
              "      <th>total sulfur dioxide</th>\n",
              "      <th>density</th>\n",
              "      <th>pH</th>\n",
              "      <th>sulphates</th>\n",
              "      <th>alcohol</th>\n",
              "      <th>quality</th>\n",
              "    </tr>\n",
              "  </thead>\n",
              "  <tbody>\n",
              "    <tr>\n",
              "      <th>0</th>\n",
              "      <td>7.0</td>\n",
              "      <td>0.27</td>\n",
              "      <td>0.36</td>\n",
              "      <td>20.7</td>\n",
              "      <td>0.045</td>\n",
              "      <td>45.0</td>\n",
              "      <td>170.0</td>\n",
              "      <td>1.0010</td>\n",
              "      <td>3.00</td>\n",
              "      <td>0.45</td>\n",
              "      <td>8.8</td>\n",
              "      <td>6</td>\n",
              "    </tr>\n",
              "    <tr>\n",
              "      <th>1</th>\n",
              "      <td>6.3</td>\n",
              "      <td>0.30</td>\n",
              "      <td>0.34</td>\n",
              "      <td>1.6</td>\n",
              "      <td>0.049</td>\n",
              "      <td>14.0</td>\n",
              "      <td>132.0</td>\n",
              "      <td>0.9940</td>\n",
              "      <td>3.30</td>\n",
              "      <td>0.49</td>\n",
              "      <td>9.5</td>\n",
              "      <td>6</td>\n",
              "    </tr>\n",
              "    <tr>\n",
              "      <th>2</th>\n",
              "      <td>8.1</td>\n",
              "      <td>0.28</td>\n",
              "      <td>0.40</td>\n",
              "      <td>6.9</td>\n",
              "      <td>0.050</td>\n",
              "      <td>30.0</td>\n",
              "      <td>97.0</td>\n",
              "      <td>0.9951</td>\n",
              "      <td>3.26</td>\n",
              "      <td>0.44</td>\n",
              "      <td>10.1</td>\n",
              "      <td>6</td>\n",
              "    </tr>\n",
              "    <tr>\n",
              "      <th>3</th>\n",
              "      <td>7.2</td>\n",
              "      <td>0.23</td>\n",
              "      <td>0.32</td>\n",
              "      <td>8.5</td>\n",
              "      <td>0.058</td>\n",
              "      <td>47.0</td>\n",
              "      <td>186.0</td>\n",
              "      <td>0.9956</td>\n",
              "      <td>3.19</td>\n",
              "      <td>0.40</td>\n",
              "      <td>9.9</td>\n",
              "      <td>6</td>\n",
              "    </tr>\n",
              "    <tr>\n",
              "      <th>4</th>\n",
              "      <td>7.2</td>\n",
              "      <td>0.23</td>\n",
              "      <td>0.32</td>\n",
              "      <td>8.5</td>\n",
              "      <td>0.058</td>\n",
              "      <td>47.0</td>\n",
              "      <td>186.0</td>\n",
              "      <td>0.9956</td>\n",
              "      <td>3.19</td>\n",
              "      <td>0.40</td>\n",
              "      <td>9.9</td>\n",
              "      <td>6</td>\n",
              "    </tr>\n",
              "  </tbody>\n",
              "</table>\n",
              "</div>\n",
              "    <div class=\"colab-df-buttons\">\n",
              "\n",
              "  <div class=\"colab-df-container\">\n",
              "    <button class=\"colab-df-convert\" onclick=\"convertToInteractive('df-3a9109f4-12e8-40b8-a9fe-985e5ab2ef67')\"\n",
              "            title=\"Convert this dataframe to an interactive table.\"\n",
              "            style=\"display:none;\">\n",
              "\n",
              "  <svg xmlns=\"http://www.w3.org/2000/svg\" height=\"24px\" viewBox=\"0 -960 960 960\">\n",
              "    <path d=\"M120-120v-720h720v720H120Zm60-500h600v-160H180v160Zm220 220h160v-160H400v160Zm0 220h160v-160H400v160ZM180-400h160v-160H180v160Zm440 0h160v-160H620v160ZM180-180h160v-160H180v160Zm440 0h160v-160H620v160Z\"/>\n",
              "  </svg>\n",
              "    </button>\n",
              "\n",
              "  <style>\n",
              "    .colab-df-container {\n",
              "      display:flex;\n",
              "      gap: 12px;\n",
              "    }\n",
              "\n",
              "    .colab-df-convert {\n",
              "      background-color: #E8F0FE;\n",
              "      border: none;\n",
              "      border-radius: 50%;\n",
              "      cursor: pointer;\n",
              "      display: none;\n",
              "      fill: #1967D2;\n",
              "      height: 32px;\n",
              "      padding: 0 0 0 0;\n",
              "      width: 32px;\n",
              "    }\n",
              "\n",
              "    .colab-df-convert:hover {\n",
              "      background-color: #E2EBFA;\n",
              "      box-shadow: 0px 1px 2px rgba(60, 64, 67, 0.3), 0px 1px 3px 1px rgba(60, 64, 67, 0.15);\n",
              "      fill: #174EA6;\n",
              "    }\n",
              "\n",
              "    .colab-df-buttons div {\n",
              "      margin-bottom: 4px;\n",
              "    }\n",
              "\n",
              "    [theme=dark] .colab-df-convert {\n",
              "      background-color: #3B4455;\n",
              "      fill: #D2E3FC;\n",
              "    }\n",
              "\n",
              "    [theme=dark] .colab-df-convert:hover {\n",
              "      background-color: #434B5C;\n",
              "      box-shadow: 0px 1px 3px 1px rgba(0, 0, 0, 0.15);\n",
              "      filter: drop-shadow(0px 1px 2px rgba(0, 0, 0, 0.3));\n",
              "      fill: #FFFFFF;\n",
              "    }\n",
              "  </style>\n",
              "\n",
              "    <script>\n",
              "      const buttonEl =\n",
              "        document.querySelector('#df-3a9109f4-12e8-40b8-a9fe-985e5ab2ef67 button.colab-df-convert');\n",
              "      buttonEl.style.display =\n",
              "        google.colab.kernel.accessAllowed ? 'block' : 'none';\n",
              "\n",
              "      async function convertToInteractive(key) {\n",
              "        const element = document.querySelector('#df-3a9109f4-12e8-40b8-a9fe-985e5ab2ef67');\n",
              "        const dataTable =\n",
              "          await google.colab.kernel.invokeFunction('convertToInteractive',\n",
              "                                                    [key], {});\n",
              "        if (!dataTable) return;\n",
              "\n",
              "        const docLinkHtml = 'Like what you see? Visit the ' +\n",
              "          '<a target=\"_blank\" href=https://colab.research.google.com/notebooks/data_table.ipynb>data table notebook</a>'\n",
              "          + ' to learn more about interactive tables.';\n",
              "        element.innerHTML = '';\n",
              "        dataTable['output_type'] = 'display_data';\n",
              "        await google.colab.output.renderOutput(dataTable, element);\n",
              "        const docLink = document.createElement('div');\n",
              "        docLink.innerHTML = docLinkHtml;\n",
              "        element.appendChild(docLink);\n",
              "      }\n",
              "    </script>\n",
              "  </div>\n",
              "\n",
              "\n",
              "<div id=\"df-d5d8c401-7d71-4d0b-9150-5174f45b6667\">\n",
              "  <button class=\"colab-df-quickchart\" onclick=\"quickchart('df-d5d8c401-7d71-4d0b-9150-5174f45b6667')\"\n",
              "            title=\"Suggest charts\"\n",
              "            style=\"display:none;\">\n",
              "\n",
              "<svg xmlns=\"http://www.w3.org/2000/svg\" height=\"24px\"viewBox=\"0 0 24 24\"\n",
              "     width=\"24px\">\n",
              "    <g>\n",
              "        <path d=\"M19 3H5c-1.1 0-2 .9-2 2v14c0 1.1.9 2 2 2h14c1.1 0 2-.9 2-2V5c0-1.1-.9-2-2-2zM9 17H7v-7h2v7zm4 0h-2V7h2v10zm4 0h-2v-4h2v4z\"/>\n",
              "    </g>\n",
              "</svg>\n",
              "  </button>\n",
              "\n",
              "<style>\n",
              "  .colab-df-quickchart {\n",
              "      --bg-color: #E8F0FE;\n",
              "      --fill-color: #1967D2;\n",
              "      --hover-bg-color: #E2EBFA;\n",
              "      --hover-fill-color: #174EA6;\n",
              "      --disabled-fill-color: #AAA;\n",
              "      --disabled-bg-color: #DDD;\n",
              "  }\n",
              "\n",
              "  [theme=dark] .colab-df-quickchart {\n",
              "      --bg-color: #3B4455;\n",
              "      --fill-color: #D2E3FC;\n",
              "      --hover-bg-color: #434B5C;\n",
              "      --hover-fill-color: #FFFFFF;\n",
              "      --disabled-bg-color: #3B4455;\n",
              "      --disabled-fill-color: #666;\n",
              "  }\n",
              "\n",
              "  .colab-df-quickchart {\n",
              "    background-color: var(--bg-color);\n",
              "    border: none;\n",
              "    border-radius: 50%;\n",
              "    cursor: pointer;\n",
              "    display: none;\n",
              "    fill: var(--fill-color);\n",
              "    height: 32px;\n",
              "    padding: 0;\n",
              "    width: 32px;\n",
              "  }\n",
              "\n",
              "  .colab-df-quickchart:hover {\n",
              "    background-color: var(--hover-bg-color);\n",
              "    box-shadow: 0 1px 2px rgba(60, 64, 67, 0.3), 0 1px 3px 1px rgba(60, 64, 67, 0.15);\n",
              "    fill: var(--button-hover-fill-color);\n",
              "  }\n",
              "\n",
              "  .colab-df-quickchart-complete:disabled,\n",
              "  .colab-df-quickchart-complete:disabled:hover {\n",
              "    background-color: var(--disabled-bg-color);\n",
              "    fill: var(--disabled-fill-color);\n",
              "    box-shadow: none;\n",
              "  }\n",
              "\n",
              "  .colab-df-spinner {\n",
              "    border: 2px solid var(--fill-color);\n",
              "    border-color: transparent;\n",
              "    border-bottom-color: var(--fill-color);\n",
              "    animation:\n",
              "      spin 1s steps(1) infinite;\n",
              "  }\n",
              "\n",
              "  @keyframes spin {\n",
              "    0% {\n",
              "      border-color: transparent;\n",
              "      border-bottom-color: var(--fill-color);\n",
              "      border-left-color: var(--fill-color);\n",
              "    }\n",
              "    20% {\n",
              "      border-color: transparent;\n",
              "      border-left-color: var(--fill-color);\n",
              "      border-top-color: var(--fill-color);\n",
              "    }\n",
              "    30% {\n",
              "      border-color: transparent;\n",
              "      border-left-color: var(--fill-color);\n",
              "      border-top-color: var(--fill-color);\n",
              "      border-right-color: var(--fill-color);\n",
              "    }\n",
              "    40% {\n",
              "      border-color: transparent;\n",
              "      border-right-color: var(--fill-color);\n",
              "      border-top-color: var(--fill-color);\n",
              "    }\n",
              "    60% {\n",
              "      border-color: transparent;\n",
              "      border-right-color: var(--fill-color);\n",
              "    }\n",
              "    80% {\n",
              "      border-color: transparent;\n",
              "      border-right-color: var(--fill-color);\n",
              "      border-bottom-color: var(--fill-color);\n",
              "    }\n",
              "    90% {\n",
              "      border-color: transparent;\n",
              "      border-bottom-color: var(--fill-color);\n",
              "    }\n",
              "  }\n",
              "</style>\n",
              "\n",
              "  <script>\n",
              "    async function quickchart(key) {\n",
              "      const quickchartButtonEl =\n",
              "        document.querySelector('#' + key + ' button');\n",
              "      quickchartButtonEl.disabled = true;  // To prevent multiple clicks.\n",
              "      quickchartButtonEl.classList.add('colab-df-spinner');\n",
              "      try {\n",
              "        const charts = await google.colab.kernel.invokeFunction(\n",
              "            'suggestCharts', [key], {});\n",
              "      } catch (error) {\n",
              "        console.error('Error during call to suggestCharts:', error);\n",
              "      }\n",
              "      quickchartButtonEl.classList.remove('colab-df-spinner');\n",
              "      quickchartButtonEl.classList.add('colab-df-quickchart-complete');\n",
              "    }\n",
              "    (() => {\n",
              "      let quickchartButtonEl =\n",
              "        document.querySelector('#df-d5d8c401-7d71-4d0b-9150-5174f45b6667 button');\n",
              "      quickchartButtonEl.style.display =\n",
              "        google.colab.kernel.accessAllowed ? 'block' : 'none';\n",
              "    })();\n",
              "  </script>\n",
              "</div>\n",
              "\n",
              "    </div>\n",
              "  </div>\n"
            ],
            "text/plain": [
              "   fixed acidity  volatile acidity  citric acid  residual sugar  chlorides  \\\n",
              "0            7.0              0.27         0.36            20.7      0.045   \n",
              "1            6.3              0.30         0.34             1.6      0.049   \n",
              "2            8.1              0.28         0.40             6.9      0.050   \n",
              "3            7.2              0.23         0.32             8.5      0.058   \n",
              "4            7.2              0.23         0.32             8.5      0.058   \n",
              "\n",
              "   free sulfur dioxide  total sulfur dioxide  density    pH  sulphates  \\\n",
              "0                 45.0                 170.0   1.0010  3.00       0.45   \n",
              "1                 14.0                 132.0   0.9940  3.30       0.49   \n",
              "2                 30.0                  97.0   0.9951  3.26       0.44   \n",
              "3                 47.0                 186.0   0.9956  3.19       0.40   \n",
              "4                 47.0                 186.0   0.9956  3.19       0.40   \n",
              "\n",
              "   alcohol  quality  \n",
              "0      8.8        6  \n",
              "1      9.5        6  \n",
              "2     10.1        6  \n",
              "3      9.9        6  \n",
              "4      9.9        6  "
            ]
          },
          "execution_count": 74,
          "metadata": {},
          "output_type": "execute_result"
        }
      ],
      "source": [
        "file = ('/content/drive/MyDrive/Data_Samples/Wine_Data/winequality-white.xlsx')\n",
        "\n",
        "white_wine_raw = pd.read_excel(file)\n",
        "white_wine_raw.head()"
      ]
    },
    {
      "cell_type": "markdown",
      "metadata": {
        "id": "LiyjGxIk_3Ki"
      },
      "source": [
        "## Red Wine prediction model"
      ]
    },
    {
      "cell_type": "markdown",
      "metadata": {
        "id": "H24Z6KTG76S_"
      },
      "source": [
        "### Prepping data for model fitting"
      ]
    },
    {
      "cell_type": "code",
      "execution_count": 75,
      "metadata": {
        "colab": {
          "base_uri": "https://localhost:8080/",
          "height": 223
        },
        "id": "lh4MilAm_-dy",
        "outputId": "e3a0c9bd-3b21-4ec4-9957-39a3f6f134e8"
      },
      "outputs": [
        {
          "data": {
            "application/vnd.google.colaboratory.intrinsic+json": {
              "summary": "{\n  \"name\": \"red_wine_raw\",\n  \"rows\": 1599,\n  \"fields\": [\n    {\n      \"column\": \"fixed acidity\",\n      \"properties\": {\n        \"dtype\": \"number\",\n        \"std\": 1.7410963181276953,\n        \"min\": 4.6,\n        \"max\": 15.9,\n        \"num_unique_values\": 96,\n        \"samples\": [\n          5.3,\n          12.7,\n          12.6\n        ],\n        \"semantic_type\": \"\",\n        \"description\": \"\"\n      }\n    },\n    {\n      \"column\": \"volatile acidity\",\n      \"properties\": {\n        \"dtype\": \"number\",\n        \"std\": 0.17905970415353537,\n        \"min\": 0.12,\n        \"max\": 1.58,\n        \"num_unique_values\": 143,\n        \"samples\": [\n          1.025,\n          0.4,\n          0.87\n        ],\n        \"semantic_type\": \"\",\n        \"description\": \"\"\n      }\n    },\n    {\n      \"column\": \"citric acid\",\n      \"properties\": {\n        \"dtype\": \"number\",\n        \"std\": 0.19480113740531857,\n        \"min\": 0.0,\n        \"max\": 1.0,\n        \"num_unique_values\": 80,\n        \"samples\": [\n          0.37,\n          0.0,\n          0.09\n        ],\n        \"semantic_type\": \"\",\n        \"description\": \"\"\n      }\n    },\n    {\n      \"column\": \"residual sugar\",\n      \"properties\": {\n        \"dtype\": \"number\",\n        \"std\": 1.4099280595072798,\n        \"min\": 0.9,\n        \"max\": 15.5,\n        \"num_unique_values\": 91,\n        \"samples\": [\n          11.0,\n          3.0,\n          15.5\n        ],\n        \"semantic_type\": \"\",\n        \"description\": \"\"\n      }\n    },\n    {\n      \"column\": \"chlorides\",\n      \"properties\": {\n        \"dtype\": \"number\",\n        \"std\": 0.0470653020100901,\n        \"min\": 0.012,\n        \"max\": 0.611,\n        \"num_unique_values\": 153,\n        \"samples\": [\n          0.096,\n          0.3429999999999999,\n          0.159\n        ],\n        \"semantic_type\": \"\",\n        \"description\": \"\"\n      }\n    },\n    {\n      \"column\": \"free sulfur dioxide\",\n      \"properties\": {\n        \"dtype\": \"number\",\n        \"std\": 10.460156969809725,\n        \"min\": 1.0,\n        \"max\": 72.0,\n        \"num_unique_values\": 60,\n        \"samples\": [\n          11.0,\n          9.0,\n          32.0\n        ],\n        \"semantic_type\": \"\",\n        \"description\": \"\"\n      }\n    },\n    {\n      \"column\": \"total sulfur dioxide\",\n      \"properties\": {\n        \"dtype\": \"number\",\n        \"std\": 32.895324478299074,\n        \"min\": 6.0,\n        \"max\": 289.0,\n        \"num_unique_values\": 144,\n        \"samples\": [\n          68.0,\n          35.0,\n          101.0\n        ],\n        \"semantic_type\": \"\",\n        \"description\": \"\"\n      }\n    },\n    {\n      \"column\": \"density\",\n      \"properties\": {\n        \"dtype\": \"number\",\n        \"std\": 0.0018873339538425554,\n        \"min\": 0.99007,\n        \"max\": 1.00369,\n        \"num_unique_values\": 436,\n        \"samples\": [\n          0.99974,\n          1.0001,\n          0.99471\n        ],\n        \"semantic_type\": \"\",\n        \"description\": \"\"\n      }\n    },\n    {\n      \"column\": \"pH\",\n      \"properties\": {\n        \"dtype\": \"number\",\n        \"std\": 0.15438646490354277,\n        \"min\": 2.74,\n        \"max\": 4.01,\n        \"num_unique_values\": 89,\n        \"samples\": [\n          3.07,\n          3.0,\n          3.15\n        ],\n        \"semantic_type\": \"\",\n        \"description\": \"\"\n      }\n    },\n    {\n      \"column\": \"sulphates\",\n      \"properties\": {\n        \"dtype\": \"number\",\n        \"std\": 0.16950697959010996,\n        \"min\": 0.33,\n        \"max\": 2.0,\n        \"num_unique_values\": 96,\n        \"samples\": [\n          1.07,\n          1.04,\n          1.18\n        ],\n        \"semantic_type\": \"\",\n        \"description\": \"\"\n      }\n    },\n    {\n      \"column\": \"alcohol\",\n      \"properties\": {\n        \"dtype\": \"number\",\n        \"std\": 1.0656675818473946,\n        \"min\": 8.4,\n        \"max\": 14.9,\n        \"num_unique_values\": 65,\n        \"samples\": [\n          8.5,\n          9.95,\n          9.4\n        ],\n        \"semantic_type\": \"\",\n        \"description\": \"\"\n      }\n    },\n    {\n      \"column\": \"quality\",\n      \"properties\": {\n        \"dtype\": \"number\",\n        \"std\": 0,\n        \"min\": 3,\n        \"max\": 8,\n        \"num_unique_values\": 6,\n        \"samples\": [\n          5,\n          6,\n          3\n        ],\n        \"semantic_type\": \"\",\n        \"description\": \"\"\n      }\n    }\n  ]\n}",
              "type": "dataframe",
              "variable_name": "red_wine_raw"
            },
            "text/html": [
              "\n",
              "  <div id=\"df-798ffd89-6bb2-4916-a81e-8c10723c0cfb\" class=\"colab-df-container\">\n",
              "    <div>\n",
              "<style scoped>\n",
              "    .dataframe tbody tr th:only-of-type {\n",
              "        vertical-align: middle;\n",
              "    }\n",
              "\n",
              "    .dataframe tbody tr th {\n",
              "        vertical-align: top;\n",
              "    }\n",
              "\n",
              "    .dataframe thead th {\n",
              "        text-align: right;\n",
              "    }\n",
              "</style>\n",
              "<table border=\"1\" class=\"dataframe\">\n",
              "  <thead>\n",
              "    <tr style=\"text-align: right;\">\n",
              "      <th></th>\n",
              "      <th>fixed acidity</th>\n",
              "      <th>volatile acidity</th>\n",
              "      <th>citric acid</th>\n",
              "      <th>residual sugar</th>\n",
              "      <th>chlorides</th>\n",
              "      <th>free sulfur dioxide</th>\n",
              "      <th>total sulfur dioxide</th>\n",
              "      <th>density</th>\n",
              "      <th>pH</th>\n",
              "      <th>sulphates</th>\n",
              "      <th>alcohol</th>\n",
              "      <th>quality</th>\n",
              "    </tr>\n",
              "  </thead>\n",
              "  <tbody>\n",
              "    <tr>\n",
              "      <th>0</th>\n",
              "      <td>7.4</td>\n",
              "      <td>0.70</td>\n",
              "      <td>0.00</td>\n",
              "      <td>1.9</td>\n",
              "      <td>0.076</td>\n",
              "      <td>11.0</td>\n",
              "      <td>34.0</td>\n",
              "      <td>0.9978</td>\n",
              "      <td>3.51</td>\n",
              "      <td>0.56</td>\n",
              "      <td>9.4</td>\n",
              "      <td>5</td>\n",
              "    </tr>\n",
              "    <tr>\n",
              "      <th>1</th>\n",
              "      <td>7.8</td>\n",
              "      <td>0.88</td>\n",
              "      <td>0.00</td>\n",
              "      <td>2.6</td>\n",
              "      <td>0.098</td>\n",
              "      <td>25.0</td>\n",
              "      <td>67.0</td>\n",
              "      <td>0.9968</td>\n",
              "      <td>3.20</td>\n",
              "      <td>0.68</td>\n",
              "      <td>9.8</td>\n",
              "      <td>5</td>\n",
              "    </tr>\n",
              "    <tr>\n",
              "      <th>2</th>\n",
              "      <td>7.8</td>\n",
              "      <td>0.76</td>\n",
              "      <td>0.04</td>\n",
              "      <td>2.3</td>\n",
              "      <td>0.092</td>\n",
              "      <td>15.0</td>\n",
              "      <td>54.0</td>\n",
              "      <td>0.9970</td>\n",
              "      <td>3.26</td>\n",
              "      <td>0.65</td>\n",
              "      <td>9.8</td>\n",
              "      <td>5</td>\n",
              "    </tr>\n",
              "    <tr>\n",
              "      <th>3</th>\n",
              "      <td>11.2</td>\n",
              "      <td>0.28</td>\n",
              "      <td>0.56</td>\n",
              "      <td>1.9</td>\n",
              "      <td>0.075</td>\n",
              "      <td>17.0</td>\n",
              "      <td>60.0</td>\n",
              "      <td>0.9980</td>\n",
              "      <td>3.16</td>\n",
              "      <td>0.58</td>\n",
              "      <td>9.8</td>\n",
              "      <td>6</td>\n",
              "    </tr>\n",
              "    <tr>\n",
              "      <th>4</th>\n",
              "      <td>7.4</td>\n",
              "      <td>0.70</td>\n",
              "      <td>0.00</td>\n",
              "      <td>1.9</td>\n",
              "      <td>0.076</td>\n",
              "      <td>11.0</td>\n",
              "      <td>34.0</td>\n",
              "      <td>0.9978</td>\n",
              "      <td>3.51</td>\n",
              "      <td>0.56</td>\n",
              "      <td>9.4</td>\n",
              "      <td>5</td>\n",
              "    </tr>\n",
              "  </tbody>\n",
              "</table>\n",
              "</div>\n",
              "    <div class=\"colab-df-buttons\">\n",
              "\n",
              "  <div class=\"colab-df-container\">\n",
              "    <button class=\"colab-df-convert\" onclick=\"convertToInteractive('df-798ffd89-6bb2-4916-a81e-8c10723c0cfb')\"\n",
              "            title=\"Convert this dataframe to an interactive table.\"\n",
              "            style=\"display:none;\">\n",
              "\n",
              "  <svg xmlns=\"http://www.w3.org/2000/svg\" height=\"24px\" viewBox=\"0 -960 960 960\">\n",
              "    <path d=\"M120-120v-720h720v720H120Zm60-500h600v-160H180v160Zm220 220h160v-160H400v160Zm0 220h160v-160H400v160ZM180-400h160v-160H180v160Zm440 0h160v-160H620v160ZM180-180h160v-160H180v160Zm440 0h160v-160H620v160Z\"/>\n",
              "  </svg>\n",
              "    </button>\n",
              "\n",
              "  <style>\n",
              "    .colab-df-container {\n",
              "      display:flex;\n",
              "      gap: 12px;\n",
              "    }\n",
              "\n",
              "    .colab-df-convert {\n",
              "      background-color: #E8F0FE;\n",
              "      border: none;\n",
              "      border-radius: 50%;\n",
              "      cursor: pointer;\n",
              "      display: none;\n",
              "      fill: #1967D2;\n",
              "      height: 32px;\n",
              "      padding: 0 0 0 0;\n",
              "      width: 32px;\n",
              "    }\n",
              "\n",
              "    .colab-df-convert:hover {\n",
              "      background-color: #E2EBFA;\n",
              "      box-shadow: 0px 1px 2px rgba(60, 64, 67, 0.3), 0px 1px 3px 1px rgba(60, 64, 67, 0.15);\n",
              "      fill: #174EA6;\n",
              "    }\n",
              "\n",
              "    .colab-df-buttons div {\n",
              "      margin-bottom: 4px;\n",
              "    }\n",
              "\n",
              "    [theme=dark] .colab-df-convert {\n",
              "      background-color: #3B4455;\n",
              "      fill: #D2E3FC;\n",
              "    }\n",
              "\n",
              "    [theme=dark] .colab-df-convert:hover {\n",
              "      background-color: #434B5C;\n",
              "      box-shadow: 0px 1px 3px 1px rgba(0, 0, 0, 0.15);\n",
              "      filter: drop-shadow(0px 1px 2px rgba(0, 0, 0, 0.3));\n",
              "      fill: #FFFFFF;\n",
              "    }\n",
              "  </style>\n",
              "\n",
              "    <script>\n",
              "      const buttonEl =\n",
              "        document.querySelector('#df-798ffd89-6bb2-4916-a81e-8c10723c0cfb button.colab-df-convert');\n",
              "      buttonEl.style.display =\n",
              "        google.colab.kernel.accessAllowed ? 'block' : 'none';\n",
              "\n",
              "      async function convertToInteractive(key) {\n",
              "        const element = document.querySelector('#df-798ffd89-6bb2-4916-a81e-8c10723c0cfb');\n",
              "        const dataTable =\n",
              "          await google.colab.kernel.invokeFunction('convertToInteractive',\n",
              "                                                    [key], {});\n",
              "        if (!dataTable) return;\n",
              "\n",
              "        const docLinkHtml = 'Like what you see? Visit the ' +\n",
              "          '<a target=\"_blank\" href=https://colab.research.google.com/notebooks/data_table.ipynb>data table notebook</a>'\n",
              "          + ' to learn more about interactive tables.';\n",
              "        element.innerHTML = '';\n",
              "        dataTable['output_type'] = 'display_data';\n",
              "        await google.colab.output.renderOutput(dataTable, element);\n",
              "        const docLink = document.createElement('div');\n",
              "        docLink.innerHTML = docLinkHtml;\n",
              "        element.appendChild(docLink);\n",
              "      }\n",
              "    </script>\n",
              "  </div>\n",
              "\n",
              "\n",
              "<div id=\"df-19893f72-6b73-4a3d-87da-c8db84c612f7\">\n",
              "  <button class=\"colab-df-quickchart\" onclick=\"quickchart('df-19893f72-6b73-4a3d-87da-c8db84c612f7')\"\n",
              "            title=\"Suggest charts\"\n",
              "            style=\"display:none;\">\n",
              "\n",
              "<svg xmlns=\"http://www.w3.org/2000/svg\" height=\"24px\"viewBox=\"0 0 24 24\"\n",
              "     width=\"24px\">\n",
              "    <g>\n",
              "        <path d=\"M19 3H5c-1.1 0-2 .9-2 2v14c0 1.1.9 2 2 2h14c1.1 0 2-.9 2-2V5c0-1.1-.9-2-2-2zM9 17H7v-7h2v7zm4 0h-2V7h2v10zm4 0h-2v-4h2v4z\"/>\n",
              "    </g>\n",
              "</svg>\n",
              "  </button>\n",
              "\n",
              "<style>\n",
              "  .colab-df-quickchart {\n",
              "      --bg-color: #E8F0FE;\n",
              "      --fill-color: #1967D2;\n",
              "      --hover-bg-color: #E2EBFA;\n",
              "      --hover-fill-color: #174EA6;\n",
              "      --disabled-fill-color: #AAA;\n",
              "      --disabled-bg-color: #DDD;\n",
              "  }\n",
              "\n",
              "  [theme=dark] .colab-df-quickchart {\n",
              "      --bg-color: #3B4455;\n",
              "      --fill-color: #D2E3FC;\n",
              "      --hover-bg-color: #434B5C;\n",
              "      --hover-fill-color: #FFFFFF;\n",
              "      --disabled-bg-color: #3B4455;\n",
              "      --disabled-fill-color: #666;\n",
              "  }\n",
              "\n",
              "  .colab-df-quickchart {\n",
              "    background-color: var(--bg-color);\n",
              "    border: none;\n",
              "    border-radius: 50%;\n",
              "    cursor: pointer;\n",
              "    display: none;\n",
              "    fill: var(--fill-color);\n",
              "    height: 32px;\n",
              "    padding: 0;\n",
              "    width: 32px;\n",
              "  }\n",
              "\n",
              "  .colab-df-quickchart:hover {\n",
              "    background-color: var(--hover-bg-color);\n",
              "    box-shadow: 0 1px 2px rgba(60, 64, 67, 0.3), 0 1px 3px 1px rgba(60, 64, 67, 0.15);\n",
              "    fill: var(--button-hover-fill-color);\n",
              "  }\n",
              "\n",
              "  .colab-df-quickchart-complete:disabled,\n",
              "  .colab-df-quickchart-complete:disabled:hover {\n",
              "    background-color: var(--disabled-bg-color);\n",
              "    fill: var(--disabled-fill-color);\n",
              "    box-shadow: none;\n",
              "  }\n",
              "\n",
              "  .colab-df-spinner {\n",
              "    border: 2px solid var(--fill-color);\n",
              "    border-color: transparent;\n",
              "    border-bottom-color: var(--fill-color);\n",
              "    animation:\n",
              "      spin 1s steps(1) infinite;\n",
              "  }\n",
              "\n",
              "  @keyframes spin {\n",
              "    0% {\n",
              "      border-color: transparent;\n",
              "      border-bottom-color: var(--fill-color);\n",
              "      border-left-color: var(--fill-color);\n",
              "    }\n",
              "    20% {\n",
              "      border-color: transparent;\n",
              "      border-left-color: var(--fill-color);\n",
              "      border-top-color: var(--fill-color);\n",
              "    }\n",
              "    30% {\n",
              "      border-color: transparent;\n",
              "      border-left-color: var(--fill-color);\n",
              "      border-top-color: var(--fill-color);\n",
              "      border-right-color: var(--fill-color);\n",
              "    }\n",
              "    40% {\n",
              "      border-color: transparent;\n",
              "      border-right-color: var(--fill-color);\n",
              "      border-top-color: var(--fill-color);\n",
              "    }\n",
              "    60% {\n",
              "      border-color: transparent;\n",
              "      border-right-color: var(--fill-color);\n",
              "    }\n",
              "    80% {\n",
              "      border-color: transparent;\n",
              "      border-right-color: var(--fill-color);\n",
              "      border-bottom-color: var(--fill-color);\n",
              "    }\n",
              "    90% {\n",
              "      border-color: transparent;\n",
              "      border-bottom-color: var(--fill-color);\n",
              "    }\n",
              "  }\n",
              "</style>\n",
              "\n",
              "  <script>\n",
              "    async function quickchart(key) {\n",
              "      const quickchartButtonEl =\n",
              "        document.querySelector('#' + key + ' button');\n",
              "      quickchartButtonEl.disabled = true;  // To prevent multiple clicks.\n",
              "      quickchartButtonEl.classList.add('colab-df-spinner');\n",
              "      try {\n",
              "        const charts = await google.colab.kernel.invokeFunction(\n",
              "            'suggestCharts', [key], {});\n",
              "      } catch (error) {\n",
              "        console.error('Error during call to suggestCharts:', error);\n",
              "      }\n",
              "      quickchartButtonEl.classList.remove('colab-df-spinner');\n",
              "      quickchartButtonEl.classList.add('colab-df-quickchart-complete');\n",
              "    }\n",
              "    (() => {\n",
              "      let quickchartButtonEl =\n",
              "        document.querySelector('#df-19893f72-6b73-4a3d-87da-c8db84c612f7 button');\n",
              "      quickchartButtonEl.style.display =\n",
              "        google.colab.kernel.accessAllowed ? 'block' : 'none';\n",
              "    })();\n",
              "  </script>\n",
              "</div>\n",
              "\n",
              "    </div>\n",
              "  </div>\n"
            ],
            "text/plain": [
              "   fixed acidity  volatile acidity  citric acid  residual sugar  chlorides  \\\n",
              "0            7.4              0.70         0.00             1.9      0.076   \n",
              "1            7.8              0.88         0.00             2.6      0.098   \n",
              "2            7.8              0.76         0.04             2.3      0.092   \n",
              "3           11.2              0.28         0.56             1.9      0.075   \n",
              "4            7.4              0.70         0.00             1.9      0.076   \n",
              "\n",
              "   free sulfur dioxide  total sulfur dioxide  density    pH  sulphates  \\\n",
              "0                 11.0                  34.0   0.9978  3.51       0.56   \n",
              "1                 25.0                  67.0   0.9968  3.20       0.68   \n",
              "2                 15.0                  54.0   0.9970  3.26       0.65   \n",
              "3                 17.0                  60.0   0.9980  3.16       0.58   \n",
              "4                 11.0                  34.0   0.9978  3.51       0.56   \n",
              "\n",
              "   alcohol  quality  \n",
              "0      9.4        5  \n",
              "1      9.8        5  \n",
              "2      9.8        5  \n",
              "3      9.8        6  \n",
              "4      9.4        5  "
            ]
          },
          "execution_count": 75,
          "metadata": {},
          "output_type": "execute_result"
        }
      ],
      "source": [
        "red_wine_raw.head()"
      ]
    },
    {
      "cell_type": "code",
      "execution_count": 76,
      "metadata": {
        "id": "VpCLKqDEJ7j-"
      },
      "outputs": [],
      "source": [
        "red_wine_raw = red_wine_raw.dropna()"
      ]
    },
    {
      "cell_type": "code",
      "execution_count": 77,
      "metadata": {
        "colab": {
          "base_uri": "https://localhost:8080/"
        },
        "id": "NLZ8b3X_CSLn",
        "outputId": "013f0752-5202-4584-9726-b9d7bdd6522a"
      },
      "outputs": [
        {
          "data": {
            "text/plain": [
              "fixed acidity           0\n",
              "volatile acidity        0\n",
              "citric acid             0\n",
              "residual sugar          0\n",
              "chlorides               0\n",
              "free sulfur dioxide     0\n",
              "total sulfur dioxide    0\n",
              "density                 0\n",
              "pH                      0\n",
              "sulphates               0\n",
              "alcohol                 0\n",
              "quality                 0\n",
              "dtype: int64"
            ]
          },
          "execution_count": 77,
          "metadata": {},
          "output_type": "execute_result"
        }
      ],
      "source": [
        "red_wine_raw.isna().sum() # Check for any nan values"
      ]
    },
    {
      "cell_type": "code",
      "execution_count": 78,
      "metadata": {
        "colab": {
          "base_uri": "https://localhost:8080/"
        },
        "id": "o3b9OPFwCbrs",
        "outputId": "34af2875-0954-461a-b27c-7194d529a782"
      },
      "outputs": [
        {
          "data": {
            "text/plain": [
              "0       5\n",
              "1       5\n",
              "2       5\n",
              "3       6\n",
              "4       5\n",
              "       ..\n",
              "1594    5\n",
              "1595    6\n",
              "1596    6\n",
              "1597    5\n",
              "1598    6\n",
              "Name: quality, Length: 1599, dtype: int64"
            ]
          },
          "execution_count": 78,
          "metadata": {},
          "output_type": "execute_result"
        }
      ],
      "source": [
        "# Making features and labels\n",
        "red_wine_labels = red_wine_raw[\"quality\"]\n",
        "red_wine_labels"
      ]
    },
    {
      "cell_type": "code",
      "execution_count": 79,
      "metadata": {
        "colab": {
          "base_uri": "https://localhost:8080/",
          "height": 441
        },
        "id": "uOsIu6iwGqch",
        "outputId": "07c85baf-6e98-4dee-cbae-6cc0e3156ea0"
      },
      "outputs": [
        {
          "data": {
            "application/vnd.google.colaboratory.intrinsic+json": {
              "summary": "{\n  \"name\": \"red_wine_features\",\n  \"rows\": 1599,\n  \"fields\": [\n    {\n      \"column\": \"fixed acidity\",\n      \"properties\": {\n        \"dtype\": \"number\",\n        \"std\": 1.7410963181276953,\n        \"min\": 4.6,\n        \"max\": 15.9,\n        \"num_unique_values\": 96,\n        \"samples\": [\n          5.3,\n          12.7,\n          12.6\n        ],\n        \"semantic_type\": \"\",\n        \"description\": \"\"\n      }\n    },\n    {\n      \"column\": \"volatile acidity\",\n      \"properties\": {\n        \"dtype\": \"number\",\n        \"std\": 0.17905970415353537,\n        \"min\": 0.12,\n        \"max\": 1.58,\n        \"num_unique_values\": 143,\n        \"samples\": [\n          1.025,\n          0.4,\n          0.87\n        ],\n        \"semantic_type\": \"\",\n        \"description\": \"\"\n      }\n    },\n    {\n      \"column\": \"citric acid\",\n      \"properties\": {\n        \"dtype\": \"number\",\n        \"std\": 0.19480113740531857,\n        \"min\": 0.0,\n        \"max\": 1.0,\n        \"num_unique_values\": 80,\n        \"samples\": [\n          0.37,\n          0.0,\n          0.09\n        ],\n        \"semantic_type\": \"\",\n        \"description\": \"\"\n      }\n    },\n    {\n      \"column\": \"residual sugar\",\n      \"properties\": {\n        \"dtype\": \"number\",\n        \"std\": 1.4099280595072798,\n        \"min\": 0.9,\n        \"max\": 15.5,\n        \"num_unique_values\": 91,\n        \"samples\": [\n          11.0,\n          3.0,\n          15.5\n        ],\n        \"semantic_type\": \"\",\n        \"description\": \"\"\n      }\n    },\n    {\n      \"column\": \"chlorides\",\n      \"properties\": {\n        \"dtype\": \"number\",\n        \"std\": 0.0470653020100901,\n        \"min\": 0.012,\n        \"max\": 0.611,\n        \"num_unique_values\": 153,\n        \"samples\": [\n          0.096,\n          0.3429999999999999,\n          0.159\n        ],\n        \"semantic_type\": \"\",\n        \"description\": \"\"\n      }\n    },\n    {\n      \"column\": \"free sulfur dioxide\",\n      \"properties\": {\n        \"dtype\": \"number\",\n        \"std\": 10.460156969809725,\n        \"min\": 1.0,\n        \"max\": 72.0,\n        \"num_unique_values\": 60,\n        \"samples\": [\n          11.0,\n          9.0,\n          32.0\n        ],\n        \"semantic_type\": \"\",\n        \"description\": \"\"\n      }\n    },\n    {\n      \"column\": \"total sulfur dioxide\",\n      \"properties\": {\n        \"dtype\": \"number\",\n        \"std\": 32.895324478299074,\n        \"min\": 6.0,\n        \"max\": 289.0,\n        \"num_unique_values\": 144,\n        \"samples\": [\n          68.0,\n          35.0,\n          101.0\n        ],\n        \"semantic_type\": \"\",\n        \"description\": \"\"\n      }\n    },\n    {\n      \"column\": \"density\",\n      \"properties\": {\n        \"dtype\": \"number\",\n        \"std\": 0.0018873339538425554,\n        \"min\": 0.99007,\n        \"max\": 1.00369,\n        \"num_unique_values\": 436,\n        \"samples\": [\n          0.99974,\n          1.0001,\n          0.99471\n        ],\n        \"semantic_type\": \"\",\n        \"description\": \"\"\n      }\n    },\n    {\n      \"column\": \"pH\",\n      \"properties\": {\n        \"dtype\": \"number\",\n        \"std\": 0.15438646490354277,\n        \"min\": 2.74,\n        \"max\": 4.01,\n        \"num_unique_values\": 89,\n        \"samples\": [\n          3.07,\n          3.0,\n          3.15\n        ],\n        \"semantic_type\": \"\",\n        \"description\": \"\"\n      }\n    },\n    {\n      \"column\": \"sulphates\",\n      \"properties\": {\n        \"dtype\": \"number\",\n        \"std\": 0.16950697959010996,\n        \"min\": 0.33,\n        \"max\": 2.0,\n        \"num_unique_values\": 96,\n        \"samples\": [\n          1.07,\n          1.04,\n          1.18\n        ],\n        \"semantic_type\": \"\",\n        \"description\": \"\"\n      }\n    },\n    {\n      \"column\": \"alcohol\",\n      \"properties\": {\n        \"dtype\": \"number\",\n        \"std\": 1.0656675818473946,\n        \"min\": 8.4,\n        \"max\": 14.9,\n        \"num_unique_values\": 65,\n        \"samples\": [\n          8.5,\n          9.95,\n          9.4\n        ],\n        \"semantic_type\": \"\",\n        \"description\": \"\"\n      }\n    }\n  ]\n}",
              "type": "dataframe",
              "variable_name": "red_wine_features"
            },
            "text/html": [
              "\n",
              "  <div id=\"df-1ae67497-06da-41eb-969c-92d29b0c378f\" class=\"colab-df-container\">\n",
              "    <div>\n",
              "<style scoped>\n",
              "    .dataframe tbody tr th:only-of-type {\n",
              "        vertical-align: middle;\n",
              "    }\n",
              "\n",
              "    .dataframe tbody tr th {\n",
              "        vertical-align: top;\n",
              "    }\n",
              "\n",
              "    .dataframe thead th {\n",
              "        text-align: right;\n",
              "    }\n",
              "</style>\n",
              "<table border=\"1\" class=\"dataframe\">\n",
              "  <thead>\n",
              "    <tr style=\"text-align: right;\">\n",
              "      <th></th>\n",
              "      <th>fixed acidity</th>\n",
              "      <th>volatile acidity</th>\n",
              "      <th>citric acid</th>\n",
              "      <th>residual sugar</th>\n",
              "      <th>chlorides</th>\n",
              "      <th>free sulfur dioxide</th>\n",
              "      <th>total sulfur dioxide</th>\n",
              "      <th>density</th>\n",
              "      <th>pH</th>\n",
              "      <th>sulphates</th>\n",
              "      <th>alcohol</th>\n",
              "    </tr>\n",
              "  </thead>\n",
              "  <tbody>\n",
              "    <tr>\n",
              "      <th>0</th>\n",
              "      <td>7.4</td>\n",
              "      <td>0.700</td>\n",
              "      <td>0.00</td>\n",
              "      <td>1.9</td>\n",
              "      <td>0.076</td>\n",
              "      <td>11.0</td>\n",
              "      <td>34.0</td>\n",
              "      <td>0.99780</td>\n",
              "      <td>3.51</td>\n",
              "      <td>0.56</td>\n",
              "      <td>9.4</td>\n",
              "    </tr>\n",
              "    <tr>\n",
              "      <th>1</th>\n",
              "      <td>7.8</td>\n",
              "      <td>0.880</td>\n",
              "      <td>0.00</td>\n",
              "      <td>2.6</td>\n",
              "      <td>0.098</td>\n",
              "      <td>25.0</td>\n",
              "      <td>67.0</td>\n",
              "      <td>0.99680</td>\n",
              "      <td>3.20</td>\n",
              "      <td>0.68</td>\n",
              "      <td>9.8</td>\n",
              "    </tr>\n",
              "    <tr>\n",
              "      <th>2</th>\n",
              "      <td>7.8</td>\n",
              "      <td>0.760</td>\n",
              "      <td>0.04</td>\n",
              "      <td>2.3</td>\n",
              "      <td>0.092</td>\n",
              "      <td>15.0</td>\n",
              "      <td>54.0</td>\n",
              "      <td>0.99700</td>\n",
              "      <td>3.26</td>\n",
              "      <td>0.65</td>\n",
              "      <td>9.8</td>\n",
              "    </tr>\n",
              "    <tr>\n",
              "      <th>3</th>\n",
              "      <td>11.2</td>\n",
              "      <td>0.280</td>\n",
              "      <td>0.56</td>\n",
              "      <td>1.9</td>\n",
              "      <td>0.075</td>\n",
              "      <td>17.0</td>\n",
              "      <td>60.0</td>\n",
              "      <td>0.99800</td>\n",
              "      <td>3.16</td>\n",
              "      <td>0.58</td>\n",
              "      <td>9.8</td>\n",
              "    </tr>\n",
              "    <tr>\n",
              "      <th>4</th>\n",
              "      <td>7.4</td>\n",
              "      <td>0.700</td>\n",
              "      <td>0.00</td>\n",
              "      <td>1.9</td>\n",
              "      <td>0.076</td>\n",
              "      <td>11.0</td>\n",
              "      <td>34.0</td>\n",
              "      <td>0.99780</td>\n",
              "      <td>3.51</td>\n",
              "      <td>0.56</td>\n",
              "      <td>9.4</td>\n",
              "    </tr>\n",
              "    <tr>\n",
              "      <th>...</th>\n",
              "      <td>...</td>\n",
              "      <td>...</td>\n",
              "      <td>...</td>\n",
              "      <td>...</td>\n",
              "      <td>...</td>\n",
              "      <td>...</td>\n",
              "      <td>...</td>\n",
              "      <td>...</td>\n",
              "      <td>...</td>\n",
              "      <td>...</td>\n",
              "      <td>...</td>\n",
              "    </tr>\n",
              "    <tr>\n",
              "      <th>1594</th>\n",
              "      <td>6.2</td>\n",
              "      <td>0.600</td>\n",
              "      <td>0.08</td>\n",
              "      <td>2.0</td>\n",
              "      <td>0.090</td>\n",
              "      <td>32.0</td>\n",
              "      <td>44.0</td>\n",
              "      <td>0.99490</td>\n",
              "      <td>3.45</td>\n",
              "      <td>0.58</td>\n",
              "      <td>10.5</td>\n",
              "    </tr>\n",
              "    <tr>\n",
              "      <th>1595</th>\n",
              "      <td>5.9</td>\n",
              "      <td>0.550</td>\n",
              "      <td>0.10</td>\n",
              "      <td>2.2</td>\n",
              "      <td>0.062</td>\n",
              "      <td>39.0</td>\n",
              "      <td>51.0</td>\n",
              "      <td>0.99512</td>\n",
              "      <td>3.52</td>\n",
              "      <td>0.76</td>\n",
              "      <td>11.2</td>\n",
              "    </tr>\n",
              "    <tr>\n",
              "      <th>1596</th>\n",
              "      <td>6.3</td>\n",
              "      <td>0.510</td>\n",
              "      <td>0.13</td>\n",
              "      <td>2.3</td>\n",
              "      <td>0.076</td>\n",
              "      <td>29.0</td>\n",
              "      <td>40.0</td>\n",
              "      <td>0.99574</td>\n",
              "      <td>3.42</td>\n",
              "      <td>0.75</td>\n",
              "      <td>11.0</td>\n",
              "    </tr>\n",
              "    <tr>\n",
              "      <th>1597</th>\n",
              "      <td>5.9</td>\n",
              "      <td>0.645</td>\n",
              "      <td>0.12</td>\n",
              "      <td>2.0</td>\n",
              "      <td>0.075</td>\n",
              "      <td>32.0</td>\n",
              "      <td>44.0</td>\n",
              "      <td>0.99547</td>\n",
              "      <td>3.57</td>\n",
              "      <td>0.71</td>\n",
              "      <td>10.2</td>\n",
              "    </tr>\n",
              "    <tr>\n",
              "      <th>1598</th>\n",
              "      <td>6.0</td>\n",
              "      <td>0.310</td>\n",
              "      <td>0.47</td>\n",
              "      <td>3.6</td>\n",
              "      <td>0.067</td>\n",
              "      <td>18.0</td>\n",
              "      <td>42.0</td>\n",
              "      <td>0.99549</td>\n",
              "      <td>3.39</td>\n",
              "      <td>0.66</td>\n",
              "      <td>11.0</td>\n",
              "    </tr>\n",
              "  </tbody>\n",
              "</table>\n",
              "<p>1599 rows × 11 columns</p>\n",
              "</div>\n",
              "    <div class=\"colab-df-buttons\">\n",
              "\n",
              "  <div class=\"colab-df-container\">\n",
              "    <button class=\"colab-df-convert\" onclick=\"convertToInteractive('df-1ae67497-06da-41eb-969c-92d29b0c378f')\"\n",
              "            title=\"Convert this dataframe to an interactive table.\"\n",
              "            style=\"display:none;\">\n",
              "\n",
              "  <svg xmlns=\"http://www.w3.org/2000/svg\" height=\"24px\" viewBox=\"0 -960 960 960\">\n",
              "    <path d=\"M120-120v-720h720v720H120Zm60-500h600v-160H180v160Zm220 220h160v-160H400v160Zm0 220h160v-160H400v160ZM180-400h160v-160H180v160Zm440 0h160v-160H620v160ZM180-180h160v-160H180v160Zm440 0h160v-160H620v160Z\"/>\n",
              "  </svg>\n",
              "    </button>\n",
              "\n",
              "  <style>\n",
              "    .colab-df-container {\n",
              "      display:flex;\n",
              "      gap: 12px;\n",
              "    }\n",
              "\n",
              "    .colab-df-convert {\n",
              "      background-color: #E8F0FE;\n",
              "      border: none;\n",
              "      border-radius: 50%;\n",
              "      cursor: pointer;\n",
              "      display: none;\n",
              "      fill: #1967D2;\n",
              "      height: 32px;\n",
              "      padding: 0 0 0 0;\n",
              "      width: 32px;\n",
              "    }\n",
              "\n",
              "    .colab-df-convert:hover {\n",
              "      background-color: #E2EBFA;\n",
              "      box-shadow: 0px 1px 2px rgba(60, 64, 67, 0.3), 0px 1px 3px 1px rgba(60, 64, 67, 0.15);\n",
              "      fill: #174EA6;\n",
              "    }\n",
              "\n",
              "    .colab-df-buttons div {\n",
              "      margin-bottom: 4px;\n",
              "    }\n",
              "\n",
              "    [theme=dark] .colab-df-convert {\n",
              "      background-color: #3B4455;\n",
              "      fill: #D2E3FC;\n",
              "    }\n",
              "\n",
              "    [theme=dark] .colab-df-convert:hover {\n",
              "      background-color: #434B5C;\n",
              "      box-shadow: 0px 1px 3px 1px rgba(0, 0, 0, 0.15);\n",
              "      filter: drop-shadow(0px 1px 2px rgba(0, 0, 0, 0.3));\n",
              "      fill: #FFFFFF;\n",
              "    }\n",
              "  </style>\n",
              "\n",
              "    <script>\n",
              "      const buttonEl =\n",
              "        document.querySelector('#df-1ae67497-06da-41eb-969c-92d29b0c378f button.colab-df-convert');\n",
              "      buttonEl.style.display =\n",
              "        google.colab.kernel.accessAllowed ? 'block' : 'none';\n",
              "\n",
              "      async function convertToInteractive(key) {\n",
              "        const element = document.querySelector('#df-1ae67497-06da-41eb-969c-92d29b0c378f');\n",
              "        const dataTable =\n",
              "          await google.colab.kernel.invokeFunction('convertToInteractive',\n",
              "                                                    [key], {});\n",
              "        if (!dataTable) return;\n",
              "\n",
              "        const docLinkHtml = 'Like what you see? Visit the ' +\n",
              "          '<a target=\"_blank\" href=https://colab.research.google.com/notebooks/data_table.ipynb>data table notebook</a>'\n",
              "          + ' to learn more about interactive tables.';\n",
              "        element.innerHTML = '';\n",
              "        dataTable['output_type'] = 'display_data';\n",
              "        await google.colab.output.renderOutput(dataTable, element);\n",
              "        const docLink = document.createElement('div');\n",
              "        docLink.innerHTML = docLinkHtml;\n",
              "        element.appendChild(docLink);\n",
              "      }\n",
              "    </script>\n",
              "  </div>\n",
              "\n",
              "\n",
              "<div id=\"df-9df19cce-ef42-40bb-b764-857de7bc895d\">\n",
              "  <button class=\"colab-df-quickchart\" onclick=\"quickchart('df-9df19cce-ef42-40bb-b764-857de7bc895d')\"\n",
              "            title=\"Suggest charts\"\n",
              "            style=\"display:none;\">\n",
              "\n",
              "<svg xmlns=\"http://www.w3.org/2000/svg\" height=\"24px\"viewBox=\"0 0 24 24\"\n",
              "     width=\"24px\">\n",
              "    <g>\n",
              "        <path d=\"M19 3H5c-1.1 0-2 .9-2 2v14c0 1.1.9 2 2 2h14c1.1 0 2-.9 2-2V5c0-1.1-.9-2-2-2zM9 17H7v-7h2v7zm4 0h-2V7h2v10zm4 0h-2v-4h2v4z\"/>\n",
              "    </g>\n",
              "</svg>\n",
              "  </button>\n",
              "\n",
              "<style>\n",
              "  .colab-df-quickchart {\n",
              "      --bg-color: #E8F0FE;\n",
              "      --fill-color: #1967D2;\n",
              "      --hover-bg-color: #E2EBFA;\n",
              "      --hover-fill-color: #174EA6;\n",
              "      --disabled-fill-color: #AAA;\n",
              "      --disabled-bg-color: #DDD;\n",
              "  }\n",
              "\n",
              "  [theme=dark] .colab-df-quickchart {\n",
              "      --bg-color: #3B4455;\n",
              "      --fill-color: #D2E3FC;\n",
              "      --hover-bg-color: #434B5C;\n",
              "      --hover-fill-color: #FFFFFF;\n",
              "      --disabled-bg-color: #3B4455;\n",
              "      --disabled-fill-color: #666;\n",
              "  }\n",
              "\n",
              "  .colab-df-quickchart {\n",
              "    background-color: var(--bg-color);\n",
              "    border: none;\n",
              "    border-radius: 50%;\n",
              "    cursor: pointer;\n",
              "    display: none;\n",
              "    fill: var(--fill-color);\n",
              "    height: 32px;\n",
              "    padding: 0;\n",
              "    width: 32px;\n",
              "  }\n",
              "\n",
              "  .colab-df-quickchart:hover {\n",
              "    background-color: var(--hover-bg-color);\n",
              "    box-shadow: 0 1px 2px rgba(60, 64, 67, 0.3), 0 1px 3px 1px rgba(60, 64, 67, 0.15);\n",
              "    fill: var(--button-hover-fill-color);\n",
              "  }\n",
              "\n",
              "  .colab-df-quickchart-complete:disabled,\n",
              "  .colab-df-quickchart-complete:disabled:hover {\n",
              "    background-color: var(--disabled-bg-color);\n",
              "    fill: var(--disabled-fill-color);\n",
              "    box-shadow: none;\n",
              "  }\n",
              "\n",
              "  .colab-df-spinner {\n",
              "    border: 2px solid var(--fill-color);\n",
              "    border-color: transparent;\n",
              "    border-bottom-color: var(--fill-color);\n",
              "    animation:\n",
              "      spin 1s steps(1) infinite;\n",
              "  }\n",
              "\n",
              "  @keyframes spin {\n",
              "    0% {\n",
              "      border-color: transparent;\n",
              "      border-bottom-color: var(--fill-color);\n",
              "      border-left-color: var(--fill-color);\n",
              "    }\n",
              "    20% {\n",
              "      border-color: transparent;\n",
              "      border-left-color: var(--fill-color);\n",
              "      border-top-color: var(--fill-color);\n",
              "    }\n",
              "    30% {\n",
              "      border-color: transparent;\n",
              "      border-left-color: var(--fill-color);\n",
              "      border-top-color: var(--fill-color);\n",
              "      border-right-color: var(--fill-color);\n",
              "    }\n",
              "    40% {\n",
              "      border-color: transparent;\n",
              "      border-right-color: var(--fill-color);\n",
              "      border-top-color: var(--fill-color);\n",
              "    }\n",
              "    60% {\n",
              "      border-color: transparent;\n",
              "      border-right-color: var(--fill-color);\n",
              "    }\n",
              "    80% {\n",
              "      border-color: transparent;\n",
              "      border-right-color: var(--fill-color);\n",
              "      border-bottom-color: var(--fill-color);\n",
              "    }\n",
              "    90% {\n",
              "      border-color: transparent;\n",
              "      border-bottom-color: var(--fill-color);\n",
              "    }\n",
              "  }\n",
              "</style>\n",
              "\n",
              "  <script>\n",
              "    async function quickchart(key) {\n",
              "      const quickchartButtonEl =\n",
              "        document.querySelector('#' + key + ' button');\n",
              "      quickchartButtonEl.disabled = true;  // To prevent multiple clicks.\n",
              "      quickchartButtonEl.classList.add('colab-df-spinner');\n",
              "      try {\n",
              "        const charts = await google.colab.kernel.invokeFunction(\n",
              "            'suggestCharts', [key], {});\n",
              "      } catch (error) {\n",
              "        console.error('Error during call to suggestCharts:', error);\n",
              "      }\n",
              "      quickchartButtonEl.classList.remove('colab-df-spinner');\n",
              "      quickchartButtonEl.classList.add('colab-df-quickchart-complete');\n",
              "    }\n",
              "    (() => {\n",
              "      let quickchartButtonEl =\n",
              "        document.querySelector('#df-9df19cce-ef42-40bb-b764-857de7bc895d button');\n",
              "      quickchartButtonEl.style.display =\n",
              "        google.colab.kernel.accessAllowed ? 'block' : 'none';\n",
              "    })();\n",
              "  </script>\n",
              "</div>\n",
              "\n",
              "  <div id=\"id_122e6fcc-2d0a-4208-b53f-b513da861777\">\n",
              "    <style>\n",
              "      .colab-df-generate {\n",
              "        background-color: #E8F0FE;\n",
              "        border: none;\n",
              "        border-radius: 50%;\n",
              "        cursor: pointer;\n",
              "        display: none;\n",
              "        fill: #1967D2;\n",
              "        height: 32px;\n",
              "        padding: 0 0 0 0;\n",
              "        width: 32px;\n",
              "      }\n",
              "\n",
              "      .colab-df-generate:hover {\n",
              "        background-color: #E2EBFA;\n",
              "        box-shadow: 0px 1px 2px rgba(60, 64, 67, 0.3), 0px 1px 3px 1px rgba(60, 64, 67, 0.15);\n",
              "        fill: #174EA6;\n",
              "      }\n",
              "\n",
              "      [theme=dark] .colab-df-generate {\n",
              "        background-color: #3B4455;\n",
              "        fill: #D2E3FC;\n",
              "      }\n",
              "\n",
              "      [theme=dark] .colab-df-generate:hover {\n",
              "        background-color: #434B5C;\n",
              "        box-shadow: 0px 1px 3px 1px rgba(0, 0, 0, 0.15);\n",
              "        filter: drop-shadow(0px 1px 2px rgba(0, 0, 0, 0.3));\n",
              "        fill: #FFFFFF;\n",
              "      }\n",
              "    </style>\n",
              "    <button class=\"colab-df-generate\" onclick=\"generateWithVariable('red_wine_features')\"\n",
              "            title=\"Generate code using this dataframe.\"\n",
              "            style=\"display:none;\">\n",
              "\n",
              "  <svg xmlns=\"http://www.w3.org/2000/svg\" height=\"24px\"viewBox=\"0 0 24 24\"\n",
              "       width=\"24px\">\n",
              "    <path d=\"M7,19H8.4L18.45,9,17,7.55,7,17.6ZM5,21V16.75L18.45,3.32a2,2,0,0,1,2.83,0l1.4,1.43a1.91,1.91,0,0,1,.58,1.4,1.91,1.91,0,0,1-.58,1.4L9.25,21ZM18.45,9,17,7.55Zm-12,3A5.31,5.31,0,0,0,4.9,8.1,5.31,5.31,0,0,0,1,6.5,5.31,5.31,0,0,0,4.9,4.9,5.31,5.31,0,0,0,6.5,1,5.31,5.31,0,0,0,8.1,4.9,5.31,5.31,0,0,0,12,6.5,5.46,5.46,0,0,0,6.5,12Z\"/>\n",
              "  </svg>\n",
              "    </button>\n",
              "    <script>\n",
              "      (() => {\n",
              "      const buttonEl =\n",
              "        document.querySelector('#id_122e6fcc-2d0a-4208-b53f-b513da861777 button.colab-df-generate');\n",
              "      buttonEl.style.display =\n",
              "        google.colab.kernel.accessAllowed ? 'block' : 'none';\n",
              "\n",
              "      buttonEl.onclick = () => {\n",
              "        google.colab.notebook.generateWithVariable('red_wine_features');\n",
              "      }\n",
              "      })();\n",
              "    </script>\n",
              "  </div>\n",
              "\n",
              "    </div>\n",
              "  </div>\n"
            ],
            "text/plain": [
              "      fixed acidity  volatile acidity  citric acid  residual sugar  chlorides  \\\n",
              "0               7.4             0.700         0.00             1.9      0.076   \n",
              "1               7.8             0.880         0.00             2.6      0.098   \n",
              "2               7.8             0.760         0.04             2.3      0.092   \n",
              "3              11.2             0.280         0.56             1.9      0.075   \n",
              "4               7.4             0.700         0.00             1.9      0.076   \n",
              "...             ...               ...          ...             ...        ...   \n",
              "1594            6.2             0.600         0.08             2.0      0.090   \n",
              "1595            5.9             0.550         0.10             2.2      0.062   \n",
              "1596            6.3             0.510         0.13             2.3      0.076   \n",
              "1597            5.9             0.645         0.12             2.0      0.075   \n",
              "1598            6.0             0.310         0.47             3.6      0.067   \n",
              "\n",
              "      free sulfur dioxide  total sulfur dioxide  density    pH  sulphates  \\\n",
              "0                    11.0                  34.0  0.99780  3.51       0.56   \n",
              "1                    25.0                  67.0  0.99680  3.20       0.68   \n",
              "2                    15.0                  54.0  0.99700  3.26       0.65   \n",
              "3                    17.0                  60.0  0.99800  3.16       0.58   \n",
              "4                    11.0                  34.0  0.99780  3.51       0.56   \n",
              "...                   ...                   ...      ...   ...        ...   \n",
              "1594                 32.0                  44.0  0.99490  3.45       0.58   \n",
              "1595                 39.0                  51.0  0.99512  3.52       0.76   \n",
              "1596                 29.0                  40.0  0.99574  3.42       0.75   \n",
              "1597                 32.0                  44.0  0.99547  3.57       0.71   \n",
              "1598                 18.0                  42.0  0.99549  3.39       0.66   \n",
              "\n",
              "      alcohol  \n",
              "0         9.4  \n",
              "1         9.8  \n",
              "2         9.8  \n",
              "3         9.8  \n",
              "4         9.4  \n",
              "...       ...  \n",
              "1594     10.5  \n",
              "1595     11.2  \n",
              "1596     11.0  \n",
              "1597     10.2  \n",
              "1598     11.0  \n",
              "\n",
              "[1599 rows x 11 columns]"
            ]
          },
          "execution_count": 79,
          "metadata": {},
          "output_type": "execute_result"
        }
      ],
      "source": [
        "red_wine_features = red_wine_raw.drop(\"quality\", axis = 1)\n",
        "red_wine_features"
      ]
    },
    {
      "cell_type": "code",
      "execution_count": 80,
      "metadata": {
        "colab": {
          "base_uri": "https://localhost:8080/"
        },
        "id": "HNKHHpgIsu1C",
        "outputId": "4aae9236-cfad-48da-d178-93c79b66ef0d"
      },
      "outputs": [
        {
          "data": {
            "text/plain": [
              "(1599, 320, 1279, 320, 1279)"
            ]
          },
          "execution_count": 80,
          "metadata": {},
          "output_type": "execute_result"
        }
      ],
      "source": [
        "from sklearn.model_selection import train_test_split\n",
        "# Creating Training and testing data\n",
        "red_wine_train_labels, red_wine_test_labels, red_wine_train_features, red_wine_test_features = train_test_split(red_wine_labels, red_wine_features, test_size = 0.2, random_state = 0)\n",
        "\n",
        "len(red_wine_raw), len(red_wine_test_labels), len(red_wine_train_labels), len(red_wine_test_features), len(red_wine_train_features)"
      ]
    },
    {
      "cell_type": "code",
      "execution_count": 81,
      "metadata": {
        "colab": {
          "base_uri": "https://localhost:8080/"
        },
        "id": "jvCyigI1AlG_",
        "outputId": "a26d2dba-c7b9-4a11-db8a-628747fe542b"
      },
      "outputs": [
        {
          "data": {
            "text/plain": [
              "<tf.Tensor: shape=(2,), dtype=int32, numpy=array([1599,   12], dtype=int32)>"
            ]
          },
          "execution_count": 81,
          "metadata": {},
          "output_type": "execute_result"
        }
      ],
      "source": [
        "tf.shape(red_wine_raw)"
      ]
    },
    {
      "cell_type": "markdown",
      "metadata": {
        "id": "PUL4o5EpgMhN"
      },
      "source": [
        "### Visualize data\n",
        "- See what data we are working with\n"
      ]
    },
    {
      "cell_type": "code",
      "execution_count": 82,
      "metadata": {
        "colab": {
          "base_uri": "https://localhost:8080/",
          "height": 466
        },
        "id": "1VVLGVwogYvf",
        "outputId": "e6672092-73ae-403a-cc21-dae5c0ac783f"
      },
      "outputs": [
        {
          "data": {
            "text/plain": [
              "Text(0, 0.5, 'Frequency')"
            ]
          },
          "execution_count": 82,
          "metadata": {},
          "output_type": "execute_result"
        },
        {
          "data": {
            "image/png": "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",
            "text/plain": [
              "<Figure size 640x480 with 1 Axes>"
            ]
          },
          "metadata": {},
          "output_type": "display_data"
        }
      ],
      "source": [
        "plt.hist(red_wine_labels)\n",
        "plt.xlabel(\"Quality\")\n",
        "plt.ylabel(\"Frequency\")"
      ]
    },
    {
      "cell_type": "code",
      "execution_count": 83,
      "metadata": {
        "colab": {
          "base_uri": "https://localhost:8080/",
          "height": 466
        },
        "id": "UJC-cdXTjIE-",
        "outputId": "1a3d87db-61c3-4db8-ac3a-c55e12e52e05"
      },
      "outputs": [
        {
          "data": {
            "text/plain": [
              "Text(0, 0.5, 'Frequency')"
            ]
          },
          "execution_count": 83,
          "metadata": {},
          "output_type": "execute_result"
        },
        {
          "data": {
            "image/png": "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",
            "text/plain": [
              "<Figure size 640x480 with 1 Axes>"
            ]
          },
          "metadata": {},
          "output_type": "display_data"
        }
      ],
      "source": [
        "plt.hist(red_wine_features[\"density\"])\n",
        "plt.xlabel(\"Density\")\n",
        "plt.ylabel(\"Frequency\")"
      ]
    },
    {
      "cell_type": "code",
      "execution_count": 84,
      "metadata": {
        "colab": {
          "base_uri": "https://localhost:8080/",
          "height": 467
        },
        "id": "v-oXlS6ajc2X",
        "outputId": "32f83c9d-e7ca-4711-9773-b6a4fbc2801d"
      },
      "outputs": [
        {
          "data": {
            "text/plain": [
              "Text(0, 0.5, 'Frequency')"
            ]
          },
          "execution_count": 84,
          "metadata": {},
          "output_type": "execute_result"
        },
        {
          "data": {
            "image/png": "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",
            "text/plain": [
              "<Figure size 640x480 with 1 Axes>"
            ]
          },
          "metadata": {},
          "output_type": "display_data"
        }
      ],
      "source": [
        "plt.hist(red_wine_features[\"citric acid\"])\n",
        "plt.xlabel(\"citric_acid\")\n",
        "plt.ylabel(\"Frequency\")"
      ]
    },
    {
      "cell_type": "code",
      "execution_count": 85,
      "metadata": {
        "colab": {
          "base_uri": "https://localhost:8080/",
          "height": 466
        },
        "id": "272eTUZ0kRjD",
        "outputId": "74d2e65c-2317-436a-eb3b-42a67fc2c13d"
      },
      "outputs": [
        {
          "data": {
            "text/plain": [
              "Text(0, 0.5, 'Frequency')"
            ]
          },
          "execution_count": 85,
          "metadata": {},
          "output_type": "execute_result"
        },
        {
          "data": {
            "image/png": "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",
            "text/plain": [
              "<Figure size 640x480 with 1 Axes>"
            ]
          },
          "metadata": {},
          "output_type": "display_data"
        }
      ],
      "source": [
        "plt.hist(red_wine_features[\"alcohol\"])\n",
        "plt.xlabel(\"alcohol\")\n",
        "plt.ylabel(\"Frequency\")"
      ]
    },
    {
      "cell_type": "markdown",
      "metadata": {
        "id": "qMvWAeXfkmhF"
      },
      "source": [
        "- Since this is a real data set of actual wine much of the data is heavily skewed towards just a few general values.\n",
        "- To combat this, normalization and standarization are essential for making the most accurate model possible."
      ]
    },
    {
      "cell_type": "markdown",
      "metadata": {
        "id": "vgPBz2nQDlbn"
      },
      "source": [
        "### Normalizing training and testing data\n"
      ]
    },
    {
      "cell_type": "code",
      "execution_count": 86,
      "metadata": {
        "id": "V30NMr28DyNw"
      },
      "outputs": [],
      "source": [
        "from sklearn.compose import make_column_transformer\n",
        "from sklearn.preprocessing import MinMaxScaler, OneHotEncoder\n",
        "from sklearn.model_selection import train_test_split\n",
        "\n",
        "scaler = MinMaxScaler()\n",
        "\n",
        "scaler.fit(red_wine_features)\n",
        "red_wine_train_features = scaler.transform(red_wine_train_features)\n",
        "red_wine_test_features = scaler.transform(red_wine_test_features)"
      ]
    },
    {
      "cell_type": "code",
      "execution_count": 87,
      "metadata": {
        "colab": {
          "base_uri": "https://localhost:8080/"
        },
        "id": "zxijwXBEKwDU",
        "outputId": "5814d757-a8ea-4a6f-a9a2-d01e3dc5ec85"
      },
      "outputs": [
        {
          "data": {
            "text/plain": [
              "array([[0.46902655, 0.28767123, 0.45      , ..., 0.51181102, 0.17365269,\n",
              "        0.15384615],\n",
              "       [0.54867257, 0.09589041, 0.45      , ..., 0.30708661, 0.1257485 ,\n",
              "        0.18461538],\n",
              "       [0.46902655, 0.15753425, 0.55      , ..., 0.40944882, 0.2754491 ,\n",
              "        0.33846154],\n",
              "       ...,\n",
              "       [0.2920354 , 0.30821918, 0.31      , ..., 0.43307087, 0.21556886,\n",
              "        0.16923077],\n",
              "       [0.74336283, 0.23972603, 0.49      , ..., 0.44094488, 0.20958084,\n",
              "        0.66153846],\n",
              "       [0.46017699, 0.5890411 , 0.32      , ..., 0.4015748 , 0.08982036,\n",
              "        0.15384615]])"
            ]
          },
          "execution_count": 87,
          "metadata": {},
          "output_type": "execute_result"
        }
      ],
      "source": [
        "red_wine_train_features"
      ]
    },
    {
      "cell_type": "code",
      "execution_count": 88,
      "metadata": {
        "colab": {
          "base_uri": "https://localhost:8080/"
        },
        "id": "ZPO5_BehLziG",
        "outputId": "93ababb1-3d29-4364-b85c-fa3c98330999"
      },
      "outputs": [
        {
          "data": {
            "text/plain": [
              "array([[0.54867257, 0.23972603, 0.43      , ..., 0.33858268, 0.25748503,\n",
              "        0.36923077],\n",
              "       [0.30973451, 0.47945205, 0.        , ..., 0.48818898, 0.11976048,\n",
              "        0.18461538],\n",
              "       [0.39823009, 0.11643836, 0.33      , ..., 0.40944882, 0.30538922,\n",
              "        0.50769231],\n",
              "       ...,\n",
              "       [0.39823009, 0.15068493, 0.42      , ..., 0.34645669, 0.13173653,\n",
              "        0.46153846],\n",
              "       [0.39823009, 0.44178082, 0.04      , ..., 0.43307087, 0.1257485 ,\n",
              "        0.2       ],\n",
              "       [0.31858407, 0.1369863 , 0.42      , ..., 0.41732283, 0.13173653,\n",
              "        0.6       ]])"
            ]
          },
          "execution_count": 88,
          "metadata": {},
          "output_type": "execute_result"
        }
      ],
      "source": [
        "red_wine_test_features"
      ]
    },
    {
      "cell_type": "markdown",
      "metadata": {
        "id": "YYHuvTwLOVKH"
      },
      "source": [
        "### Training models on the data"
      ]
    },
    {
      "cell_type": "code",
      "execution_count": 89,
      "metadata": {
        "colab": {
          "base_uri": "https://localhost:8080/"
        },
        "id": "npV1mwXxOaoo",
        "outputId": "fc5987b2-4eec-4c2d-ef31-f343c5573b1c"
      },
      "outputs": [
        {
          "name": "stdout",
          "output_type": "stream",
          "text": [
            "Epoch 1/100\n",
            "40/40 [==============================] - 2s 6ms/step - loss: 1.0049 - mean_squared_error: 2.1872\n",
            "Epoch 2/100\n",
            "40/40 [==============================] - 0s 6ms/step - loss: 0.6671 - mean_squared_error: 0.7231\n",
            "Epoch 3/100\n",
            "40/40 [==============================] - 0s 8ms/step - loss: 0.5999 - mean_squared_error: 0.6065\n",
            "Epoch 4/100\n",
            "40/40 [==============================] - 0s 7ms/step - loss: 0.6206 - mean_squared_error: 0.6257\n",
            "Epoch 5/100\n",
            "40/40 [==============================] - 0s 5ms/step - loss: 0.5943 - mean_squared_error: 0.5807\n",
            "Epoch 6/100\n",
            "40/40 [==============================] - 0s 4ms/step - loss: 0.5726 - mean_squared_error: 0.5564\n",
            "Epoch 7/100\n",
            "40/40 [==============================] - 0s 5ms/step - loss: 0.5409 - mean_squared_error: 0.4899\n",
            "Epoch 8/100\n",
            "40/40 [==============================] - 0s 4ms/step - loss: 0.5572 - mean_squared_error: 0.5217\n",
            "Epoch 9/100\n",
            "40/40 [==============================] - 0s 6ms/step - loss: 0.5283 - mean_squared_error: 0.4703\n",
            "Epoch 10/100\n",
            "40/40 [==============================] - 0s 5ms/step - loss: 0.5232 - mean_squared_error: 0.4622\n",
            "Epoch 11/100\n",
            "40/40 [==============================] - 0s 6ms/step - loss: 0.5356 - mean_squared_error: 0.4759\n",
            "Epoch 12/100\n",
            "40/40 [==============================] - 0s 4ms/step - loss: 0.5454 - mean_squared_error: 0.4973\n",
            "Epoch 13/100\n",
            "40/40 [==============================] - 0s 4ms/step - loss: 0.5591 - mean_squared_error: 0.5156\n",
            "Epoch 14/100\n",
            "40/40 [==============================] - 0s 4ms/step - loss: 0.5382 - mean_squared_error: 0.4895\n",
            "Epoch 15/100\n",
            "40/40 [==============================] - 0s 4ms/step - loss: 0.5661 - mean_squared_error: 0.5276\n",
            "Epoch 16/100\n",
            "40/40 [==============================] - 0s 4ms/step - loss: 0.5408 - mean_squared_error: 0.5018\n",
            "Epoch 17/100\n",
            "40/40 [==============================] - 0s 8ms/step - loss: 0.5454 - mean_squared_error: 0.5019\n",
            "Epoch 18/100\n",
            "40/40 [==============================] - 0s 7ms/step - loss: 0.5253 - mean_squared_error: 0.4676\n",
            "Epoch 19/100\n",
            "40/40 [==============================] - 1s 13ms/step - loss: 0.5168 - mean_squared_error: 0.4600\n",
            "Epoch 20/100\n",
            "40/40 [==============================] - 0s 10ms/step - loss: 0.5239 - mean_squared_error: 0.4650\n",
            "Epoch 21/100\n",
            "40/40 [==============================] - 0s 9ms/step - loss: 0.5284 - mean_squared_error: 0.4699\n",
            "Epoch 22/100\n",
            "40/40 [==============================] - 0s 11ms/step - loss: 0.5231 - mean_squared_error: 0.4679\n",
            "Epoch 23/100\n",
            "40/40 [==============================] - 0s 9ms/step - loss: 0.5277 - mean_squared_error: 0.4753\n",
            "Epoch 24/100\n",
            "40/40 [==============================] - 0s 8ms/step - loss: 0.5468 - mean_squared_error: 0.4950\n",
            "Epoch 25/100\n",
            "40/40 [==============================] - 0s 8ms/step - loss: 0.5656 - mean_squared_error: 0.5235\n",
            "Epoch 26/100\n",
            "40/40 [==============================] - 0s 11ms/step - loss: 0.5314 - mean_squared_error: 0.4782\n",
            "Epoch 27/100\n",
            "40/40 [==============================] - 0s 8ms/step - loss: 0.5304 - mean_squared_error: 0.4676\n",
            "Epoch 28/100\n",
            "40/40 [==============================] - 0s 8ms/step - loss: 0.5229 - mean_squared_error: 0.4556\n",
            "Epoch 29/100\n",
            "40/40 [==============================] - 1s 19ms/step - loss: 0.5274 - mean_squared_error: 0.4690\n",
            "Epoch 30/100\n",
            "40/40 [==============================] - 0s 8ms/step - loss: 0.5311 - mean_squared_error: 0.4726\n",
            "Epoch 31/100\n",
            "40/40 [==============================] - 0s 2ms/step - loss: 0.5373 - mean_squared_error: 0.4768\n",
            "Epoch 32/100\n",
            "40/40 [==============================] - 0s 2ms/step - loss: 0.5236 - mean_squared_error: 0.4575\n",
            "Epoch 33/100\n",
            "40/40 [==============================] - 0s 2ms/step - loss: 0.5463 - mean_squared_error: 0.5085\n",
            "Epoch 34/100\n",
            "40/40 [==============================] - 0s 3ms/step - loss: 0.5308 - mean_squared_error: 0.4721\n",
            "Epoch 35/100\n",
            "40/40 [==============================] - 0s 2ms/step - loss: 0.5249 - mean_squared_error: 0.4636\n",
            "Epoch 36/100\n",
            "40/40 [==============================] - 0s 2ms/step - loss: 0.5361 - mean_squared_error: 0.4803\n",
            "Epoch 37/100\n",
            "40/40 [==============================] - 0s 2ms/step - loss: 0.5570 - mean_squared_error: 0.5183\n",
            "Epoch 38/100\n",
            "40/40 [==============================] - 0s 2ms/step - loss: 0.5439 - mean_squared_error: 0.4864\n",
            "Epoch 39/100\n",
            "40/40 [==============================] - 0s 2ms/step - loss: 0.5463 - mean_squared_error: 0.4884\n",
            "Epoch 40/100\n",
            "40/40 [==============================] - 0s 2ms/step - loss: 0.5402 - mean_squared_error: 0.4935\n",
            "Epoch 41/100\n",
            "40/40 [==============================] - 0s 2ms/step - loss: 0.5290 - mean_squared_error: 0.4664\n",
            "Epoch 42/100\n",
            "40/40 [==============================] - 0s 2ms/step - loss: 0.5341 - mean_squared_error: 0.4760\n",
            "Epoch 43/100\n",
            "40/40 [==============================] - 0s 2ms/step - loss: 0.5198 - mean_squared_error: 0.4540\n",
            "Epoch 44/100\n",
            "40/40 [==============================] - 0s 2ms/step - loss: 0.5160 - mean_squared_error: 0.4472\n",
            "Epoch 45/100\n",
            "40/40 [==============================] - 0s 2ms/step - loss: 0.5323 - mean_squared_error: 0.4812\n",
            "Epoch 46/100\n",
            "40/40 [==============================] - 0s 2ms/step - loss: 0.5360 - mean_squared_error: 0.4798\n",
            "Epoch 47/100\n",
            "40/40 [==============================] - 0s 2ms/step - loss: 0.5159 - mean_squared_error: 0.4593\n",
            "Epoch 48/100\n",
            "40/40 [==============================] - 0s 2ms/step - loss: 0.5385 - mean_squared_error: 0.4862\n",
            "Epoch 49/100\n",
            "40/40 [==============================] - 0s 2ms/step - loss: 0.5219 - mean_squared_error: 0.4630\n",
            "Epoch 50/100\n",
            "40/40 [==============================] - 0s 2ms/step - loss: 0.5248 - mean_squared_error: 0.4636\n",
            "Epoch 51/100\n",
            "40/40 [==============================] - 0s 2ms/step - loss: 0.5205 - mean_squared_error: 0.4586\n",
            "Epoch 52/100\n",
            "40/40 [==============================] - 0s 2ms/step - loss: 0.5307 - mean_squared_error: 0.4730\n",
            "Epoch 53/100\n",
            "40/40 [==============================] - 0s 2ms/step - loss: 0.5159 - mean_squared_error: 0.4543\n",
            "Epoch 54/100\n",
            "40/40 [==============================] - 0s 2ms/step - loss: 0.5291 - mean_squared_error: 0.4742\n",
            "Epoch 55/100\n",
            "40/40 [==============================] - 0s 2ms/step - loss: 0.5282 - mean_squared_error: 0.4742\n",
            "Epoch 56/100\n",
            "40/40 [==============================] - 0s 3ms/step - loss: 0.5195 - mean_squared_error: 0.4639\n",
            "Epoch 57/100\n",
            "40/40 [==============================] - 0s 2ms/step - loss: 0.5279 - mean_squared_error: 0.4667\n",
            "Epoch 58/100\n",
            "40/40 [==============================] - 0s 2ms/step - loss: 0.5323 - mean_squared_error: 0.4751\n",
            "Epoch 59/100\n",
            "40/40 [==============================] - 0s 2ms/step - loss: 0.5340 - mean_squared_error: 0.4709\n",
            "Epoch 60/100\n",
            "40/40 [==============================] - 0s 2ms/step - loss: 0.5170 - mean_squared_error: 0.4491\n",
            "Epoch 61/100\n",
            "40/40 [==============================] - 0s 2ms/step - loss: 0.5261 - mean_squared_error: 0.4688\n",
            "Epoch 62/100\n",
            "40/40 [==============================] - 0s 2ms/step - loss: 0.5202 - mean_squared_error: 0.4651\n",
            "Epoch 63/100\n",
            "40/40 [==============================] - 0s 3ms/step - loss: 0.5222 - mean_squared_error: 0.4616\n",
            "Epoch 64/100\n",
            "40/40 [==============================] - 0s 2ms/step - loss: 0.5369 - mean_squared_error: 0.4800\n",
            "Epoch 65/100\n",
            "40/40 [==============================] - 0s 2ms/step - loss: 0.5153 - mean_squared_error: 0.4486\n",
            "Epoch 66/100\n",
            "40/40 [==============================] - 0s 3ms/step - loss: 0.5189 - mean_squared_error: 0.4596\n",
            "Epoch 67/100\n",
            "40/40 [==============================] - 0s 2ms/step - loss: 0.5252 - mean_squared_error: 0.4660\n",
            "Epoch 68/100\n",
            "40/40 [==============================] - 0s 2ms/step - loss: 0.5411 - mean_squared_error: 0.4903\n",
            "Epoch 69/100\n",
            "40/40 [==============================] - 0s 2ms/step - loss: 0.5211 - mean_squared_error: 0.4537\n",
            "Epoch 70/100\n",
            "40/40 [==============================] - 0s 2ms/step - loss: 0.5254 - mean_squared_error: 0.4674\n",
            "Epoch 71/100\n",
            "40/40 [==============================] - 0s 2ms/step - loss: 0.5431 - mean_squared_error: 0.4932\n",
            "Epoch 72/100\n",
            "40/40 [==============================] - 0s 2ms/step - loss: 0.5339 - mean_squared_error: 0.4832\n",
            "Epoch 73/100\n",
            "40/40 [==============================] - 0s 2ms/step - loss: 0.5362 - mean_squared_error: 0.4854\n",
            "Epoch 74/100\n",
            "40/40 [==============================] - 0s 2ms/step - loss: 0.5238 - mean_squared_error: 0.4594\n",
            "Epoch 75/100\n",
            "40/40 [==============================] - 0s 3ms/step - loss: 0.5118 - mean_squared_error: 0.4496\n",
            "Epoch 76/100\n",
            "40/40 [==============================] - 0s 2ms/step - loss: 0.5130 - mean_squared_error: 0.4498\n",
            "Epoch 77/100\n",
            "40/40 [==============================] - 0s 2ms/step - loss: 0.5234 - mean_squared_error: 0.4566\n",
            "Epoch 78/100\n",
            "40/40 [==============================] - 0s 2ms/step - loss: 0.5206 - mean_squared_error: 0.4625\n",
            "Epoch 79/100\n",
            "40/40 [==============================] - 0s 2ms/step - loss: 0.5373 - mean_squared_error: 0.4806\n",
            "Epoch 80/100\n",
            "40/40 [==============================] - 0s 2ms/step - loss: 0.5387 - mean_squared_error: 0.4825\n",
            "Epoch 81/100\n",
            "40/40 [==============================] - 0s 2ms/step - loss: 0.5261 - mean_squared_error: 0.4751\n",
            "Epoch 82/100\n",
            "40/40 [==============================] - 0s 2ms/step - loss: 0.5279 - mean_squared_error: 0.4680\n",
            "Epoch 83/100\n",
            "40/40 [==============================] - 0s 2ms/step - loss: 0.5203 - mean_squared_error: 0.4571\n",
            "Epoch 84/100\n",
            "40/40 [==============================] - 0s 2ms/step - loss: 0.5177 - mean_squared_error: 0.4576\n",
            "Epoch 85/100\n",
            "40/40 [==============================] - 0s 2ms/step - loss: 0.5374 - mean_squared_error: 0.4872\n",
            "Epoch 86/100\n",
            "40/40 [==============================] - 0s 3ms/step - loss: 0.5163 - mean_squared_error: 0.4517\n",
            "Epoch 87/100\n",
            "40/40 [==============================] - 0s 2ms/step - loss: 0.5148 - mean_squared_error: 0.4497\n",
            "Epoch 88/100\n",
            "40/40 [==============================] - 0s 2ms/step - loss: 0.5273 - mean_squared_error: 0.4695\n",
            "Epoch 89/100\n",
            "40/40 [==============================] - 0s 2ms/step - loss: 0.5149 - mean_squared_error: 0.4553\n",
            "Epoch 90/100\n",
            "40/40 [==============================] - 0s 2ms/step - loss: 0.5110 - mean_squared_error: 0.4453\n",
            "Epoch 91/100\n",
            "40/40 [==============================] - 0s 2ms/step - loss: 0.5167 - mean_squared_error: 0.4529\n",
            "Epoch 92/100\n",
            "40/40 [==============================] - 0s 2ms/step - loss: 0.5176 - mean_squared_error: 0.4569\n",
            "Epoch 93/100\n",
            "40/40 [==============================] - 0s 2ms/step - loss: 0.5235 - mean_squared_error: 0.4608\n",
            "Epoch 94/100\n",
            "40/40 [==============================] - 0s 2ms/step - loss: 0.5141 - mean_squared_error: 0.4483\n",
            "Epoch 95/100\n",
            "40/40 [==============================] - 0s 2ms/step - loss: 0.5129 - mean_squared_error: 0.4515\n",
            "Epoch 96/100\n",
            "40/40 [==============================] - 0s 2ms/step - loss: 0.5197 - mean_squared_error: 0.4620\n",
            "Epoch 97/100\n",
            "40/40 [==============================] - 0s 3ms/step - loss: 0.5205 - mean_squared_error: 0.4615\n",
            "Epoch 98/100\n",
            "40/40 [==============================] - 0s 2ms/step - loss: 0.5145 - mean_squared_error: 0.4533\n",
            "Epoch 99/100\n",
            "40/40 [==============================] - 0s 2ms/step - loss: 0.5182 - mean_squared_error: 0.4600\n",
            "Epoch 100/100\n",
            "40/40 [==============================] - 0s 2ms/step - loss: 0.5248 - mean_squared_error: 0.4785\n"
          ]
        }
      ],
      "source": [
        "tf.random.set_seed(0)\n",
        "\n",
        "red_wine_model_1 = tf.keras.Sequential([\n",
        "    tf.keras.layers.Dense(50),\n",
        "    tf.keras.layers.Dense(100),\n",
        "    tf.keras.layers.Dense(50),\n",
        "    tf.keras.layers.Dense(1)\n",
        "])\n",
        "\n",
        "red_wine_model_1.compile(loss = tf.keras.losses.mae,\n",
        "                optimizer = tf.keras.optimizers.Adam(learning_rate = 0.01),\n",
        "                metrics = tf.keras.metrics.mse)\n",
        "\n",
        "red_wine_result = red_wine_model_1.fit(red_wine_train_features, red_wine_train_labels, epochs = 100)"
      ]
    },
    {
      "cell_type": "code",
      "execution_count": 90,
      "metadata": {
        "colab": {
          "base_uri": "https://localhost:8080/"
        },
        "id": "e6Nor8TEVZc2",
        "outputId": "511c3c38-aa35-4dd7-e7ac-c50ebf86b9e8"
      },
      "outputs": [
        {
          "name": "stdout",
          "output_type": "stream",
          "text": [
            "Model: \"sequential_15\"\n",
            "_________________________________________________________________\n",
            " Layer (type)                Output Shape              Param #   \n",
            "=================================================================\n",
            " dense_98 (Dense)            (None, 50)                600       \n",
            "                                                                 \n",
            " dense_99 (Dense)            (None, 100)               5100      \n",
            "                                                                 \n",
            " dense_100 (Dense)           (None, 50)                5050      \n",
            "                                                                 \n",
            " dense_101 (Dense)           (None, 1)                 51        \n",
            "                                                                 \n",
            "=================================================================\n",
            "Total params: 10801 (42.19 KB)\n",
            "Trainable params: 10801 (42.19 KB)\n",
            "Non-trainable params: 0 (0.00 Byte)\n",
            "_________________________________________________________________\n"
          ]
        }
      ],
      "source": [
        "red_wine_model_1.summary()"
      ]
    },
    {
      "cell_type": "code",
      "execution_count": 91,
      "metadata": {
        "colab": {
          "base_uri": "https://localhost:8080/",
          "height": 533
        },
        "id": "vQLQ7PzOV67G",
        "outputId": "cfa0e0d9-9f90-4368-cf56-116644bf4f90"
      },
      "outputs": [
        {
          "data": {
            "image/png": "iVBORw0KGgoAAAANSUhEUgAAAU0AAAIECAIAAAASLeuqAAAABmJLR0QA/wD/AP+gvaeTAAAgAElEQVR4nOzdeVgT59ow8GdC9pCwyCqLEsANUWtdWPSgh9ZWqSKLFQta9WjRLhQVP0SFKmItLwpcWHg9KuVcR3sEFI8iim211b5eorWvUBTrAgqIiKACISTIkvn+mLdzUpaQxCQThvv3l3me4ck9y+2smRvDcRwBAGiNQXUAAAC9gzwHgP4gzwGgP8hzAOiPqfyhpKQkNTWVqlAAALri7e29ceNG8uOf9uePHz8+ceKEwUMCg6irq6Pxejlx4kRdXR3VUdDKtWvXSkpKlFuYfSc6fvy4oeIBasnPz1+6dCld1wuGYRs2bHj//fepDoQ+lixZ0qsFzs8BoD/IcwDoD/IcAPqDPAeA/iDPAaC/183zNWvWCIVCDMPKysp0EpDWurq6EhISxGIxm812cHCIiYmRy+Vk77/+9a/p06cLhcJRo0atWrWqoaFh0AHPnTtnZmZ25swZfUatR0M9fmXr1q3D/hAREaHcdeHChbi4uIKCArFYTEywfPly5QnmzZsnFApNTEw8PDxu3rxp2MARQkihUKSlpfn4+KjTVVhYmJyc3NPTQ7acOnWKnHcrKystg8CV5OXl9WpRx7FjxxBCpaWlmv6hbn388cdcLvfYsWMSieSnn34SiUQffPAB0ZWbm4sQSk5ObmlpKS0tFYvFU6ZM6erqUj1gUVGRSCQqLCzUf+yD0G69GE/8qiGE8vLyVE8TGRlpaWlZXFx87969jo4Osj0hIWHhwoUSiYT46OrqOmLECIRQUVGR8p8XFxcHBgbqPHJ13L9/39fXFyE0efJkNbvS09P9/Pyam5uJjwqFoq6u7ueff16wYMGIESPU+dLQ0NDQ0FDlFprkeVVVFYPB+Oijj8iW7du3I4Tu3LmD4/jcuXNHjhypUCiIrq+//hohdOXKFWpi/YNMJvP29lZnSu3Wi76pH79qaua5g4NDr8Y9e/aMGTNGLpeTLa6urt9++y2DwXBwcGhpaSHbqcrzsrKy4ODgo0ePTpkypVcyq+jCcTwqKsrb27vXrujzzz/XOs91cH6OYdjrD/Kabty4oVAoZs6cSba8++67CKHvvvsOIfT48WN7e3syTicnJ4RQTU0NFZH+R3Z2dmNjI7UxvA5q46+srIyPj9+5cyeXy1Vu9/HxiY6OfvLkSUxMDFWxkSZPnlxQUBAeHs7hcNTvQgjt2LGjrKwsPT1dV5Fok+c4jqekpIwdO5bD4ZiZmW3evJns6unpSUhIcHZ25vF4kyZNInZEWVlZAoGAz+efPn16/vz5IpHI0dGROApACF2+fHnGjBl8Pl8kEnl6ekokkoHGUTUbDAZCiMfjkS3u7u4Iod9//x0hJBaLlbdI4uRcLBarGPDKlSvOzs4YhhE7fxWzkJGRweVybWxs1q1bZ29vz+VyfXx8rl+/jhCKiopis9l2dnbEmJ988olAIMAw7Pnz59HR0Zs2baqqqsIwzM3NTc0lrz7Dx3/+/HmRSLR7926dz0u/MjIycBxftGhR366kpKQxY8YcPnz4woULfXtxHE9NTR0/fjyHw7GwsFi8ePHdu3fRYFupphvka7KwsPDz80tPT8d19RoY5Z27mseH27ZtwzBs3759zc3NMpksMzMT/XHcHhMTw+FwTpw40dzcvHXrVgaDcePGDeJPEEIXL15sbW1tbGycPXu2QCDo7OyUSqUikSg5OVkulzc0NAQHBzc1NakYZyDl5eUIofj4eLKlu7sbIRQUFITj+KVLl1gsVkZGhkQiuX379vjx4995551BZ/Px48cIof3795Nz3e8s4DgeGRkpEAju3LnT0dFRUVFBXPCrra3FcTw8PNzW1pYcMyUlBSFEzGNISIirq+ugYeDaHrcbOP6ioiKhUJiYmKhpnEir43axWDxhwoRek7m6uj569AjH8atXrzIYjNGjR0ulUvzPx+0JCQlsNvvIkSMtLS3l5eVTp061srJqaGhQvYg03SB7mTlzZt+Dc9VdcXFx6M+nwwY9bpfL5WlpaW+99dbGjRvNzc15PJ6lpSXR1dHRkZWVFRQUFBISYm5uvn37dhaLlZOTQ/6tj4+PSCSytrYOCwtrb2+vra2trq6WSCQeHh5cLtfW1ragoMDKymrQcfry9PR89913MzMzf/zxx46OjoaGhpMnT2IY1tXVhRDy8/OLjY2NiooSiUQTJ05sa2s7fPiwpjM+0CwQ7Uwmk9hFTJgwISsrq62tTXXAVNFf/AEBARKJJD4+Xg9R99be3v7o0SNXV9eBJvD29t6wYUN1dfWWLVuU2+VyeWpqanBwcEREhJmZmaen54EDB54/f37w4EFymr6LSIsN8vURB6S3bt3SyWga53llZaVMJvP39+/bde/ePZlMNnHiROIjj8ezs7MjDop6YbPZCKGuri6xWGxjYxMREbFjx47q6mpNx1GWm5u7ZMmSFStWWFpa+vr6/vvf/8ZxnLj6um3btoMHD168eFEqlT58+NDHx8fb25vY3WmNnIW+XdOmTePz+YMGTK0hHX9jYyOO43w+X8U0SUlJY8eOzczMvHLlCtlYUVEhlUqnTZtGtkyfPp3NZhPnKb2Qi0i7DfI1EXP37NkznYymcZ4TPyG0trbu29Xe3o4Q2r59O3m7r6amRiaTqRiNx+P9+OOPs2bN2r17t1gsDgsLk8vlWoyDEDIzMztw4EBdXZ1MJquqqtq3bx9CaOTIkU+fPk1OTv7oo4/++te/CgQCFxeXQ4cO1dfXE4egesLhcJqamvQ3vr4ZefwdHR0IoX6vYJG4XG5OTg6GYatXryafpGhpaUEImZqaKk9pbm7e1tamYijtNsjXRFxsIub09Wmc58TlzVevXvXtIpI/LS1N+cSg1+9g+/Lw8Dhz5kx9fX1sbGxeXt7evXu1G6eXGzduIITmzp374MGDnp6ekSNHkl0ikcjS0rKiokKjAdXX1dXV0tLi6Oiop/H1zfjjJ3JA+WGSfhHvWnjw4MGuXbuIFnNzc4RQr6wedGZ1skFqqrOzE/350vLr0DjPJ06cyGAwLl++3LfLycmJy+Vq9GBcfX39nTt3EELW1tZ79uyZOnXqnTt3tBinr0OHDrm4uPj5+RGr8OnTp2RXW1vby5cvibtr+nDp0iUcx728vBBCTCaz32NjY2b88dvY2GAY1traOuiUu3btGjduXGlpKfFx4sSJpqamv/76KznB9evXOzs733zzTRWD6GSD1BQxd7a2tjoZTeM8t7a2Dg0NPXHiRHZ2tkQiKS8vJ69hcLncVatWHTt2LCsrSyKR9PT01NXVKSdYX/X19evWrbt7925nZ2dpaWlNTY2Xl5cW4yCEZsyYUVNT093dXV1dHRMTc+HChezsbDab7eLiMnfu3EOHDv38889yufzx48eRkZEIob/97W+azrsKCoWiubm5u7u7vLw8Ojra2dl55cqVCCE3N7eXL1+eOnWqq6urqalJ+aa9paVlfX19dXV1W1sb5bn0+vEXFxcb7L4an88Xi8XqvIWGOHo3MTEhP27atOnkyZNHjx6VSCS3bt1av369vb09sUmoGGSgDTIsLMzW1lYfj9MSc+fp6amb4ZQPRdS8f9PW1rZ27doRI0aYmprOmjUrISEBIeTo6Pjbb7+9evUqNjbW2dmZyWRaW1uHhIRUVFRkZmYSFxXc3d2rqqoOHjwoEokQQqNGjfrhhx98fHwsLCxMTExGjhy5bdu27u5uHMf7HUd1VG+//ba5uTmTybSwsAgICFC+7UHc73Vzc+NwOKampuRVOhX2799P3Dfm8/mLFi1SMQv379+PjIxksVgODg5MJlMkEi1evLiqqooY58WLF3PnzuVyuS4uLp999hnxrIGbm1ttbe3NmzdHjRrF4/FmzZpF3NcZiBb31Qwf/7lz54RCYVJSkkZx4treV4uKimKxWDKZjPh48uRJ4vK7lZXVp59+2uvPN2/eTN5XUygUKSkp7u7uLBbLwsIiKCjo3r17OI6rXkQDbZBBQUEIoYSEhH7DLikp8fX1tbe3J3LNzs7Ox8fn8uXLqrsIAQEBDg4O5EOc+OvdV9PBc6+AePpaf+Pre73oO37VtMvzBw8eMJnMI0eO6DO0wfX09MyePTs7O1u3wz5//pzL5e7du1e5keLnXgFS45qQkTP++OVy+XfffffgwQPiApWbm1tiYmJiYqJUKqUqpJ6enlOnTrW1tYWFhel25B07dkyZMiUqKgohhON4fX39lStXKisrtR5wyOT53bt3sYFpsaB1PiDQq5cvX7777rtjxoxZvXo10RIXF7dkyZKwsDB1Lsjpw6VLlwoKCoqLi1XfyddUampqWVnZuXPnWCwWQuj06dMODg6zZ88+e/as9oMq79zhuF0LcXFxxAMVo0ePPn78uD6+Qq/rxQDxq4bUOG5X4bvvvouNjdVhPNQ6derUl19+SVyl0lrf43YMV3pQnnh/MA4VVI0MvdcLhmF5eXnwXmcdIt7rrPwi8CFz3A4A0BrkOQD0B3kOAP1BngNAf5DnAAwDyhff9f02HACAYfS6r9ZPvVTIdmNTUlKSnp5O1/WydOnS6Ohob29vqgOhj7S0tF4t/eQ53Mk0Qunp6XRdL0uXLvX29qbr3FGibwltOD8HgP4gzwGgP8hzAOgP8hwA+oM8B4D+DJHn165dGz9+PIPBwDDM1tY2KSlJ39+oXCXXzs6uVyVdMORAXWTq6yKr6Z133kEIkdVeDcDV1dXMzMxgX6c/9H4vAIK6yPqvi0yf43a5XN7vf5lANZ0sNwMsfB6PR7xPhizP8NVXX+Xm5ubn5wuFQnKyjIwMBoMRGRlJ1UtmlP32229btmxZv379lClT1O/6/PPPJ0+evGDBAqJGIIZhxPtkiEpM2qFPng/1MsNU0clyM/zCh7rIGqEmz42hzPD//M//TJgwwczMjMvlenp6EpXS16xZQ5wIubq6Ei/3X7VqFZ/PNzMzKyws7Lc47n/913/x+XyhUNjY2Lhp0yYHB4d79+7pabmphg9Q8Vf95TaEaiRDXWTNKB/EG/L83ABlhlWfnx8/fnzHjh0vX7588eKFl5cXeeYTEhJiYmLy5MkTcsoPPvigsLAQH6zq8+eff75///7g4ODff/9dR8vs/6i5XlRU/FV/uRm+RjKCushGWBdZtygsMxwaGvrFF19YWFhYWlouWrToxYsXROXA9evX9/T0kF8nkUhu3LixYMGCQYvjfvXVV59++mlBQcG4ceN0G6o61Kn4qybjr5EMdZE1ZSzn59SW6SVeoEvczPjrX/86ZsyYb775BsdxhFBubm5YWJiJiQklxXHVp1HFX/UZZ41kqIusKWPJc9X0Uab37Nmzc+bMsba25nA4/+///T+yHcOwdevWPXz48OLFiwihf/7zn0QlNkqK46pPu4q/6jDCGslQF1lTQyDPdVum9+eff05LS6utrQ0KCrKzs7t+/Xpra2tycrLyNCtXruRyuYcPH753755IJBo1ahSiqDiu+rSr+Dso46yRDHWRNdXP78+NjW7L9P7v//6vQCC4detWV1fXxx9/LBaLEUIYhilPY2FhsXTp0tzcXKFQuHbtWqKRkuK46lNd8Vfr5WacNZI1qotcVFRUWlrq7OyMoC6ysdFHmeGurq5nz55dunRJIBAQa/3ChQsdHR0PHjzoe3q2fv36V69eFRUVLVy4kGjRrlqzwaiu+KvRcjP+GslQF1ljyocierqvdu3aNQ8PDwaDgRCys7PbvXu3vsv0/vd//7eKi7EnT57EcTw2NtbS0tLc3HzJkiVff/01QsjV1ZW4gUR444034uLilGek3+K4ycnJxMGVk5OTnsp3qrleBqr4i2tS3tjwNZIR1EUennWRqS3TS1qwYMHDhw+pjgLHDbteDL/wtctzqIusgtHdPx8IVWV6yQP+8vJyYsdFSRjUMs4ayVAXeVjURTaM2NjYBw8e3L9/f9WqVeRFWmAMoC4yreoiU1umd9u2bQwGw8nJiXjQ1UgYbL1QsvAR1EVWAnWRhy96rxeoi6xzUBcZgOEI8hwA+oM8B4D+IM8BoL9+nm/Pz883fBxABeInEzReL8bzcyB6qKur6/3LHOWL73StyAnAcKPqvhoYDuA+1jAE5+cA0B/kOQD0B3kOAP1BngNAf5DnANAf5DkA9Ad5DgD9QZ4DQH+Q5wDQH+Q5APQHeQ4A/UGeA0B/kOcA0B/kOQD0B3kOAP1BngNAf5DnANAf5DkA9Ad5DgD9QZ4DQH+Q5wDQH+Q5APQHeQ4A/UGeA0B/kOcA0B/kOQD0B3kOAP1BngNAf5DnANAf5DkA9Ad5DgD9QZ4DQH+Q5wDQH5PqAIDeHTp06OXLl8otp0+ffvToEflx1apVNjY2Bo8LGA6G4zjVMQD9Wrdu3d///ncOh9O3q6ury8LCoqGhgcmE//HpDI7b6W/ZsmUIoVf9MTEx+eCDDyDJaQ/25/SH47iDg8PTp0/77b169aq3t7eBQwIGBvtz+sMwLDw8nM1m9+0aOXKkl5eX4UMCBgZ5PiwsW7ass7OzVyObzf7www8xDKMkJGBIcNw+XLi7u1dWVvZqLC8v9/T0pCQeYEiwPx8uIiIiWCyWcoubmxsk+TABeT5cREREdHd3kx9ZLNaqVasojAcYEhy3DyNTpkwpLy8n1jiGYVVVVS4uLlQHBQwB9ufDyIoVK0xMTBBCGIa9+eabkOTDB+T5MLJs2TKFQoEQMjExWbFiBdXhAMOBPB9G7O3tfX19MQxTKBRLliyhOhxgOJDnw8vy5ctxHJ8zZ46dnR3VsQADwvUvNDSU6rkEwHgZIAcN9AMGLy+vDRs2GOa7jN/SpUujo6Opeqo8LS3to48+EggEehocIQTrWk0lJSXp6ekG+CID5bmjo+P7779vmO8yfkuXLvX29qZqgcyaNWvkyJF6Gvz48eMIIVjX6jNMnsP5+bCjvyQHRgvyHAD6gzwHgP4gzwGgP8hzAOjPSPN8zZo1QqEQw7CysjJqI+nq6kpISBCLxWw228HBISYmRi6Xk73/+te/pk+fLhQKR40atWrVqoaGBj2Fce7cOTMzszNnzuhpfKpcuHAhLi6uoKBALBZjGIZh2PLly5UnmDdvnlAoNDEx8fDwuHnzpuEjVCgUaWlpPj4+6nQVFhYmJyf39PQYMED1GOAefWhoaGhoqKZ/dezYMYRQaWmpPkJS38cff8zlco8dOyaRSH766SeRSPTBBx8QXbm5uQih5OTklpaW0tJSsVg8ZcqUrq6uQcdECOXl5WkURlFRkUgkKiws1GYeDEijdZ2QkLBw4UKJREJ8dHV1HTFiBEKoqKhIebLi4uLAwEAdB6qe+/fv+/r6IoQmT56sZld6erqfn19zc7M64+fl5RkmB410f24kHj58eODAgRUrVoSFhQmFwjlz5kRFRf3rX//6/fffEUJ///vfR44cuXnzZjMzsylTpmzcuLGsrOz69ev6iCQgIKC1tXXhwoX6GBwhJJfL+91l6c9XX32Vm5ubn58vFArJxoyMDAaDERkZ2draashg+vXbb79t2bJl/fr1U6ZMUb/r888/nzx58oIFC5R/7U85481zY3hv2Y0bNxQKxcyZM8mWd999FyH03XffIYQeP35sb29Pxunk5IQQqqmpoSLS15Wdnd3Y2Giwr6usrIyPj9+5cyeXy1Vu9/HxiY6OfvLkSUxMjMGCGcjkyZMLCgrCw8P7vvpeRRdCaMeOHWVlZYZ5AEZNRpTnOI6npKSMHTuWw+GYmZlt3ryZ7Orp6UlISHB2dubxeJMmTSKOdrKysgQCAZ/PP3369Pz580UikaOjI3G0jxC6fPnyjBkz+Hy+SCTy9PSUSCQDjaMCg8FACPF4PLLF3d0dIUTsz8VisXJuECfnYrFYR8vjP65cueLs7Ixh2Ndff41UznhGRgaXy7WxsVm3bp29vT2Xy/Xx8SEOMaKiothsNvnzlU8++UQgEGAY9vz58+jo6E2bNlVVVWEY5ubmhhA6f/68SCTavXu3zueFkJGRgeP4okWL+nYlJSWNGTPm8OHDFy5c6NuL43hqaur48eM5HI6FhcXixYvv3r2repkgzdf7a7KwsPDz80tPT8eN5yUuBjg3UPOcbdu2bRiG7du3r7m5WSaTZWZmoj/Oz2NiYjgczokTJ5qbm7du3cpgMG7cuEH8CULo4sWLra2tjY2Ns2fPFggEnZ2dUqlUJBIlJyfL5fKGhobg4OCmpiYV4wykvLwcIRQfH0+2EAdjQUFBOI5funSJxWJlZGRIJJLbt2+PHz/+nXfeUWeBIM3Pzx8/fowQ2r9/P7ms+p1xHMcjIyMFAsGdO3c6OjoqKiqIy4S1tbU4joeHh9va2pJjpqSkIISIJRMSEuLq6kp2FRUVCYXCxMREjYLE1V7XYrF4woQJvRpdXV0fPXqE4/jVq1cZDMbo0aOlUin+5/PzhIQENpt95MiRlpaW8vLyqVOnWllZNTQ0qF4mmq73XmbOnNn3/Fx1V1xcHFLj6pLBzs+NJc9lMhmfz3/77bfJFvI6nFwu5/P5YWFh5JQcDufjjz/G/1i1crmc6CL+a6isrLx9+zbqczlHxTgqvPvuu5aWlhcvXpTL5U+fPs3Pz8cw7L333iN6t2/fTv6P6ejo+PjxY3UWiK7yvO+M4zgeGRlpZmZG/uGNGzcQQjt37sQ1yXOtqbOupVIphmELFy7s1U7mOY7jmzZtQgh9+umnuFKey2QyU1NTcg3iOP7LL78ghIj/jwZaJtqtd2Va5Pk333yDEPrnP/+peuRhdx2usrJSJpP5+/v37bp3755MJps4cSLxkcfj2dnZEUdrvRClCLq6usRisY2NTURExI4dO6qrqzUdR1lubu6SJUtWrFhhaWnp6+v773//G8dx4rLwtm3bDh48ePHiRalU+vDhQx8fH29vbyIhDYyc8b5d06ZN4/P5g86mITU2NuI4zufzVUyTlJQ0duzYzMzMK1eukI0VFRVSqXTatGlky/Tp09lsdr/XPsllot16f03E3D179kyv36I+Y8nzuro6hJC1tXXfrvb2doTQ9u3bsT/U1NTIZDIVo/F4vB9//HHWrFm7d+8Wi8VhYWFyuVyLcRBCZmZmBw4cqKurk8lkVVVV+/btQwiNHDny6dOnycnJH3300V//+leBQODi4nLo0KH6+npiJ2lUOBxOU1MT1VH8R0dHB0Ko3ytYJC6Xm5OTg2HY6tWryQcWWlpaEEKmpqbKU5qbm7e1takYSrv1/pqIazrEnBoDY8lz4rrrq1ev+nYRyZ+WlqZ8HFJSUqJ6QA8PjzNnztTX18fGxubl5e3du1e7cXohDoPnzp374MGDnp4e5d9+iUQiS0vLiooKjQbUt66urpaWFkdHR6oD+Q8iBwZ9mMTb23vjxo0PHjzYtWsX0WJubo4Q6pXVg86dTta7pojqN8pXcKllLHk+ceJEBoNx+fLlvl1OTk5cLlejB+Pq6+vv3LmDELK2tt6zZ8/UqVPv3LmjxTh9HTp0yMXFxc/Pj9i2lIsTtrW1vXz5kri7ZjwuXbqE4zhRRI3JZPZ7bG9gNjY2GIapc4d8165d48aNKy0tJT5OnDjR1NT0119/JSe4fv16Z2fnm2++qWIQnax3TRFzZ2tra8gvVcFY8tza2jo0NPTEiRPZ2dkSiaS8vPzgwYNEF5fLXbVq1bFjx7KysiQSSU9PT11d3UDVPwn19fXr1q27e/duZ2dnaWlpTU2Nl5eXFuMghGbMmFFTU9Pd3V1dXR0TE3PhwoXs7Gw2m+3i4jJ37txDhw79/PPPcrn88ePHkZGRCKG//e1vulomWlMoFM3Nzd3d3eXl5dHR0c7OzitXrkQIubm5vXz58tSpU11dXU1NTcq3+i0tLevr66urq9va2rq6uoqLi/V3X43P54vFYuJMTTXi6J14FzXxcdOmTSdPnjx69KhEIrl169b69evt7e2JJa9ikIHWe1hYmK2trT4epyXmzojK3ej9Sp/a91ra2trWrl07YsQIU1PTWbNmJSQkIIQcHR1/++23V69excbGOjs7M5lMa2vrkJCQioqKzMxM4mqHu7t7VVXVwYMHRSIRQmjUqFE//PCDj4+PhYWFiYnJyJEjt23b1t3djeN4v+Oojurtt982NzdnMpkWFhYBAQHK92OIO89ubm4cDsfU1JS8SjcopOH19v379xP3vfl8/qJFi1TM+P379yMjI1ksloODA5PJFIlEixcvrqqqIsZ58eLF3LlzuVyui4vLZ599Rjyh4ObmVltbe/PmzVGjRvF4vFmzZjU0NJw7d04oFCYlJakfJEHNdR0VFcVisWQyGfHx5MmTrq6uCCErKyviGruyzZs3k/fVFApFSkqKu7s7i8WysLAICgq6d+8ejuOql8lA6z0oKAghlJCQ0G+QJSUlvr6+9vb2RKbY2dn5+PhcvnxZdRchICDAwcFBoVCoXg7D7r7asKJpnmskMjLS0tJST4MPSs11/eDBAyaTeeTIEQOEpEJPT8/s2bOzs7N1O+zz58+5XO7evXsHnXLY3VcDOmSMv5f6Mzc3t8TExMTERKlUSlUMPT09p06damtrCwsL0+3IO3bsmDJlSlRUlG6HfR3DPc/v3r2LDUznWwAgxcXFLVmyJCwsjKqfrFy6dKmgoKC4uFj1nXxNpaamlpWVnTt3rld1WmoN9zwfN26ciqMd4penQ8jWrVtzcnJaW1tdXFxOnDhBdTiD2L17d1RU1J49eyj5dn9//2+//Va39SpOnz796tWrS5cuWVhY6HDY12eg9zoDw/jyyy+//PJLqqPQwLx58+bNm0d1FDoTGBgYGBhIdRT9GO77cwCGA8hzAOgP8hwA+oM8B4D+DHQdrq6uLj8/3zDfNSTo+3cUVCGe94R1rSbDbQYGeBYH6iIDoIIBctBAx+3w3KsypM/nXqkFzzhrRN9vqiPB+TkA9Ad5DgD9QZ4DQH+Q5wDQH+Q5APQHeQ4A/Q2lPFeunktgs9k2NjZz5l4DQ1gAACAASURBVMxJSUlpbm6mOkCgMWOui5yUlNTrfQTkS+ARQleuXPH19eXz+fb29rGxscSrio22LvJQyvOQkJCHDx+6uroS9UYUCkVjY2N+fr6Li0tsbKyHh4fym0CB8fviiy8yMjK2bt1KrtkRI0YcPXr07Nmz5DTff//98ePHFy5cWFFRMXXqVAqjVVZRUTFv3jx/f/+mpqaTJ09+880369evRwgtWrSIy+X6+/sTr5o3HkMpz3vBMMzc3HzOnDk5OTn5+fnPnj0jigdTHReVdFLe2DA1ko2/LjJCqNcb7Ih6XgihXbt22dnZ7dy5UyAQeHt7x8bG/uMf/yBqvEBdZD0KDQ1duXJlY2PjgQMHqI6FSjopb2yAGslDoi7yQLq7u8+ePevn50eWxJ4/fz6O46dPnyY+Ql1kPSJeUV5cXIyoq6OsQ/gABYDVL29szDWSh3Rd5IcPH0qlUmdnZ7KFeCk1UV0XQV1knSDPz3shMtPJyQmnro6ympAaz7erKACsftlTw9dIplNd5F27djk6Opqbm7NYrNGjRwcGBv7yyy84jhNVg1JSUpQn5vF4/v7+5Edjq4tMn/25UCjEMKytra2joyMrKysoKCgkJMTc3Hz79u0sFisnJ4ec0sfHRyQSWVtbh4WFtbe319bWVldXSyQSDw8PLpdra2tbUFBgZWU16Dj6I5fLU1NTg4ODIyIizMzMPD09Dxw48Pz5c7JGjfqYTCax95swYUJWVlZbW5umsxAQECCRSOLj4zX96oG0t7c/evSI2Af2y9vbe8OGDdXV1Vu2bFFuV2ex9F25Wq/HDz/8sLCw8PHjx1Kp9NixY7W1tX5+fhUVFcSldbJKDIHFYpH1HhFC7u7uCKFbt26pvVT0iz553t7ejuO4SCSito6yTmhUAFh9RlIjeajURXZycnrjjTdMTU3ZbLaXl1dOTo5cLs/MzCSuKfS6zNbZ2alcNRHqIuvL/fv3EULjxo2jto6yTmhXAFgdxlAjeYjWRfb09DQxMbl//z5xXYM4TyTIZLKOjg6yDBOCusj6c/78eYTQ/PnzjaqOsna0KwA8KCOpkTxE6yIrFAqFQsHhcFxcXIRCoXIVysrKSoTQpEmTyBaoi6wXDQ0NaWlpjo6Oq1evNqo6ytpRXQBY6/LGRlIjeajURX7nnXeUPxKX7ry9vZlM5oIFC37++WeFQkF0FRcXYximfPsA6iLrAI7jUqmUKEbZ1NSUl5fn6+trYmJy6tQpkUhEbR1lnVBdAFj98sbIKGskD5W6yE+ePMnNzW1paenq6iopKVmzZo2zszPx3Ft8fPyzZ8+++OKL9vb2kpKSlJSUlStXjh07lvxbqIusvcLCwkmTJvH5fDabzWAw0B+PxM2YMSMxMfHFixfklBTWUVYHUuO+2kAFgHFNyhsbvkYyneoib9q0ydXVVSAQMJlMR0fHtWvX1tfXk73EAxccDsfe3n7z5s0dHR3Kfwt1kYHh3g9n+BrJUBcZh7rIwPCM8LdTCOoiGxzkOaAG1EU2JMhz2jL+GslQF9lgoC4ybQ2JGslQF9kwYH8OAP1BngNAf5DnANAf5DkA9Geg63DXrl1bsmSJYb5rSEhLSzt+/DjVUejetWvXEEKwrtWkzsO/OoHh+n+1TWpqKl3LfQ9FFy9enDhxovH8xAIY4H98Q+Q5MCoYhuXl5b3//vtUBwIMB87PAaA/yHMA6A/yHAD6gzwHgP4gzwGgP8hzAOgP8hwA+oM8B4D+IM8BoD/IcwDoD/IcAPqDPAeA/iDPAaA/yHMA6A/yHAD6gzwHgP4gzwGgP8hzAOgP8hwA+oM8B4D+IM8BoD/IcwDoD/IcAPqDPAeA/iDPAaA/yHMA6A/yHAD6gzwHgP4gzwGgP8hzAOgP8hwA+oM8B4D+IM8BoD8Mx3GqYwD6tWLFitLSUvLj48ePR4wYwefziY8sFquoqGjkyJEURQcMgUl1AEDvxo4de+TIEeWW1tZW8t8TJkyAJKc9OG6nv4iICAzD+u1isVgrV640bDiAAnDcPixMmzbt5s2bfdc1hmEPHz4cPXo0FUEBw4H9+bCwYsUKExOTXo0MBsPLywuSfDiAPB8WwsLCFApFr0YGg7FixQpK4gEGBnk+LNjY2Pj5+fXapeM4HhwcTFVIwJAgz4eL5cuXK5+fm5iYvPXWWzY2NhSGBAwG8ny4CAkJYTL/cxsVx/GIiAgK4wGGBHk+XIhEovnz55OpzmQyFy1aRG1IwGAgz4eRiIiInp4ehBCTyQwMDBSJRFRHBAwE8nwYee+994jHXXt6esLDw6kOBxgO5PkwwuVyQ0JCEEICgeDdd9+lOhxgOHp5vr2uru7q1av6GBm8JkdHR4TQ9OnTT58+TXUsoB9OTk7e3t66HxfXg7y8PN0HCsAwEBoaqo+U1OPv1XB4cv4PS5YsQQgdP36c6kAQQmj37t1btmzp+xisdvLz85cuXQrrWieI7UQf4Px82ImNjdVVkoOhAvJ82FF+WgYME5DnANAf5DkA9Ad5DgD9QZ4DQH/Gkudr1qwRCoUYhpWVlVEbSVdXV0JCglgsZrPZDg4OMTExcrl80C6dO3funJmZ2ZkzZ/Q0vpG4cOFCXFxcQUGBWCzGMAzDsOXLlytPMG/ePKFQaGJi4uHhcfPmTUPGlpSUhP3ZxIkTyd4rV674+vry+Xx7e/vY2NhXr14hhAoLC5OTk4kfERgXfdyUJ56T0fSvjh07hhAqLS3VR0jq+/jjj7lc7rFjxyQSyU8//SQSiT744INBu1QLDQ3V9PmHoqIikUhUWFio8QwYlnbrmpCQkLBw4UKJREJ8dHV1HTFiBEKoqKhIebLi4uLAwMDXDVRzu3bt6pUsHh4eRNft27d5PF58fLxUKr169aqVldWqVauIrvT0dD8/v+bmZi2+UYvtRE2Q539SVVXFYDA++ugjsmX79u0IoTt37qjoGnRY/a0/rclkMm9v79cfR+s837Nnz5gxY+RyOdni6ur67bffMhgMBweHlpYWsp3CPD9y5Ei/XUuXLnVxcVEoFMTHlJQUDMN+//134mNUVJS3t3dXV5em36i/7cRYjtsRQgO9e9iQbty4oVAoZs6cSbYQv/f47rvvVHQZPs7Xl52d3djYSNW3V1ZWxsfH79y5k8vlKrf7+PhER0c/efIkJiaGqtgG1d3dffbsWT8/P3KLnT9/Po7j5E8GduzYUVZWlp6eTl2MvVGZ5ziOp6SkjB07lsPhmJmZbd68mezq6elJSEhwdnbm8XiTJk0idhpZWVkCgYDP558+fXr+/PkikcjR0ZE4CkAIXb58ecaMGXw+XyQSeXp6SiSSgcZRgcFgIIR4PB7Z4u7ujhD6/fffVXTpaHn8x5UrV5ydnTEM+/rrr5HKGc/IyOByuTY2NuvWrbO3t+dyuT4+PtevX0cIRUVFsdlsOzs7YsxPPvlEIBBgGPb8+fPo6OhNmzZVVVVhGObm5oYQOn/+vEgk2r17t87npV8ZGRk4jvf7ooukpKQxY8YcPnz4woULfXtxHE9NTR0/fjyHw7GwsFi8ePHdu3fRYNuGppuBag8fPpRKpc7OzmSLq6srQqi8vJz4aGFh4efnl56ejhvP48D6OEhQ81hu27ZtGIbt27evublZJpNlZmaiP47bY2JiOBzOiRMnmpubt27dymAwbty4QfwJQujixYutra2NjY2zZ88WCASdnZ1SqVQkEiUnJ8vl8oaGhuDg4KamJhXjDIRYVfHx8WRLd3c3QigoKEhF16BzqsXx2OPHjxFC+/fvJ5dVvzOO43hkZKRAILhz505HR0dFRcX06dOFQmFtbS2O4+Hh4ba2tuSYKSkpCCFiyYSEhLi6upJdRUVFQqEwMTFRoyBxbY/bxWLxhAkTejW6uro+evQIx/GrV68yGIzRo0dLpVL8z8ftCQkJbDb7yJEjLS0t5eXlU6dOtbKyamhowFUuIk03A8KuXbscHR3Nzc1ZLNbo0aMDAwN/+eUXHMcvX76MEEpJSVGemMfj+fv7kx/j4uKQ5iehNDw/l8lkfD7/7bffJlvI83O5XM7n88PCwsgpORzOxx9/jP+xLsmTOuK/hsrKytu3b6M+129UjKPCu+++a2lpefHiRblc/vTp0/z8fAzD3nvvPdVdqukqz/vOOI7jkZGRZmZm5B/euHEDIbRz505ckzzXmhZ5LpVKMQxbuHBhr3Yyz3Ec37RpE0Lo008/xZXyXCaTmZqakisUx/FffvkFIUT89zTQItJuM8BxvLa29ubNm21tba9evSopKXnjjTd4PN7t27e///57hFBqaqryxCKRyMfHh/z4zTffIIT++c9/arRkaHh+XllZKZPJ/P39+3bdu3dPJpOR9zB4PJ6dnR1xeNYLm81GCHV1dYnFYhsbm4iIiB07dlRXV2s6jrLc3NwlS5asWLHC0tLS19f33//+N47jxHVgFV0GRs54365p06bx+fxBZ5NCjY2NOI6ThRz7lZSUNHbs2MzMzCtXrpCNFRUVUql02rRpZMv06dPZbDZxntILuYi02wwQQk5OTm+88YapqSmbzfby8srJyZHL5ZmZmcQ1BeJojtTZ2al8TkfM3bNnzwb9FsOgLM/r6uoQQtbW1n272tvbEULbt28n71vW1NTIZDIVo/F4vB9//HHWrFm7d+8Wi8VhYWFyuVyLcRBCZmZmBw4cqKurk8lkVVVV+/btQwgRlQZVdBkVDofT1NREdRQD6ujoQAhxOBwV03C53JycHAzDVq9eTT6k0NLSghAyNTVVntLc3LytrU3FUNptBn15enqamJjcv3+fuORBXAAiyGSyjo4Oe3t7soXIeWJOjQFleU78p0g8XdALkfxpaWnKBx4lJSWqB/Tw8Dhz5kx9fX1sbGxeXt7evXu1G6cX4jB47ty5GnVRqKurq6WlhXhvjHEicmDQh0m8vb03btz44MED8j62ubk5QqhXVg86szrZDBBCCoVCoVBwOBwXFxehUFhTU0N2VVZWIoQmTZpEtnR2dqI/X7WlFmV5PnHiRAaDQVzS6MXJyYnL5Wr0YFx9ff2dO3cQQtbW1nv27Jk6deqdO3e0GKevQ4cOubi4+Pn5adRFoUuXLuE47uXlhRBiMpn9HttTy8bGBsMw5drMA9m1a9e4cePI4u0TJ040NTX99ddfyQmuX7/e2dn55ptvqhhE683gnXfeUf5IXLrz9vZmMpkLFiz4+eefyVJWxcXFGIYp3z4g5s7W1lbTL9UTyvLc2to6NDT0xIkT2dnZEomkvLz84MGDRBeXy121atWxY8eysrIkEklPT09dXd3Tp09VjFZfX79u3bq7d+92dnaWlpbW1NR4eXlpMQ5CaMaMGTU1Nd3d3dXV1TExMRcuXMjOziZO9lR0UUuhUDQ3N3d3d5eXl0dHRzs7OxPVjt3c3F6+fHnq1Kmurq6mpiblXZClpWV9fX11dXVbW1tXV1dxcbHB7qvx+XyxWEycuKlGHL2Tb8XgcrmbNm06efLk0aNHJRLJrVu31q9fb29vHxkZqXqQgTaDsLAwW1vbgR6nffLkSW5ubktLS1dXV0lJyZo1a5ydndevX48Qio+Pf/bs2RdffNHe3l5SUpKSkrJy5cqxY8eSf0vMnaenp9pLRc/0cXFPzWuwbW1ta9euHTFihKmp6axZsxISEhBCjo6Ov/3226tXr2JjY52dnZlMprW1dUhISEVFRWZmJnF5w93dvaqq6uDBg8QbyEeNGvXDDz/4+PhYWFiYmJiMHDly27Zt3d3dOI73O47qqN5++21zc3Mmk2lhYREQEKB8A0ZFl2qaXkfdv38/cRLI5/MXLVqkYsbv378fGRnJYrEcHByYTKZIJFq8eHFVVRUxzosXL+bOncvlcl1cXD777DPiCQU3NzfiSvKoUaN4PN6sWbMaGhrOnTsnFAqTkpLUD5Kg3X21qKgoFoslk8mIjydPniRuQVtZWRHX2JVt3ryZvK+mUChSUlLc3d1ZLJaFhUVQUNC9e/dwHFe9iAbaDIKCghBCCQkJ/Qa5adMmV1dXgUDAZDIdHR3Xrl1bX19P9hLPa3A4HHt7+82bN3d0dCj/bUBAgIODA/nAnJpoeF9tWNHrc6+RkZGWlpZ6GnxQ2q3rBw8eMJnMgZ4qNZienp7Zs2dnZ2frdtjnz59zudy9e/dq+oc0vK8GdMgYfyClkpubW2JiYmJiolQqpSqGnp6eU6dOtbW1hYWF6XbkHTt2TJkyJSoqSrfDvo5hl+d3797FBqbzVQ4GEhcXt2TJkrCwMHUuyOnDpUuXCgoKiouLVd/J11RqampZWdm5c+dYLJYOh31Nwy7Px40bp+LwJjc3l+oANbN169acnJzW1lYXF5cTJ05QHY5mdu/eHRUVtWfPHkq+3d/f/9tvvyWf/9eJ06dPv3r16tKlSxYWFjoc9vXBqz+Hti+//PLLL7+kOgrtzZs3b968eVRHoTOBgYGBgYFUR9GPYbc/B2AYgjwHgP4gzwGgP8hzAOhPj9fh9FcUbsi5du0aoukCIR7wpOWsGd61a9eIHyboHOzPAaA/Pe7PjaQMsDEwqrrIukXURablrBke1EUGAGgP8hwA+oM8B4D+IM8BoD/IcwDoz6jzXLmMJoHNZtvY2MyZMyclJaW5uZnqAIHGjLlAKkGhUKSlpfn4+PRq77dAqoou46qdqo+XV+j2fTKurq5EHQLiLWg//fTTypUrMQyzt7dX/81N1DLCOoq6otG6NvICqTiO379/39fXFyE0efJk5XYVBVJ1WDt1WL83isxzZcePH2cwGDY2NsqFNY2WXvNcJ5VPtR5E/XVt/AVSy8rKgoODjx49OmXKlF55rqJAqg5rp8J7o3oLDQ1duXJlY2PjgQMHqI6FYjqpfKrv8qlDokDq5MmTCwoKwsPDe9WQUFEgdajUTh2qeY4QIl5dXFxcjKirr6pb+ADFQNWvfGq05VPpWiB1yNRO1cdBggGO23EcJzLTyckJp66+qprUPB5TUQxU/YqIBi6fqua6HhIFUkkzZ85UPm5XUSBVt7VT4bi9H0KhEMOwtra2jo6OrKysoKCgkJAQc3Pz7du3s1isnJwcckofHx+RSGRtbR0WFtbe3l5bW1tdXS2RSDw8PLhcrq2tbUFBgZWV1aDj6JVcLk9NTQ0ODo6IiDAzM/P09Dxw4MDz58/J8hXqYzKZxA5wwoQJWVlZbW1tms5FQECARCKJj4/X9Kv71d7e/ujRI2JH1y9vb+8NGzZUV1dv2bJFuV2dZdJ35ep8PRLXz8lyEQQWiyWXy1V0kR/d3d0RQrdu3dI6gNc3hPO8vb0dx3GRSERtfVVd0agYqPqMoXzqUCmQOhAVBVKHSu3UIZzn9+/fRwiNGzeO2vqquqJdMVB1UF4+dYgWSCWpKJA6VGqnDuE8P3/+PEJo/vz5RlVfVWvaFQMdlDGUTx2iBVJJKgqkDpXaqUM1zxsaGtLS0hwdHVevXm1U9VW1proYqNaVT42hfOpQKZA6EBUFUodK7dShkec4jkulUuJRhKampry8PF9fXxMTk1OnTolEImrrq+qK6mKg6lc+RcZXPnWoFEhVQUWB1KFRO1UfF/F1dV+tsLBw0qRJfD6fzWYzGAyEEIZh5ubmM2bMSExMfPHiBTklhfVV1aHm/ZKBioHimlQ+NXD5VDXX9ZAokFpSUuLr60ueWtvZ2fn4+Fy+fJnoVVEgVVe1U4f1c680YMjn2w1cPlXNdU3vAqkqaFQ7Fe6fAw0Yy2+klNC7QKoKRlI7FfIcGAhdC6SqYDy1UyHPacXIy6fSr0CqCkZVOxXqpdKK8ZdPpVmBVBWMqnYq7M8BoD/IcwDoD/IcAPqDPAeA/iDPAaA/PV5vJ9+YBQg0XiA0njUDCw0N1cewGK6H11bV1dVdvXpV58MCnVi6dGl0dLS3tzfVgYB+ODk56WPV6CXPgTHDMCwvL+/999+nOhBgOHB+DgD9QZ4DQH+Q5wDQH+Q5APQHeQ4A/UGeA0B/kOcA0B/kOQD0B3kOAP1BngNAf5DnANAf5DkA9Ad5DgD9QZ4DQH+Q5wDQH+Q5APQHeQ4A/UGeA0B/kOcA0B/kOQD0B3kOAP1BngNAf5DnANAf5DkA9Ad5DgD9QZ4DQH+Q5wDQH+Q5APQHeQ4A/UGeA0B/kOcA0B/kOQD0x6Q6AKB3NTU1PT09yi3Pnj17+PAh+XHkyJFcLtfgcQHDwXAcpzoGoF8BAQHnzp0bqJfFYj179szCwsKQIQEDg+N2+gsLCxuoi8FgzJs3D5Kc9iDP6S84OHigw3Icx5cvX27geIDhQZ7Tn0AgeO+991gsVt8uDofz3nvvGT4kYGCQ58NCeHh4d3d3r0YWixUcHCwQCCgJCRgS5PmwsGDBAlNT016NXV1d4eHhlMQDDAzyfFhgs9lLlixhs9nKjSKR6K233qIqJGBIkOfDxQcffNDZ2Ul+ZLFYy5Yt65X5gK7g/vlwoVAo7OzsmpqayJbLly//5S9/oTAkYDCwPx8uGAxGeHg4edXd2tp61qxZ1IYEDAbyfBhZtmxZV1cXQojNZq9cuZLBgLU/XMBx+zCC4/jo0aNra2sRQr/++uubb75JdUTAQOB/9GEEw7AVK1YghMRiMST5sKKz36uVlJSkpqbqajSgJxKJBCHE5XKXLFlCdSxgEN7e3hs3btTJUDrbnz9+/PjEiRO6Go3Grl27du3aNaq+XSQSmZubOzk56WPwuro62AZ05dq1ayUlJboaTce/Pz9+/LhuB6QfYkdK4YK6cOGCnh6Pyc/PX7p0KWwDOqHbAy44Px924Bm4YQjyHAD6gzwHgP4gzwGgP8hzAOiPyjxfs2aNUCjEMKysrIzCMEgKhSItLc3Hx6dX+5UrV3x9ffl8vr29fWxs7KtXr9Tp0qFz586ZmZmdOXNGH4NT6MKFC3FxcQUFBWKxGMMwDMN6vcRq3rx5QqHQxMTEw8Pj5s2bho9QV5tEYWFhcnJyr7fuGhSuI3l5eVqMduzYMYRQaWmprsLQ2v379319fRFCkydPVm6/ffs2j8eLj4+XSqVXr161srJatWrVoF0qhIaGhoaGahRbUVGRSCQqLCzU6K8MT6NtICEhYeHChRKJhPjo6uo6YsQIhFBRUZHyZMXFxYGBgToOVD263STS09P9/Pyam5vV/HYtthMVIM9xHMfLysqCg4OPHj06ZcqUXit16dKlLi4uCoWC+JiSkoJh2O+//666SwXdrj+dkMlk3t7erz+O+tvAnj17xowZI5fLyRZXV9dvv/2WwWA4ODi0tLSQ7VTluT42iaioKG9v766uLnUC0O12QvH5OYZh1AZAmDx5ckFBQXh4OIfDUW7v7u4+e/asn58fGef8+fNxHD99+rSKLkNH/9qys7MbGxsN9nWVlZXx8fE7d+7s9RZaHx+f6OjoJ0+exMTEGCyYgehjk9ixY0dZWVl6erohZ4Rg6Dwn/pMbO3Ysh8MxMzPbvHkz2dXT05OQkODs7Mzj8SZNmkTsHLKysgQCAZ/PP3369Pz580UikaOjI3EUgBC6fPnyjBkz+Hy+SCTy9PQkHt7udxztPHz4UCqVOjs7ky2urq4IofLychVdWn9dv65cueLs7Ixh2Ndff41ULpCMjAwul2tjY7Nu3Tp7e3sul+vj43P9+nWEUFRUFJvNtrOzI8b85JNPBAIBhmHPnz+Pjo7etGlTVVUVhmFubm4IofPnz4tEot27d+t2RkgZGRk4ji9atKhvV1JS0pgxYw4fPnzhwoW+vTiOp6amjh8/nsPhWFhYLF68+O7du6qXCdLp9oBeb5OwsLDw8/NLT0/HDf8jUV0dGKh5zLZt2zYMw/bt29fc3CyTyTIzM9Efx+0xMTEcDufEiRPNzc1bt25lMBg3btwg/gQhdPHixdbW1sbGxtmzZwsEgs7OTqlUKhKJkpOT5XJ5Q0NDcHBwU1OTinHUMXPmTOWDtMuXLyOEUlJSlKfh8Xj+/v4qulR/hRbHY48fP0YI7d+/n/g40ALBcTwyMlIgENy5c6ejo6OiomL69OlCobC2thbH8fDwcFtbW3LMlJQUhBCxxEJCQlxdXcmuoqIioVCYmJioUZC42tuAWCyeMGFCr0ZXV9dHjx7hOH716lUGgzF69GipVIr/+bg9ISGBzWYfOXKkpaWlvLx86tSpVlZWDQ0NqpfJ62wPuK43ibi4OKTeieoQPm6Xy+VpaWlvvfXWxo0bzc3NeTyepaUl0dXR0ZGVlRUUFBQSEmJubr59+3YWi5WTk0P+rY+Pj0gksra2DgsLa29vr62tra6ulkgkHh4eXC7X1ta2oKDAyspq0HE0QlwsNTExUW5ksVhyuVxFl3bfpam+C4RoZzKZxB5vwoQJWVlZbW1tms5+QECARCKJj4/XQ9Sovb390aNHxI6uX97e3hs2bKiurt6yZYtyu1wuT01NDQ4OjoiIMDMz8/T0PHDgwPPnzw8ePEhO03eZ6HZ7QK+9Sbi7uyOEbt26pXUA2jFonldWVspkMn9//75d9+7dk8lkEydOJD7yeDw7OzviqKwX4tWFXV1dYrHYxsYmIiJix44d1dXVmo6jDuIEstebzzs7O3k8noou7b5La+QC6ds1bdo0Pp+v9ezrQ2NjI47jfD5fxTRJSUljx47NzMy8cuUK2VhRUSGVSqdNm0a2TJ8+nc1mEycmvZDLRLfbA3rtTYKY8WfPnmkdgHYMmud1dXUIIWtr675d7e3tCKHt27djf6ipqZHJZCpG4/F4P/7446xZs3bv3i0Wi8PCwuRyuRbjqECc0BKn/QSZTNbR0WFvb6+iS7vv0hMOh6P87kfKdXR0IIR6Xdzqhcvl5uTkYBi2evVqcmfY0tKCEOr1Fnpzc/O2tjYVQ+l2e0CvvUkQOU8sBEMyaJ4T/+H1+zAJkfxpaWnKJxWD/v7Ww8PjzJkz9fX1sbGxeXl5e/fu1W6cgbi4uAiFwpqaGrKlsrISITRp0iQVXdp9VMU4lAAAGb5JREFUlz50dXW1tLQ4OjpSHch/EBv6oE+MEK9YePDgwa5du4gWc3NzhFCvrB507nS7PaDX3iSIV2sb/qDPoHk+ceJEBoNBXK7oxcnJicvlavRgXH19/Z07dxBC1tbWe/bsmTp16p07d7QYRwUmk7lgwYKff/5ZoVAQLcXFxRiGLVq0SEWXTr5aJy5duoTjuJeXF0KIyWT2e2xvYDY2NhiGtba2Djrlrl27xo0bV1paSnycOHGiqanpr7/+Sk5w/fr1zs5O1S/A0u32gF57kyBm3NbWVlfxqMmgeW5tbR0aGnrixIns7GyJRFJeXk5eROFyuatWrTp27FhWVpZEIunp6amrq3v69KmK0err69etW3f37t3Ozs7S0tKamhovLy8txlEtPj7+2bNnX3zxRXt7e0lJSUpKysqVK8eOHau6i0IKhaK5ubm7u7u8vDw6OtrZ2XnlypUIITc3t5cvX546daqrq6upqUl5t2NpaVlfX19dXd3W1tbV1VVcXKy/+2p8Pl8sFhNncKoRR+/kZS0ul7tp06aTJ08ePXpUIpHcunVr/fr19vb2kZGRqgcZaHsICwuztbXV4nHa19kkiBn39PTU9Etfl64u3Kt5T6WtrW3t2rUjRowwNTWdNWtWQkICQsjR0fG333579epVbGyss7Mzk8m0trYOCQmpqKjIzMwkLl24u7tXVVUdPHhQJBIhhEaNGvXDDz/4+PhYWFiYmJiMHDly27Zt3d3dOI73O47qqEpKSnx9fcnzKDs7Ox8fn8uXLxO9xF16Dodjb2+/efPmjo4O8g9VdA1E0/sl+/fvJ078+Hz+okWLVCyQ+/fvR0ZGslgsBwcHJpMpEokWL15cVVVFjPPixYu5c+dyuVwXF5fPPvuMeHLBzc2ttrb25s2bo0aN4vF4s2bNamhoOHfunFAoTEpKUj9IgprbQFRUFIvFkslkxMeTJ08Sl9+trKw+/fTTXhNv3ryZvK+mUChSUlLc3d1ZLJaFhUVQUNC9e/dwHFe9TAbaHoKCghBCCQkJ/Qapp00iICDAwcGBfGBOBVo99zoM6fW518jISEtLSz0NPig1t4EHDx4wmcwjR44YICQVenp6Zs+enZ2dbbBvfP78OZfL3bt3rzoTD+H758AAqPxRlHrc3NwSExMTExOlUilVMfT09Jw6daqtrS0sLMxgX7pjx44pU6ZERUUZ7BtJwyLP7969iw3MkGsaEOLi4pYsWRIWFqbOBTl9uHTpUkFBQXFxseo7+TqUmppaVlZ27tw5svSVIQ2LPB83bpyKQ5rc3FyqA9SNrVu35uTktLa2uri4GP/7lXfv3h0VFbVnzx5Kvt3f3//bb78lH/jXt9OnT7969erSpUsWFhaG+cZedPxeZ0ChL7/88ssvv6Q6Cg3Mmzdv3rx5VEdhCIGBgYGBgRQGMCz25wAMc5DnANAf5DkA9Ad5DgD9QZ4DQH86vt5uJO97M340XlA0njUDCw0N1dVQOs7z13z51nCQlpaGENqwYQPVgeheSUlJeno6bAM6QWwnuqLjPH///fd1OyD9EGWD6bqg0tPT6TprBqbb8tJwfg4A/UGeA0B/kOcA0B/kOQD0B3kOAP0ZdZ4rV8wlsNlsGxubOXPmpKSkNDc3Ux0g0CVjLpOclJTU67UF5DvhkdHWQlZi1HkeEhLy8OFDV1dXMzMzHMcVCkVjY2N+fr6Li0tsbKyHh4fy2z/BkPbFF19kZGRs3bqVXOkjRow4evTo2bNnyWm+//7748ePL1y4sKKiYurUqRRGq6yiomLevHn+/v5NTU0nT5785ptv1q9fjxBatGgRl8v19/cn3jxPLaPO814wDDM3N58zZ05OTk5+fv6zZ88CAgKoeiGJcZLL5T4+PsYwiEa++uqr3Nzc/Px8oVBINmZkZDAYjMjISCNZxb1eaHf79m2ifdeuXXZ2djt37hQIBN7e3rGxsf/4xz+Iki+ff/755MmTFyxY0KtIi+ENpTxXFhoaunLlysbGxgMHDlAdixHRSYVjKJOsPmOuhaxsqOY5Qoh4LXlxcTEyyprKrwkfoAaw+hWOoUwytWWSiY9U1kJWpqsXx+rvvc7k+XkvRGY6OTnhxlFTWU1qvq9XRQ1g9SscG7hMsnbbwJAok7xr1y5HR0dzc3MWizV69OjAwMBffvkFV1kmmfyofi1kZfBe5/8jFAoxDGtrazPOmsqvQ50awGqCMsk6KZP84YcfFhYWPn78WCqVHjt2rLa21s/Pr6KiwphrISsbwnne3t6O47hIJDLOmsqvQ6MawOqDMslar2InJ6c33njD1NSUzWZ7eXnl5OTI5fLMzExjroWsbAjn+f379xFC48aNM86ayq9DuxrA6oAyyUgXq9jT09PExOT+/fvGXAtZ2RDO8/PnzyOE5s+fb5w1lV+HdjWABwVlknW1ihUKhUKh4HA4xlwLWdlQzfOGhoa0tDRHR8fVq1cbZ03l16G6BrDWFY6hTLLWq/idd95R/khcuvP29jbmWsjKhkae4zgulUqJKpNNTU15eXm+vr4mJianTp0SiURGW1NZa6prAKtf4RhBmeQ+g2hXJvnJkye5ubktLS1dXV0lJSVr1qxxdnYmnnsz3lrIynR14V4f99UKCwsnTZrE5/PZbDaDwUB/PBI3Y8aMxMTEFy9ekFNSWFNZU2reLxmoBjCuSYVjA5dJ1m4bGBJlkjdt2uTq6ioQCJhMpqOj49q1a+vr68leXdVCVgZ1kYc2vdZF7sXAZZK12wboXSZZo1rIyuD+OdCAkfxeSgV6l0mmsBayMshzQD26lkmmthayMshz2oIyyerTR5lkymshK4O6yLQFZZKpRXktZGWwPweA/iDPAaA/yHMA6A/yHAD60/F1uPz8fN0OSD/EU5C0XFDED0JoOWuGV1dXp8tfHOnqgRuokgmAbunweTgMp/a1VcDgMAzLy8uDqqbDCpyfA0B/kOcA0B/kOQD0B3kOAP1BngNAf5DnANAf5DkA9Ad5DgD9QZ4DQH+Q5wDQH+Q5APQHeQ4A/UGeA0B/kOcA0B/kOQD0B3kOAP1BngNAf5DnANAf5DkA9Ad5DgD9QZ4DQH+Q5wDQH+Q5APQHeQ4A/UGeA0B/kOcA0B/kOQD0B3kOAP1BngNAf5DnANAf5DkA9Ad5DgD9QZ4DQH9MqgMAenfo0KGXL18qt5w+ffrRo0fkx1WrVtnY2Bg8LmA4GI7jVMcA9GvdunV///vfORxO366uri4LC4uGhgYmE/7HpzM4bqe/ZcuWIYRe9cfExOSDDz6AJKc92J/TH47jDg4OT58+7bf36tWr3t7eBg4JGBjsz+kPw7Dw8HA2m923a+TIkV5eXoYPCRgY5PmwsGzZss7Ozl6NbDb7ww8/xDCMkpCAIcFx+3Dh7u5eWVnZq7G8vNzT05OSeIAhwf58uIiIiGCxWMotbm5ukOTDBOT5cBEREdHd3U1+ZLFYq1atojAeYEhw3D6MTJkypby8nFjjGIZVVVW5uLhQHRQwBNifDyMrVqwwMTFBCGEY9uabb0KSDx+Q58PIsmXLFAoFQsjExGTFihVUhwMMB/J8GLG3t/f19cUwTKFQLFmyhOpwgOFAng8vy5cvx3F8zpw5dnZ2VMcCDAjXj9DQUKrnDIChR0/5qMcfMHh5eW3YsEF/49PD0qVLo6OjDfmEeVpa2kcffSQQCAzwRQgh2AbUVFJSkp6erqfB9Zjnjo6O77//vv7Gp4elS5d6e3sbckHNmjVr5MiRBvii48ePI4RgG1Cf/vIczs+HHcMkOTAqkOcA0B/kOQD0B3kOAP1BngNAf0aU52vWrBEKhRiGlZWVUR0LQggpFIq0tDQfH59e7VeuXPH19eXz+fb29rGxsa9evVLnr3To3LlzZmZmZ86c0d9XUOLChQtxcXEFBQVisRjDMAzDli9frjzBvHnzhEKhiYmJh4fHzZs3DRlbUlIS9mcTJ04ke/vdJAoLC5OTk3t6egwZ50CMKM8PHz586NAhqqP4Pw8ePPjLX/6yceNGmUym3F5RUTFv3jx/f/+mpqaTJ09+880369evH/SvdAun408Mv/jii4yMjK1bt4aEhDx8+NDV1XXEiBFHjx49e/YsOc33339//PjxhQsXVlRUTJ06lcJolQ20SSxatIjL5fr7+7e0tFAdozHlufH47bfftmzZsn79+ilTpvTq2rVrl52d3c6dOwUCgbe3d2xs7D/+8Y+7d++q/ivdCggIaG1tXbhwoZ7Gl8vlej0e6eurr77Kzc3Nz88XCoVkY0ZGBoPBiIyMbG1tNWQwAzly5IjyE2a3b98m2lVsEp9//vnkyZMXLFig/Mt/ShhXnhvJu8omT55cUFAQHh7e653n3d3dZ8+e9fPzI+OcP38+juOnT59W8VdDTnZ2dmNjo8G+rrKyMj4+fufOnVwuV7ndx8cnOjr6yZMnMTExBgtGU6o3CYTQjh07ysrK9PcAjJooznMcx1NSUsaOHcvhcMzMzDZv3kx29fT0JCQkODs783i8SZMm5eXlIYSysrIEAgGfzz99+vT8+fNFIpGjo+OxY8eIP7l8+fKMGTP4fL5IJPL09JRIJAONo52HDx9KpVJnZ2eyxdXVFSFUXl6u9ZiaunLlirOzM4ZhX3/9NVK5QDIyMrhcro2Nzbp16+zt7blcro+Pz/Xr1xFCUVFRbDab/CnLJ598IhAIMAx7/vx5dHT0pk2bqqqqMAxzc3NDCJ0/f14kEu3evVtPc5SRkYHj+KJFi/p2JSUljRkz5vDhwxcuXOjbi+N4amrq+PHjORyOhYXF4sWLib2o6o1Eh9sDUmOTsLCw8PPzS09Pp/hsS0/PzYeGhoaGhg462bZt2zAM27dvX3Nzs0wmy8zMRAiVlpbiOB4TE8PhcE6cONHc3Lx161YGg3Hjxg3iTxBCFy9ebG1tbWxsnD17tkAg6OzslEqlIpEoOTlZLpc3NDQEBwc3NTWpGEcdM2fOnDx5Mvnx8uXLCKGUlBTlaXg8nr+/v4q/Ug0hlJeXp+bEhMePHyOE9u/fT3wcaIHgOB4ZGSkQCO7cudPR0VFRUTF9+nShUFhbW4vjeHh4uK2tLTlmSkoKQohYYiEhIa6urmRXUVGRUChMTEzUKEhc7W1ALBZPmDChV6Orq+ujR49wHL969SqDwRg9erRUKsVxvLi4ODAwkJgmISGBzWYfOXKkpaWlvLx86tSpVlZWDQ0NqpeJdtvDrl27HB0dzc3NWSzW6NGjAwMDf/nlF1y9TSIuLo7cqlUg/scZNBLtULk/l8vlaWlpb7311saNG83NzXk8nqWlJdHV0dGRlZUVFBQUEhJibm6+fft2FouVk5ND/q2Pj49IJLK2tg4LC2tvb6+tra2urpZIJB4eHlwu19bWtqCgwMrKatBxNEJcRyVeyUJisVhyuVzbZaAzfRcI0c5kMok93oQJE7Kystra2jSd/YCAAIlEEh8fr4eoUXt7+6P/3965hzT1/nH8mc65rTkvNS85lZmi4IUuFt4iQzAqyCyl/SFkklhQUonY1cTrH4r+EYYIsn8KdZiYgQuCsAhmEFmK4iX5qtnwmubmvEx3vn88v/aVo56dnd+O53h8Xv9tO372nLPn7dl5nmfn9c8/8By4JTExMXfv3h0ZGbl///7G55eWlqqqqi5dupSenu7q6hoREVFbWzszM1NXV2fZZvMxodwfrl692tbW9vPnT4PB0NDQMDY2durUqd7eXjJdIjg4GADQ09ND+qjYHyZz/uPHD6PRmJiYuPmlgYEBo9FomboQiUTe3t7wWxkOqB8wmUyBgYGenp7p6emFhYUjIyO21iEDvIDEjamsrq6KRCJqBenAckA2vxQVFSUWiynvPh1MTU1hGCYWiwm2KSkpCQkJqamp+fTpk+XJ3t5eg8EQFRVleeb48eMCgQBemOCwHBPK/cHPz+/IkSMSiUQgEERHR6tUqqWlpZqaGjJdAu7d5OSk1XehDyZzPj4+DgCQyWSbX1pcXAQAPH782DJdOTo6SjxZJRKJ3r9/Hx8fX1paGhgYqFQql5aWKNQhAF7Qwst+iNFoXF5e9vHxoVZw53F2dp6enma6Ff+xvLwMACAeuRQKhSqVisfjZWZmWs6TcLJKIpFs3NLNzU2v1xOUsld/iIiIcHR0HBwcJNMlYObhnjIFkzmH/wtx60wgMPzV1dUbrzG0Wi1xwbCwsDdv3uh0uvz8/KampsrKSmp1tkOhULi4uIyOjlqegeaDyMhIagV3GJPJND8/L5fLmW7If8AMWF1MEhMTc+/evaGhoeLiYviMm5sbAACXaqt7Z6/+YDabzWazs7MzmS4BTTjMfuljMufh4eEODg5wJAOHn5+fUCi0aWGcTqfr6+sDAMhksvLy8qNHj/b19VGoQwCfzz937tzHjx/h3RQBABqNhsfjbTlWzEI6OjowDINCNT6fv+V3+x3G09OTx+ORmSEvLi4ODQ3t6uqCD8PDwyUSyZcvXywbfP78eXV19dixYwRFKPeHM2fObHwIh+5iYmLIdAm4d15eXra+qR1hMucymSw1NbW5ubm+vn5hYaG7u9syiCIUCq9du9bQ0PD8+fOFhYX19fXx8fHtjJ8QnU5348aN/v7+1dXVrq6u0dHR6OhoCnWIefLkyeTk5NOnTxcXF7VabUVFRUZGRkhICOWCdGM2m+fm5tbW1rq7u+/cuePv75+RkQEACAoK+v37d2trq8lkmp6e3nhG8vDw0Ol0IyMjer3eZDJpNBr65tXEYnFgYCC8giMGfnu3jHgJhcLc3NyWlpYXL14sLCz09PTcvHnTx8cnOzubuMh2/UGpVHp5eW23nPbXr1+NjY3z8/Mmk0mr1V6/ft3f3x+ue7PaJeDeMay+oWkcn+Scil6vz8rK2r9/v0QiiY+PLygoAADI5fLv37+vrKzk5+f7+/vz+XyZTHb58uXe3t6amho4qhEcHDw8PFxXVyeVSgEAAQEB7969i42NdXd3d3R0PHjw4KNHj9bW1jAM27IOcau0Wm1cXJzlEsvb2zs2NvbDhw/wVThL7+zs7OPjk5eXt7y8TOavtgPYOK/27NkzeE0oFosvXLhAcEAGBwezs7OdnJx8fX35fL5UKr148eLw8DCsMzs7e/r0aaFQqFAobt++DVcuBAUFjY2Nff36NSAgQCQSxcfHT0xMtLe3u7i4lJSUkG8khGQfyMnJcXJyMhqN8GFLSwscfj9w4MCtW7dwG+fl5Vnm1cxmc0VFRXBwsJOTk7u7e0pKysDAAIZhxMdku/6QkpICACgoKNiykbm5uYcOHdq3bx+fz5fL5VlZWTqdzvLqdl0Ccv78eV9fX7PZTHwcaJ1XYzjnCFtzbhPZ2dkeHh40FbcKyT4wNDTE5/Nxq0p3nvX19ZMnT9bX19u37MzMjFAorKystLolZ+fPETsAS34vRUBQUFBRUVFRUZHBYGCqDevr662trXq9XqlU2rdyYWHh4cOHc3Jy7FvWVvZizvv7+3nbY/dPGmGVBw8epKWlKZVKpn6y0tHR8erVK41GQzyTbytVVVXfvn1rb2/HmWp3nr2Y89DQUIJvOI2NjUw30D48fPhQpVL9+fNHoVA0Nzcz3RwrlJaW5uTklJeXM/LuiYmJL1++tK+74vXr1ysrKx0dHe7u7nYsSw0a7+uMYJaysrKysjKmW2EDSUlJSUlJTLfCbiQnJycnJzPdiv+xF8/nCMReA+UcgeA+KOcIBPdBOUcguA+N43Dj4+NqtZq++pyB8u9qWA5c74n6AEno7QY0rb9BXmQEggI05ZHG83lqaio0ZiII4PF4TU1NnJSKpqWlgb/WVIRV1Gr1lStXaCqOrs8RCO6Dco5AcB+UcwSC+6CcIxDcB+UcgeA+KOcIBPfZTTnfaMyFCAQCT0/PhISEioqKubk5phuIsBtsdiRDNguwWSVCxrGbcm4x5rq6umIYZjabp6am1Gq1QqHIz88PCwvbePdPxO6F/Y7kLQXYrBIh49hNOcfB4/Hc3NwSEhJUKpVarZ6cnITCYKbbxRbsojdGjuTNEAiw2SNCxrGLc76R1NTUjIyMqamp2tpaptvCFuyiN0aO5M0QC7BZIkLGwZGcAwDgbck1Gg1gpVP5/wHbRgBMXm+MHMk74EiGsEWEjIOmdfP03dfZcn2OAybTz88PY4dTmSSAxH2dCQTA5PXGO+9IptAHdoUj2cJ2AmySImQc6L7OpHBxceHxeHq9np1OZcqQEQCTBDmS7eJItgobRMg4uJPzxcVFDMOkUik7ncqUsUkATB7kSKbv82WDCBkHd3I+ODgIAAgNDWWnU5ky1ATAZECOZEDP58sGETIO7uT87du3AICzZ8+y06lMGWoCYKsgRzJ9ny8bRMg4OJLziYmJ6upquVyemZnJTqcyZYgFwJT1xsiRTN/nywYRMo5dmXMMwwwGAxRQTk9PNzU1xcXFOTo6tra2SqVS1jqVqUEsACavNwbIkbypCDVHslVYIULGQdM4Ph3zam1tbZGRkWKxWCAQODg4gL9L4k6cOFFUVDQ7O2vZkkGnsq0AEvNq2wmAMVv0xjvvSKbQB3aFI9mqAJukCBkH8iJzGTI5tws770im0Ac44EgmL0LGgebPEfaBnT+l2ggHHMksESHjQDlHsItd7UhmjwgZB8r5ngA5kslD2ZHMKhEyDuRF3hMgR/IOwCoRMg50PkcguA/KOQLBfVDOEQjug3KOQHAfGsfhOjs7oUkPQUx1dTUnZYOdnZ3gr00RYRUyC34pw8PoubtNVVUVV7XeCAR90PQfn66cIxAI9oCuzxEI7oNyjkBwH5RzBIL7oJwjENznX2+H4R9dqiYEAAAAAElFTkSuQmCC",
            "text/plain": [
              "<IPython.core.display.Image object>"
            ]
          },
          "execution_count": 91,
          "metadata": {},
          "output_type": "execute_result"
        }
      ],
      "source": [
        "plot_model(red_wine_model_1, show_shapes = True)"
      ]
    },
    {
      "cell_type": "code",
      "execution_count": 92,
      "metadata": {
        "colab": {
          "base_uri": "https://localhost:8080/"
        },
        "id": "1ih9LptPWc-O",
        "outputId": "060893bb-a6e7-48f9-fb76-ab4bded46ed0"
      },
      "outputs": [
        {
          "name": "stdout",
          "output_type": "stream",
          "text": [
            "10/10 [==============================] - 0s 2ms/step - loss: 0.4675 - mean_squared_error: 0.3921\n"
          ]
        },
        {
          "data": {
            "text/plain": [
              "[0.4674557149410248, 0.39211055636405945]"
            ]
          },
          "execution_count": 92,
          "metadata": {},
          "output_type": "execute_result"
        }
      ],
      "source": [
        "red_wine_model_1.evaluate(red_wine_test_features, red_wine_test_labels)"
      ]
    },
    {
      "cell_type": "code",
      "execution_count": 93,
      "metadata": {
        "colab": {
          "base_uri": "https://localhost:8080/"
        },
        "id": "z3CC53nDdn2y",
        "outputId": "fa80eb4d-8ec0-4f69-8bc0-592a580fac90"
      },
      "outputs": [
        {
          "name": "stdout",
          "output_type": "stream",
          "text": [
            "1/1 [==============================] - 0s 67ms/step\n"
          ]
        },
        {
          "data": {
            "text/plain": [
              "array([[5.774643 ],\n",
              "       [5.05765  ],\n",
              "       [6.6147647],\n",
              "       [5.2827153],\n",
              "       [5.9326057]], dtype=float32)"
            ]
          },
          "execution_count": 93,
          "metadata": {},
          "output_type": "execute_result"
        }
      ],
      "source": [
        "red_wine_model_1.predict(red_wine_test_features[:5])"
      ]
    },
    {
      "cell_type": "code",
      "execution_count": 94,
      "metadata": {
        "colab": {
          "base_uri": "https://localhost:8080/",
          "height": 467
        },
        "id": "k9Y8u5mpg-1w",
        "outputId": "5b2c7094-4b2b-48b1-88e9-5a14f96c4d84"
      },
      "outputs": [
        {
          "data": {
            "text/plain": [
              "Text(0.5, 0, 'Epochs')"
            ]
          },
          "execution_count": 94,
          "metadata": {},
          "output_type": "execute_result"
        },
        {
          "data": {
            "image/png": "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",
            "text/plain": [
              "<Figure size 640x480 with 1 Axes>"
            ]
          },
          "metadata": {},
          "output_type": "display_data"
        }
      ],
      "source": [
        "pd.DataFrame(red_wine_result.history).plot()\n",
        "plt.ylabel(\"Loss\")\n",
        "plt.xlabel(\"Epochs\")"
      ]
    },
    {
      "cell_type": "markdown",
      "metadata": {
        "id": "JJ3-PLCkCnQj"
      },
      "source": [
        "- Model 1 is already pretty accurate\n",
        "- However, it can get better by using DNN's and hidden non - linear activation layers"
      ]
    },
    {
      "cell_type": "code",
      "execution_count": 95,
      "metadata": {
        "colab": {
          "base_uri": "https://localhost:8080/"
        },
        "id": "bWiNrHQAghn9",
        "outputId": "bf3ab1d8-e3ad-4127-a076-e4dfe8b4b550"
      },
      "outputs": [
        {
          "data": {
            "text/plain": [
              "<keras.src.callbacks.History at 0x7a218de67ac0>"
            ]
          },
          "execution_count": 95,
          "metadata": {},
          "output_type": "execute_result"
        }
      ],
      "source": [
        "\n",
        "red_wine_model_2 = tf.keras.Sequential([\n",
        "    tf.keras.layers.Dense(50),\n",
        "    tf.keras.layers.Dense(100, activation = 'relu'),\n",
        "    tf.keras.layers.Dense(100, activation = 'relu'),\n",
        "    tf.keras.layers.Dense(100, activation = 'relu'),\n",
        "    tf.keras.layers.Dense(50, activation = 'relu'),\n",
        "    tf.keras.layers.Dense(1)\n",
        "])\n",
        "\n",
        "red_wine_model_2.compile(loss = tf.keras.losses.mae,\n",
        "                optimizer = tf.keras.optimizers.Adam(learning_rate = 0.001),\n",
        "                metrics = tf.keras.losses.mse)\n",
        "\n",
        "red_wine_model_2.fit(red_wine_train_features, red_wine_train_labels, epochs = 200, verbose = 0)"
      ]
    },
    {
      "cell_type": "code",
      "execution_count": 96,
      "metadata": {
        "colab": {
          "base_uri": "https://localhost:8080/"
        },
        "id": "LPuy-k_r1kvo",
        "outputId": "c61d216b-561d-40a8-b0a2-55cf0601653a"
      },
      "outputs": [
        {
          "name": "stdout",
          "output_type": "stream",
          "text": [
            "Model: \"sequential_16\"\n",
            "_________________________________________________________________\n",
            " Layer (type)                Output Shape              Param #   \n",
            "=================================================================\n",
            " dense_102 (Dense)           (None, 50)                600       \n",
            "                                                                 \n",
            " dense_103 (Dense)           (None, 100)               5100      \n",
            "                                                                 \n",
            " dense_104 (Dense)           (None, 100)               10100     \n",
            "                                                                 \n",
            " dense_105 (Dense)           (None, 100)               10100     \n",
            "                                                                 \n",
            " dense_106 (Dense)           (None, 50)                5050      \n",
            "                                                                 \n",
            " dense_107 (Dense)           (None, 1)                 51        \n",
            "                                                                 \n",
            "=================================================================\n",
            "Total params: 31001 (121.10 KB)\n",
            "Trainable params: 31001 (121.10 KB)\n",
            "Non-trainable params: 0 (0.00 Byte)\n",
            "_________________________________________________________________\n"
          ]
        }
      ],
      "source": [
        "red_wine_model_2.summary()"
      ]
    },
    {
      "cell_type": "code",
      "execution_count": 97,
      "metadata": {
        "colab": {
          "base_uri": "https://localhost:8080/",
          "height": 754
        },
        "id": "mlKlk0EY0I43",
        "outputId": "f0951d63-4f83-4e82-f486-66de8b8ef6f2"
      },
      "outputs": [
        {
          "data": {
            "image/png": "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",
            "text/plain": [
              "<IPython.core.display.Image object>"
            ]
          },
          "execution_count": 97,
          "metadata": {},
          "output_type": "execute_result"
        }
      ],
      "source": [
        "plot_model(red_wine_model_2, show_shapes = True)"
      ]
    },
    {
      "cell_type": "code",
      "execution_count": 98,
      "metadata": {
        "colab": {
          "base_uri": "https://localhost:8080/"
        },
        "id": "JSSXrJjWzz_4",
        "outputId": "046e28bb-d18d-4668-a2f6-24d221787a60"
      },
      "outputs": [
        {
          "name": "stdout",
          "output_type": "stream",
          "text": [
            "10/10 [==============================] - 0s 2ms/step - loss: 0.4675 - mean_squared_error: 0.3921\n",
            "10/10 [==============================] - 0s 2ms/step - loss: 0.4615 - mean_squared_error: 0.4379\n"
          ]
        },
        {
          "data": {
            "text/plain": [
              "0.0059275031089782715"
            ]
          },
          "execution_count": 98,
          "metadata": {},
          "output_type": "execute_result"
        }
      ],
      "source": [
        "model_1_loss = red_wine_model_1.evaluate(red_wine_test_features, red_wine_test_labels)[0]\n",
        "model_2_loss = red_wine_model_2.evaluate(red_wine_test_features, red_wine_test_labels)[0]\n",
        "\n",
        "abs(model_1_loss - model_2_loss) # About 19% difference model_2 is slightly better"
      ]
    },
    {
      "cell_type": "markdown",
      "metadata": {
        "id": "1tfkszuQ8H-s"
      },
      "source": [
        "## White wine prediction model"
      ]
    },
    {
      "cell_type": "markdown",
      "metadata": {
        "id": "bKHlWuRu8ag-"
      },
      "source": [
        "Since both data sets are similar we can go straight to setting up, normalizing and fitting the data"
      ]
    },
    {
      "cell_type": "code",
      "execution_count": 99,
      "metadata": {
        "colab": {
          "base_uri": "https://localhost:8080/",
          "height": 223
        },
        "id": "-MAgdBwNAK2Q",
        "outputId": "a7d4a887-a940-4418-9130-56a3f46c1a00"
      },
      "outputs": [
        {
          "data": {
            "application/vnd.google.colaboratory.intrinsic+json": {
              "summary": "{\n  \"name\": \"white_wine_raw\",\n  \"rows\": 4898,\n  \"fields\": [\n    {\n      \"column\": \"fixed acidity\",\n      \"properties\": {\n        \"dtype\": \"number\",\n        \"std\": 0.843868227687513,\n        \"min\": 3.8,\n        \"max\": 14.2,\n        \"num_unique_values\": 68,\n        \"samples\": [\n          10.3,\n          5.8,\n          6.2\n        ],\n        \"semantic_type\": \"\",\n        \"description\": \"\"\n      }\n    },\n    {\n      \"column\": \"volatile acidity\",\n      \"properties\": {\n        \"dtype\": \"number\",\n        \"std\": 0.10079454842486534,\n        \"min\": 0.08,\n        \"max\": 1.1,\n        \"num_unique_values\": 125,\n        \"samples\": [\n          0.14,\n          0.595,\n          0.13\n        ],\n        \"semantic_type\": \"\",\n        \"description\": \"\"\n      }\n    },\n    {\n      \"column\": \"citric acid\",\n      \"properties\": {\n        \"dtype\": \"number\",\n        \"std\": 0.12101980420298249,\n        \"min\": 0.0,\n        \"max\": 1.66,\n        \"num_unique_values\": 87,\n        \"samples\": [\n          0.64,\n          0.36,\n          0.24\n        ],\n        \"semantic_type\": \"\",\n        \"description\": \"\"\n      }\n    },\n    {\n      \"column\": \"residual sugar\",\n      \"properties\": {\n        \"dtype\": \"number\",\n        \"std\": 5.072057784014881,\n        \"min\": 0.6,\n        \"max\": 65.8,\n        \"num_unique_values\": 310,\n        \"samples\": [\n          15.5,\n          19.25,\n          3.3\n        ],\n        \"semantic_type\": \"\",\n        \"description\": \"\"\n      }\n    },\n    {\n      \"column\": \"chlorides\",\n      \"properties\": {\n        \"dtype\": \"number\",\n        \"std\": 0.021847968093728798,\n        \"min\": 0.009,\n        \"max\": 0.346,\n        \"num_unique_values\": 160,\n        \"samples\": [\n          0.167,\n          0.133,\n          0.015\n        ],\n        \"semantic_type\": \"\",\n        \"description\": \"\"\n      }\n    },\n    {\n      \"column\": \"free sulfur dioxide\",\n      \"properties\": {\n        \"dtype\": \"number\",\n        \"std\": 17.00713732523259,\n        \"min\": 2.0,\n        \"max\": 289.0,\n        \"num_unique_values\": 132,\n        \"samples\": [\n          24.0,\n          122.5,\n          7.0\n        ],\n        \"semantic_type\": \"\",\n        \"description\": \"\"\n      }\n    },\n    {\n      \"column\": \"total sulfur dioxide\",\n      \"properties\": {\n        \"dtype\": \"number\",\n        \"std\": 42.49806455414291,\n        \"min\": 9.0,\n        \"max\": 440.0,\n        \"num_unique_values\": 251,\n        \"samples\": [\n          260.0,\n          63.0,\n          70.0\n        ],\n        \"semantic_type\": \"\",\n        \"description\": \"\"\n      }\n    },\n    {\n      \"column\": \"density\",\n      \"properties\": {\n        \"dtype\": \"number\",\n        \"std\": 0.0029909069169369337,\n        \"min\": 0.98711,\n        \"max\": 1.03898,\n        \"num_unique_values\": 890,\n        \"samples\": [\n          0.99362,\n          0.99388,\n          0.9929\n        ],\n        \"semantic_type\": \"\",\n        \"description\": \"\"\n      }\n    },\n    {\n      \"column\": \"pH\",\n      \"properties\": {\n        \"dtype\": \"number\",\n        \"std\": 0.1510005996150668,\n        \"min\": 2.72,\n        \"max\": 3.82,\n        \"num_unique_values\": 103,\n        \"samples\": [\n          3.34,\n          3.41,\n          3.49\n        ],\n        \"semantic_type\": \"\",\n        \"description\": \"\"\n      }\n    },\n    {\n      \"column\": \"sulphates\",\n      \"properties\": {\n        \"dtype\": \"number\",\n        \"std\": 0.1141258339488323,\n        \"min\": 0.22,\n        \"max\": 1.08,\n        \"num_unique_values\": 79,\n        \"samples\": [\n          0.41,\n          0.45,\n          0.46\n        ],\n        \"semantic_type\": \"\",\n        \"description\": \"\"\n      }\n    },\n    {\n      \"column\": \"alcohol\",\n      \"properties\": {\n        \"dtype\": \"number\",\n        \"std\": 1.230620567757318,\n        \"min\": 8.0,\n        \"max\": 14.2,\n        \"num_unique_values\": 103,\n        \"samples\": [\n          12.6,\n          11.3666666666667,\n          10.0333333333333\n        ],\n        \"semantic_type\": \"\",\n        \"description\": \"\"\n      }\n    },\n    {\n      \"column\": \"quality\",\n      \"properties\": {\n        \"dtype\": \"number\",\n        \"std\": 0,\n        \"min\": 3,\n        \"max\": 9,\n        \"num_unique_values\": 7,\n        \"samples\": [\n          6,\n          5,\n          3\n        ],\n        \"semantic_type\": \"\",\n        \"description\": \"\"\n      }\n    }\n  ]\n}",
              "type": "dataframe",
              "variable_name": "white_wine_raw"
            },
            "text/html": [
              "\n",
              "  <div id=\"df-c033b774-3222-4c98-9979-4ab699bba0a1\" class=\"colab-df-container\">\n",
              "    <div>\n",
              "<style scoped>\n",
              "    .dataframe tbody tr th:only-of-type {\n",
              "        vertical-align: middle;\n",
              "    }\n",
              "\n",
              "    .dataframe tbody tr th {\n",
              "        vertical-align: top;\n",
              "    }\n",
              "\n",
              "    .dataframe thead th {\n",
              "        text-align: right;\n",
              "    }\n",
              "</style>\n",
              "<table border=\"1\" class=\"dataframe\">\n",
              "  <thead>\n",
              "    <tr style=\"text-align: right;\">\n",
              "      <th></th>\n",
              "      <th>fixed acidity</th>\n",
              "      <th>volatile acidity</th>\n",
              "      <th>citric acid</th>\n",
              "      <th>residual sugar</th>\n",
              "      <th>chlorides</th>\n",
              "      <th>free sulfur dioxide</th>\n",
              "      <th>total sulfur dioxide</th>\n",
              "      <th>density</th>\n",
              "      <th>pH</th>\n",
              "      <th>sulphates</th>\n",
              "      <th>alcohol</th>\n",
              "      <th>quality</th>\n",
              "    </tr>\n",
              "  </thead>\n",
              "  <tbody>\n",
              "    <tr>\n",
              "      <th>0</th>\n",
              "      <td>7.0</td>\n",
              "      <td>0.27</td>\n",
              "      <td>0.36</td>\n",
              "      <td>20.7</td>\n",
              "      <td>0.045</td>\n",
              "      <td>45.0</td>\n",
              "      <td>170.0</td>\n",
              "      <td>1.0010</td>\n",
              "      <td>3.00</td>\n",
              "      <td>0.45</td>\n",
              "      <td>8.8</td>\n",
              "      <td>6</td>\n",
              "    </tr>\n",
              "    <tr>\n",
              "      <th>1</th>\n",
              "      <td>6.3</td>\n",
              "      <td>0.30</td>\n",
              "      <td>0.34</td>\n",
              "      <td>1.6</td>\n",
              "      <td>0.049</td>\n",
              "      <td>14.0</td>\n",
              "      <td>132.0</td>\n",
              "      <td>0.9940</td>\n",
              "      <td>3.30</td>\n",
              "      <td>0.49</td>\n",
              "      <td>9.5</td>\n",
              "      <td>6</td>\n",
              "    </tr>\n",
              "    <tr>\n",
              "      <th>2</th>\n",
              "      <td>8.1</td>\n",
              "      <td>0.28</td>\n",
              "      <td>0.40</td>\n",
              "      <td>6.9</td>\n",
              "      <td>0.050</td>\n",
              "      <td>30.0</td>\n",
              "      <td>97.0</td>\n",
              "      <td>0.9951</td>\n",
              "      <td>3.26</td>\n",
              "      <td>0.44</td>\n",
              "      <td>10.1</td>\n",
              "      <td>6</td>\n",
              "    </tr>\n",
              "    <tr>\n",
              "      <th>3</th>\n",
              "      <td>7.2</td>\n",
              "      <td>0.23</td>\n",
              "      <td>0.32</td>\n",
              "      <td>8.5</td>\n",
              "      <td>0.058</td>\n",
              "      <td>47.0</td>\n",
              "      <td>186.0</td>\n",
              "      <td>0.9956</td>\n",
              "      <td>3.19</td>\n",
              "      <td>0.40</td>\n",
              "      <td>9.9</td>\n",
              "      <td>6</td>\n",
              "    </tr>\n",
              "    <tr>\n",
              "      <th>4</th>\n",
              "      <td>7.2</td>\n",
              "      <td>0.23</td>\n",
              "      <td>0.32</td>\n",
              "      <td>8.5</td>\n",
              "      <td>0.058</td>\n",
              "      <td>47.0</td>\n",
              "      <td>186.0</td>\n",
              "      <td>0.9956</td>\n",
              "      <td>3.19</td>\n",
              "      <td>0.40</td>\n",
              "      <td>9.9</td>\n",
              "      <td>6</td>\n",
              "    </tr>\n",
              "  </tbody>\n",
              "</table>\n",
              "</div>\n",
              "    <div class=\"colab-df-buttons\">\n",
              "\n",
              "  <div class=\"colab-df-container\">\n",
              "    <button class=\"colab-df-convert\" onclick=\"convertToInteractive('df-c033b774-3222-4c98-9979-4ab699bba0a1')\"\n",
              "            title=\"Convert this dataframe to an interactive table.\"\n",
              "            style=\"display:none;\">\n",
              "\n",
              "  <svg xmlns=\"http://www.w3.org/2000/svg\" height=\"24px\" viewBox=\"0 -960 960 960\">\n",
              "    <path d=\"M120-120v-720h720v720H120Zm60-500h600v-160H180v160Zm220 220h160v-160H400v160Zm0 220h160v-160H400v160ZM180-400h160v-160H180v160Zm440 0h160v-160H620v160ZM180-180h160v-160H180v160Zm440 0h160v-160H620v160Z\"/>\n",
              "  </svg>\n",
              "    </button>\n",
              "\n",
              "  <style>\n",
              "    .colab-df-container {\n",
              "      display:flex;\n",
              "      gap: 12px;\n",
              "    }\n",
              "\n",
              "    .colab-df-convert {\n",
              "      background-color: #E8F0FE;\n",
              "      border: none;\n",
              "      border-radius: 50%;\n",
              "      cursor: pointer;\n",
              "      display: none;\n",
              "      fill: #1967D2;\n",
              "      height: 32px;\n",
              "      padding: 0 0 0 0;\n",
              "      width: 32px;\n",
              "    }\n",
              "\n",
              "    .colab-df-convert:hover {\n",
              "      background-color: #E2EBFA;\n",
              "      box-shadow: 0px 1px 2px rgba(60, 64, 67, 0.3), 0px 1px 3px 1px rgba(60, 64, 67, 0.15);\n",
              "      fill: #174EA6;\n",
              "    }\n",
              "\n",
              "    .colab-df-buttons div {\n",
              "      margin-bottom: 4px;\n",
              "    }\n",
              "\n",
              "    [theme=dark] .colab-df-convert {\n",
              "      background-color: #3B4455;\n",
              "      fill: #D2E3FC;\n",
              "    }\n",
              "\n",
              "    [theme=dark] .colab-df-convert:hover {\n",
              "      background-color: #434B5C;\n",
              "      box-shadow: 0px 1px 3px 1px rgba(0, 0, 0, 0.15);\n",
              "      filter: drop-shadow(0px 1px 2px rgba(0, 0, 0, 0.3));\n",
              "      fill: #FFFFFF;\n",
              "    }\n",
              "  </style>\n",
              "\n",
              "    <script>\n",
              "      const buttonEl =\n",
              "        document.querySelector('#df-c033b774-3222-4c98-9979-4ab699bba0a1 button.colab-df-convert');\n",
              "      buttonEl.style.display =\n",
              "        google.colab.kernel.accessAllowed ? 'block' : 'none';\n",
              "\n",
              "      async function convertToInteractive(key) {\n",
              "        const element = document.querySelector('#df-c033b774-3222-4c98-9979-4ab699bba0a1');\n",
              "        const dataTable =\n",
              "          await google.colab.kernel.invokeFunction('convertToInteractive',\n",
              "                                                    [key], {});\n",
              "        if (!dataTable) return;\n",
              "\n",
              "        const docLinkHtml = 'Like what you see? Visit the ' +\n",
              "          '<a target=\"_blank\" href=https://colab.research.google.com/notebooks/data_table.ipynb>data table notebook</a>'\n",
              "          + ' to learn more about interactive tables.';\n",
              "        element.innerHTML = '';\n",
              "        dataTable['output_type'] = 'display_data';\n",
              "        await google.colab.output.renderOutput(dataTable, element);\n",
              "        const docLink = document.createElement('div');\n",
              "        docLink.innerHTML = docLinkHtml;\n",
              "        element.appendChild(docLink);\n",
              "      }\n",
              "    </script>\n",
              "  </div>\n",
              "\n",
              "\n",
              "<div id=\"df-49411e78-47c8-41b9-b00c-cf3ecb62aeef\">\n",
              "  <button class=\"colab-df-quickchart\" onclick=\"quickchart('df-49411e78-47c8-41b9-b00c-cf3ecb62aeef')\"\n",
              "            title=\"Suggest charts\"\n",
              "            style=\"display:none;\">\n",
              "\n",
              "<svg xmlns=\"http://www.w3.org/2000/svg\" height=\"24px\"viewBox=\"0 0 24 24\"\n",
              "     width=\"24px\">\n",
              "    <g>\n",
              "        <path d=\"M19 3H5c-1.1 0-2 .9-2 2v14c0 1.1.9 2 2 2h14c1.1 0 2-.9 2-2V5c0-1.1-.9-2-2-2zM9 17H7v-7h2v7zm4 0h-2V7h2v10zm4 0h-2v-4h2v4z\"/>\n",
              "    </g>\n",
              "</svg>\n",
              "  </button>\n",
              "\n",
              "<style>\n",
              "  .colab-df-quickchart {\n",
              "      --bg-color: #E8F0FE;\n",
              "      --fill-color: #1967D2;\n",
              "      --hover-bg-color: #E2EBFA;\n",
              "      --hover-fill-color: #174EA6;\n",
              "      --disabled-fill-color: #AAA;\n",
              "      --disabled-bg-color: #DDD;\n",
              "  }\n",
              "\n",
              "  [theme=dark] .colab-df-quickchart {\n",
              "      --bg-color: #3B4455;\n",
              "      --fill-color: #D2E3FC;\n",
              "      --hover-bg-color: #434B5C;\n",
              "      --hover-fill-color: #FFFFFF;\n",
              "      --disabled-bg-color: #3B4455;\n",
              "      --disabled-fill-color: #666;\n",
              "  }\n",
              "\n",
              "  .colab-df-quickchart {\n",
              "    background-color: var(--bg-color);\n",
              "    border: none;\n",
              "    border-radius: 50%;\n",
              "    cursor: pointer;\n",
              "    display: none;\n",
              "    fill: var(--fill-color);\n",
              "    height: 32px;\n",
              "    padding: 0;\n",
              "    width: 32px;\n",
              "  }\n",
              "\n",
              "  .colab-df-quickchart:hover {\n",
              "    background-color: var(--hover-bg-color);\n",
              "    box-shadow: 0 1px 2px rgba(60, 64, 67, 0.3), 0 1px 3px 1px rgba(60, 64, 67, 0.15);\n",
              "    fill: var(--button-hover-fill-color);\n",
              "  }\n",
              "\n",
              "  .colab-df-quickchart-complete:disabled,\n",
              "  .colab-df-quickchart-complete:disabled:hover {\n",
              "    background-color: var(--disabled-bg-color);\n",
              "    fill: var(--disabled-fill-color);\n",
              "    box-shadow: none;\n",
              "  }\n",
              "\n",
              "  .colab-df-spinner {\n",
              "    border: 2px solid var(--fill-color);\n",
              "    border-color: transparent;\n",
              "    border-bottom-color: var(--fill-color);\n",
              "    animation:\n",
              "      spin 1s steps(1) infinite;\n",
              "  }\n",
              "\n",
              "  @keyframes spin {\n",
              "    0% {\n",
              "      border-color: transparent;\n",
              "      border-bottom-color: var(--fill-color);\n",
              "      border-left-color: var(--fill-color);\n",
              "    }\n",
              "    20% {\n",
              "      border-color: transparent;\n",
              "      border-left-color: var(--fill-color);\n",
              "      border-top-color: var(--fill-color);\n",
              "    }\n",
              "    30% {\n",
              "      border-color: transparent;\n",
              "      border-left-color: var(--fill-color);\n",
              "      border-top-color: var(--fill-color);\n",
              "      border-right-color: var(--fill-color);\n",
              "    }\n",
              "    40% {\n",
              "      border-color: transparent;\n",
              "      border-right-color: var(--fill-color);\n",
              "      border-top-color: var(--fill-color);\n",
              "    }\n",
              "    60% {\n",
              "      border-color: transparent;\n",
              "      border-right-color: var(--fill-color);\n",
              "    }\n",
              "    80% {\n",
              "      border-color: transparent;\n",
              "      border-right-color: var(--fill-color);\n",
              "      border-bottom-color: var(--fill-color);\n",
              "    }\n",
              "    90% {\n",
              "      border-color: transparent;\n",
              "      border-bottom-color: var(--fill-color);\n",
              "    }\n",
              "  }\n",
              "</style>\n",
              "\n",
              "  <script>\n",
              "    async function quickchart(key) {\n",
              "      const quickchartButtonEl =\n",
              "        document.querySelector('#' + key + ' button');\n",
              "      quickchartButtonEl.disabled = true;  // To prevent multiple clicks.\n",
              "      quickchartButtonEl.classList.add('colab-df-spinner');\n",
              "      try {\n",
              "        const charts = await google.colab.kernel.invokeFunction(\n",
              "            'suggestCharts', [key], {});\n",
              "      } catch (error) {\n",
              "        console.error('Error during call to suggestCharts:', error);\n",
              "      }\n",
              "      quickchartButtonEl.classList.remove('colab-df-spinner');\n",
              "      quickchartButtonEl.classList.add('colab-df-quickchart-complete');\n",
              "    }\n",
              "    (() => {\n",
              "      let quickchartButtonEl =\n",
              "        document.querySelector('#df-49411e78-47c8-41b9-b00c-cf3ecb62aeef button');\n",
              "      quickchartButtonEl.style.display =\n",
              "        google.colab.kernel.accessAllowed ? 'block' : 'none';\n",
              "    })();\n",
              "  </script>\n",
              "</div>\n",
              "\n",
              "    </div>\n",
              "  </div>\n"
            ],
            "text/plain": [
              "   fixed acidity  volatile acidity  citric acid  residual sugar  chlorides  \\\n",
              "0            7.0              0.27         0.36            20.7      0.045   \n",
              "1            6.3              0.30         0.34             1.6      0.049   \n",
              "2            8.1              0.28         0.40             6.9      0.050   \n",
              "3            7.2              0.23         0.32             8.5      0.058   \n",
              "4            7.2              0.23         0.32             8.5      0.058   \n",
              "\n",
              "   free sulfur dioxide  total sulfur dioxide  density    pH  sulphates  \\\n",
              "0                 45.0                 170.0   1.0010  3.00       0.45   \n",
              "1                 14.0                 132.0   0.9940  3.30       0.49   \n",
              "2                 30.0                  97.0   0.9951  3.26       0.44   \n",
              "3                 47.0                 186.0   0.9956  3.19       0.40   \n",
              "4                 47.0                 186.0   0.9956  3.19       0.40   \n",
              "\n",
              "   alcohol  quality  \n",
              "0      8.8        6  \n",
              "1      9.5        6  \n",
              "2     10.1        6  \n",
              "3      9.9        6  \n",
              "4      9.9        6  "
            ]
          },
          "execution_count": 99,
          "metadata": {},
          "output_type": "execute_result"
        }
      ],
      "source": [
        "white_wine_raw.head()"
      ]
    },
    {
      "cell_type": "code",
      "execution_count": 100,
      "metadata": {
        "id": "fxYeKVxzBZWN"
      },
      "outputs": [],
      "source": [
        "white_wine_raw = white_wine_raw.dropna()"
      ]
    },
    {
      "cell_type": "code",
      "execution_count": 101,
      "metadata": {
        "colab": {
          "base_uri": "https://localhost:8080/"
        },
        "id": "pGFDf7tdBlKo",
        "outputId": "f0a9ad66-3205-4775-925b-64dabcb42258"
      },
      "outputs": [
        {
          "data": {
            "text/plain": [
              "fixed acidity           0\n",
              "volatile acidity        0\n",
              "citric acid             0\n",
              "residual sugar          0\n",
              "chlorides               0\n",
              "free sulfur dioxide     0\n",
              "total sulfur dioxide    0\n",
              "density                 0\n",
              "pH                      0\n",
              "sulphates               0\n",
              "alcohol                 0\n",
              "quality                 0\n",
              "dtype: int64"
            ]
          },
          "execution_count": 101,
          "metadata": {},
          "output_type": "execute_result"
        }
      ],
      "source": [
        "white_wine_raw.isna().sum()"
      ]
    },
    {
      "cell_type": "code",
      "execution_count": 102,
      "metadata": {
        "id": "KYOo7b7dS1TP"
      },
      "outputs": [],
      "source": [
        "white_wine_labels = white_wine_raw[\"quality\"]\n",
        "white_wine_features = white_wine_raw.drop(\"quality\", axis = 1)"
      ]
    },
    {
      "cell_type": "code",
      "execution_count": 103,
      "metadata": {
        "id": "eNzj1PpTSb_e"
      },
      "outputs": [],
      "source": [
        "# Training and testing data split\n",
        "white_wine_train_labels, white_wine_test_labels, white_wine_train_features, white_wine_test_features = train_test_split(white_wine_labels, white_wine_features, test_size = 0.2, random_state = 0)"
      ]
    },
    {
      "cell_type": "code",
      "execution_count": 104,
      "metadata": {
        "colab": {
          "base_uri": "https://localhost:8080/"
        },
        "id": "5FZIQLKmT2GB",
        "outputId": "210b675d-fae6-4476-b9c1-0802438670fa"
      },
      "outputs": [
        {
          "data": {
            "text/plain": [
              "(980, 980, 3918, 3918)"
            ]
          },
          "execution_count": 104,
          "metadata": {},
          "output_type": "execute_result"
        }
      ],
      "source": [
        "len(white_wine_test_features), len(white_wine_test_labels), len(white_wine_train_features), len(white_wine_train_labels)"
      ]
    },
    {
      "cell_type": "code",
      "execution_count": 105,
      "metadata": {
        "id": "ZiJIQgufNKNz"
      },
      "outputs": [],
      "source": [
        "from sklearn.compose import make_column_transformer\n",
        "from sklearn.preprocessing import MinMaxScaler, OneHotEncoder\n",
        "from sklearn.model_selection import train_test_split\n",
        "\n",
        "scaler = MinMaxScaler()\n",
        "\n",
        "scaler.fit(white_wine_features)\n",
        "white_wine_train_features = scaler.transform(white_wine_train_features)\n",
        "white_wine_test_features = scaler.transform(white_wine_test_features)"
      ]
    },
    {
      "cell_type": "code",
      "execution_count": 106,
      "metadata": {
        "colab": {
          "base_uri": "https://localhost:8080/"
        },
        "id": "0e19aJl8NhO5",
        "outputId": "49f02d2f-e9b4-482e-8c08-f7efaa0aa875"
      },
      "outputs": [
        {
          "data": {
            "text/plain": [
              "array([[0.32692308, 0.17647059, 0.19277108, 0.15030675, 0.15727003,\n",
              "        0.07317073, 0.24361949, 0.18295739, 0.46363636, 0.31395349,\n",
              "        0.40322581],\n",
              "       [0.15384615, 0.20588235, 0.22891566, 0.00920245, 0.05934718,\n",
              "        0.1010453 , 0.28538283, 0.0354733 , 0.50909091, 0.1627907 ,\n",
              "        0.70967742],\n",
              "       [0.25961538, 0.37254902, 0.18674699, 0.06748466, 0.05341246,\n",
              "        0.04529617, 0.14617169, 0.08752651, 0.49090909, 0.44186047,\n",
              "        0.56451613],\n",
              "       [0.27884615, 0.25490196, 0.18072289, 0.23006135, 0.13353116,\n",
              "        0.17073171, 0.43387471, 0.21380374, 0.42727273, 0.31395349,\n",
              "        0.20967742],\n",
              "       [0.22115385, 0.07843137, 0.1626506 , 0.18404908, 0.16320475,\n",
              "        0.21254355, 0.3549884 , 0.2369385 , 0.85454545, 0.24418605,\n",
              "        0.14516129]])"
            ]
          },
          "execution_count": 106,
          "metadata": {},
          "output_type": "execute_result"
        }
      ],
      "source": [
        "white_wine_train_features[0:5]"
      ]
    },
    {
      "cell_type": "code",
      "execution_count": 107,
      "metadata": {
        "colab": {
          "base_uri": "https://localhost:8080/"
        },
        "id": "q4SHPahMOXBh",
        "outputId": "12de5f73-86c1-48a0-9f1a-ad545c342300"
      },
      "outputs": [
        {
          "data": {
            "text/plain": [
              "array([[0.33653846, 0.23529412, 0.21084337, 0.01226994, 0.12166172,\n",
              "        0.02090592, 0.35730858, 0.10275689, 0.47272727, 0.23255814,\n",
              "        0.43548387],\n",
              "       [0.30769231, 0.2254902 , 0.15662651, 0.10429448, 0.17804154,\n",
              "        0.09059233, 0.35034803, 0.15982263, 0.37272727, 0.27906977,\n",
              "        0.29032258],\n",
              "       [0.36538462, 0.05882353, 0.44578313, 0.01533742, 0.09198813,\n",
              "        0.08710801, 0.21809745, 0.08656256, 0.31818182, 0.20930233,\n",
              "        0.4516129 ],\n",
              "       [0.11538462, 0.20588235, 0.3253012 , 0.07822086, 0.07715134,\n",
              "        0.18118467, 0.3387471 , 0.05108926, 0.5       , 0.13953488,\n",
              "        0.79032258],\n",
              "       [0.21153846, 0.19607843, 0.13253012, 0.17714724, 0.115727  ,\n",
              "        0.13937282, 0.35730858, 0.16560632, 0.43636364, 0.27906977,\n",
              "        0.33870968]])"
            ]
          },
          "execution_count": 107,
          "metadata": {},
          "output_type": "execute_result"
        }
      ],
      "source": [
        "white_wine_test_features[0:5]"
      ]
    },
    {
      "cell_type": "code",
      "execution_count": 108,
      "metadata": {
        "id": "7k_r9bxaOCbQ"
      },
      "outputs": [],
      "source": [
        "# We can go ahead to use model_2 as the data structure for both datasets is the same\n",
        "white_wine_model = tf.keras.models.clone_model(red_wine_model_2)\n",
        "white_wine_model.compile(loss = tf.keras.losses.mae,\n",
        "                         optimizer = tf.keras.optimizers.Adam(learning_rate = 0.001),\n",
        "                         metrics = tf.keras.losses.mse)\n",
        "white_wine_result = white_wine_model.fit(white_wine_train_features, white_wine_train_labels, epochs = 100, verbose = 0)"
      ]
    },
    {
      "cell_type": "code",
      "execution_count": 109,
      "metadata": {
        "colab": {
          "base_uri": "https://localhost:8080/"
        },
        "id": "Vs1bkgz2YTPb",
        "outputId": "400b79c9-9d70-4600-d1a3-f4ca69fbafec"
      },
      "outputs": [
        {
          "name": "stdout",
          "output_type": "stream",
          "text": [
            "Model: \"sequential_16\"\n",
            "_________________________________________________________________\n",
            " Layer (type)                Output Shape              Param #   \n",
            "=================================================================\n",
            " dense_102 (Dense)           (None, 50)                600       \n",
            "                                                                 \n",
            " dense_103 (Dense)           (None, 100)               5100      \n",
            "                                                                 \n",
            " dense_104 (Dense)           (None, 100)               10100     \n",
            "                                                                 \n",
            " dense_105 (Dense)           (None, 100)               10100     \n",
            "                                                                 \n",
            " dense_106 (Dense)           (None, 50)                5050      \n",
            "                                                                 \n",
            " dense_107 (Dense)           (None, 1)                 51        \n",
            "                                                                 \n",
            "=================================================================\n",
            "Total params: 31001 (121.10 KB)\n",
            "Trainable params: 31001 (121.10 KB)\n",
            "Non-trainable params: 0 (0.00 Byte)\n",
            "_________________________________________________________________\n"
          ]
        }
      ],
      "source": [
        "white_wine_model.summary()"
      ]
    },
    {
      "cell_type": "code",
      "execution_count": 110,
      "metadata": {
        "colab": {
          "base_uri": "https://localhost:8080/"
        },
        "id": "VVNYEu2pPW4W",
        "outputId": "06f815a7-94ad-420e-815e-eb990845d0bd"
      },
      "outputs": [
        {
          "name": "stdout",
          "output_type": "stream",
          "text": [
            "31/31 [==============================] - 0s 2ms/step - loss: 0.6060 - mean_squared_error: 0.6230\n"
          ]
        },
        {
          "data": {
            "text/plain": [
              "[0.6059960126876831, 0.6229993104934692]"
            ]
          },
          "execution_count": 110,
          "metadata": {},
          "output_type": "execute_result"
        }
      ],
      "source": [
        "white_wine_model.evaluate(white_wine_test_features, white_wine_test_labels)"
      ]
    },
    {
      "cell_type": "code",
      "execution_count": 111,
      "metadata": {
        "colab": {
          "base_uri": "https://localhost:8080/",
          "height": 466
        },
        "id": "w8dB4WkvPvye",
        "outputId": "2740ef9a-ef2d-45d6-e5c3-571a05b201db"
      },
      "outputs": [
        {
          "data": {
            "text/plain": [
              "Text(0.5, 0, 'Epochs')"
            ]
          },
          "execution_count": 111,
          "metadata": {},
          "output_type": "execute_result"
        },
        {
          "data": {
            "image/png": "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",
            "text/plain": [
              "<Figure size 640x480 with 1 Axes>"
            ]
          },
          "metadata": {},
          "output_type": "display_data"
        }
      ],
      "source": [
        "pd.DataFrame(white_wine_result.history).plot()\n",
        "plt.ylabel(\"Loss\")\n",
        "plt.xlabel(\"Epochs\")"
      ]
    },
    {
      "cell_type": "code",
      "execution_count": 112,
      "metadata": {
        "colab": {
          "base_uri": "https://localhost:8080/"
        },
        "id": "3oI-qXEPR3ya",
        "outputId": "d8d185ba-085e-4042-a615-ab4cc67ed83c"
      },
      "outputs": [
        {
          "name": "stdout",
          "output_type": "stream",
          "text": [
            "1/1 [==============================] - 0s 79ms/step\n"
          ]
        },
        {
          "data": {
            "text/plain": [
              "array([[5.387923 ],\n",
              "       [5.338182 ],\n",
              "       [6.3744235],\n",
              "       [7.1887918],\n",
              "       [5.5724387]], dtype=float32)"
            ]
          },
          "execution_count": 112,
          "metadata": {},
          "output_type": "execute_result"
        }
      ],
      "source": [
        "white_wine_model.predict(white_wine_test_features[0:5])"
      ]
    },
    {
      "cell_type": "markdown",
      "metadata": {
        "id": "CK1gN8z2TOu3"
      },
      "source": [
        "## Final Anaylsis"
      ]
    },
    {
      "cell_type": "code",
      "execution_count": 113,
      "metadata": {
        "id": "yoc9JIYpXcA9"
      },
      "outputs": [],
      "source": [
        "# Saving model using saved model format\n",
        "red_wine_model_2.save(\"Red-Wine-Quality-Prediction-Model\")\n",
        "white_wine_model.save(\"White-Wine-Quality-Prediction-Model\")"
      ]
    },
    {
      "cell_type": "code",
      "execution_count": 114,
      "metadata": {
        "colab": {
          "base_uri": "https://localhost:8080/"
        },
        "id": "L1fSb7onXqc5",
        "outputId": "5ee511b3-9d5b-401a-b1f7-442e2617551a"
      },
      "outputs": [
        {
          "name": "stdout",
          "output_type": "stream",
          "text": [
            "assets\tfingerprint.pb\tkeras_metadata.pb  saved_model.pb  variables\n"
          ]
        }
      ],
      "source": [
        "!ls Red-Wine-Quality-Prediction-Model"
      ]
    },
    {
      "cell_type": "code",
      "execution_count": 115,
      "metadata": {
        "colab": {
          "base_uri": "https://localhost:8080/"
        },
        "id": "xslgdqGlaqFf",
        "outputId": "9db43335-5961-49b3-924c-626766655d76"
      },
      "outputs": [
        {
          "name": "stdout",
          "output_type": "stream",
          "text": [
            "assets\tfingerprint.pb\tkeras_metadata.pb  saved_model.pb  variables\n"
          ]
        }
      ],
      "source": [
        "!ls White-Wine-Quality-Prediction-Model"
      ]
    },
    {
      "cell_type": "code",
      "execution_count": 116,
      "metadata": {
        "colab": {
          "base_uri": "https://localhost:8080/"
        },
        "id": "0GjCJlo3X9jV",
        "outputId": "9f0bdcff-ec86-4c34-a914-c4062ad4d7e7"
      },
      "outputs": [
        {
          "name": "stdout",
          "output_type": "stream",
          "text": [
            "Model: \"sequential_16\"\n",
            "_________________________________________________________________\n",
            " Layer (type)                Output Shape              Param #   \n",
            "=================================================================\n",
            " dense_102 (Dense)           (None, 50)                600       \n",
            "                                                                 \n",
            " dense_103 (Dense)           (None, 100)               5100      \n",
            "                                                                 \n",
            " dense_104 (Dense)           (None, 100)               10100     \n",
            "                                                                 \n",
            " dense_105 (Dense)           (None, 100)               10100     \n",
            "                                                                 \n",
            " dense_106 (Dense)           (None, 50)                5050      \n",
            "                                                                 \n",
            " dense_107 (Dense)           (None, 1)                 51        \n",
            "                                                                 \n",
            "=================================================================\n",
            "Total params: 31001 (121.10 KB)\n",
            "Trainable params: 31001 (121.10 KB)\n",
            "Non-trainable params: 0 (0.00 Byte)\n",
            "_________________________________________________________________\n"
          ]
        }
      ],
      "source": [
        "# Load a model from the SavedModel format\n",
        "red_wine_loaded_model = tf.keras.models.load_model(\"Red-Wine-Quality-Prediction-Model\")\n",
        "red_wine_loaded_model.summary()"
      ]
    },
    {
      "cell_type": "code",
      "execution_count": 117,
      "metadata": {
        "colab": {
          "base_uri": "https://localhost:8080/"
        },
        "id": "t-5wFi-MaxjR",
        "outputId": "0ab16abe-50cd-4a7a-b835-42a8094f1929"
      },
      "outputs": [
        {
          "name": "stdout",
          "output_type": "stream",
          "text": [
            "Model: \"sequential_16\"\n",
            "_________________________________________________________________\n",
            " Layer (type)                Output Shape              Param #   \n",
            "=================================================================\n",
            " dense_102 (Dense)           (None, 50)                600       \n",
            "                                                                 \n",
            " dense_103 (Dense)           (None, 100)               5100      \n",
            "                                                                 \n",
            " dense_104 (Dense)           (None, 100)               10100     \n",
            "                                                                 \n",
            " dense_105 (Dense)           (None, 100)               10100     \n",
            "                                                                 \n",
            " dense_106 (Dense)           (None, 50)                5050      \n",
            "                                                                 \n",
            " dense_107 (Dense)           (None, 1)                 51        \n",
            "                                                                 \n",
            "=================================================================\n",
            "Total params: 31001 (121.10 KB)\n",
            "Trainable params: 31001 (121.10 KB)\n",
            "Non-trainable params: 0 (0.00 Byte)\n",
            "_________________________________________________________________\n"
          ]
        }
      ],
      "source": [
        "white_wine_loaded_model = tf.keras.models.load_model(\"White-Wine-Quality-Prediction-Model\")\n",
        "white_wine_loaded_model.summary()"
      ]
    },
    {
      "cell_type": "code",
      "execution_count": 118,
      "metadata": {
        "colab": {
          "base_uri": "https://localhost:8080/"
        },
        "id": "B8rBqPMDYxev",
        "outputId": "28738329-1f19-400f-c686-51894112332c"
      },
      "outputs": [
        {
          "name": "stdout",
          "output_type": "stream",
          "text": [
            "10/10 [==============================] - 0s 2ms/step - loss: 0.4615 - mean_squared_error: 0.4379\n"
          ]
        },
        {
          "data": {
            "text/plain": [
              "[0.4615282118320465, 0.4378966689109802]"
            ]
          },
          "execution_count": 118,
          "metadata": {},
          "output_type": "execute_result"
        }
      ],
      "source": [
        "red_wine_loaded_model.evaluate(red_wine_test_features, red_wine_test_labels)"
      ]
    },
    {
      "cell_type": "code",
      "execution_count": 119,
      "metadata": {
        "colab": {
          "base_uri": "https://localhost:8080/"
        },
        "id": "IjlMDFJXZbT6",
        "outputId": "0e045a9e-9265-4e0b-816e-4da77131b6b6"
      },
      "outputs": [
        {
          "name": "stdout",
          "output_type": "stream",
          "text": [
            "31/31 [==============================] - 0s 2ms/step - loss: 0.6060 - mean_squared_error: 0.6230\n"
          ]
        },
        {
          "data": {
            "text/plain": [
              "[0.6059960126876831, 0.6229993104934692]"
            ]
          },
          "execution_count": 119,
          "metadata": {},
          "output_type": "execute_result"
        }
      ],
      "source": [
        "white_wine_loaded_model.evaluate(white_wine_test_features, white_wine_test_labels)"
      ]
    }
<<<<<<< HEAD
  ],
  "metadata": {
    "colab": {
      "provenance": []
    },
    "kernelspec": {
      "display_name": "Python 3",
      "name": "python3"
    },
    "language_info": {
      "name": "python"
    }
  },
  "nbformat": 4,
  "nbformat_minor": 0
=======
  ]
>>>>>>> 7aa74acf5eb74dc2b0d0296fca19469d770b44ea
}
